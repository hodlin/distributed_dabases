{
 "cells": [
  {
   "cell_type": "code",
   "execution_count": 1,
   "metadata": {},
   "outputs": [],
   "source": [
    "import psycopg2\n",
    "from psycopg2.extras import DictCursor"
   ]
  },
  {
   "cell_type": "markdown",
   "metadata": {},
   "source": [
    "#### Database connection settings"
   ]
  },
  {
   "cell_type": "code",
   "execution_count": 2,
   "metadata": {},
   "outputs": [],
   "source": [
    "db_settings = {\n",
    "    'flight': {\n",
    "        'host': \"localhost\",\n",
    "        'port': 5001,\n",
    "        'database': \"postgres\",\n",
    "        'user': \"postgres\",\n",
    "        'password': \"pgpass\"\n",
    "    },\n",
    "    'hotel': {\n",
    "        'host': \"localhost\",\n",
    "        'port': 5002,\n",
    "        'database': \"postgres\",\n",
    "        'user': \"postgres\",\n",
    "        'password': \"pgpass\"\n",
    "    },\n",
    "    'account': {\n",
    "        'host': \"localhost\",\n",
    "        'port': 5003,\n",
    "        'database': \"postgres\",\n",
    "        'user': \"postgres\",\n",
    "        'password': \"pgpass\"\n",
    "    },\n",
    "}"
   ]
  },
  {
   "cell_type": "markdown",
   "metadata": {},
   "source": [
    "#### Initialization functions"
   ]
  },
  {
   "cell_type": "code",
   "execution_count": 3,
   "metadata": {},
   "outputs": [],
   "source": [
    "def db_init(query, connection):\n",
    "    with connection.cursor() as cursor:\n",
    "        try:\n",
    "            cursor.execute(query)\n",
    "            connection.commit()\n",
    "            print('Table created')\n",
    "        except Exception as e:\n",
    "            print(e)\n",
    "            connection.rollback()\n",
    "\n",
    "def flight_init(connection):\n",
    "    query = '''\n",
    "    drop table if exists flight_booking;\n",
    "    create table flight_booking(\n",
    "        booking_id serial primary key,\n",
    "        client_name varchar(255),\n",
    "        flight_number  varchar(255),\n",
    "        airpot_of_departure varchar(255),\n",
    "        destination_airport varchar(255),\n",
    "        date int\n",
    "    );\n",
    "    truncate table flight_booking;\n",
    "    '''\n",
    "    db_init(query, connection)\n",
    "\n",
    "def hotel_init(connection):\n",
    "    query = '''\n",
    "    drop table if exists hotel_booking;\n",
    "    create table hotel_booking(\n",
    "        booking_id serial primary key,\n",
    "        client_name varchar(255),\n",
    "        hotel_name  varchar(255),\n",
    "        check_in_date int,   \n",
    "        check_out_date int\n",
    "    );\n",
    "    truncate table hotel_booking;\n",
    "    '''\n",
    "    db_init(query, connection)\n",
    "\n",
    "def account_init(connection):\n",
    "    query = '''\n",
    "    drop table if exists account;\n",
    "    create table account(\n",
    "        account_id serial primary key,\n",
    "        client_name varchar(255),\n",
    "        deposit int check (deposit >= 0)\n",
    "    );\n",
    "    truncate table account;\n",
    "    insert into account(client_name, deposit) \n",
    "    values \n",
    "    ('Dmytro Domin', 100)\n",
    "    '''\n",
    "    db_init(query, connection)\n",
    "\n",
    "def add_reservation(client_name, flight_record, hotel_record, connections):\n",
    "    flight_query = '''\n",
    "        insert into flight_booking(client_name, flight_number, airpot_of_departure, destination_airport, date)\n",
    "        values\n",
    "        ('{}', '{}', '{}', '{}', {});\n",
    "    '''.format(client_name, *flight_record)\n",
    "    hotel_query = '''\n",
    "        insert into hotel_booking(client_name, hotel_name, check_in_date, check_out_date)\n",
    "        values\n",
    "        ('{}', '{}', {}, {});\n",
    "    '''.format(client_name, *hotel_record)\n",
    "    account_query = '''\n",
    "        update account set deposit = deposit - 36 WHERE client_name = '{}';\n",
    "    '''.format(client_name)\n",
    "    \n",
    "    \n",
    "    transaction_id = connections['flight'].xid(1,'abc','de')\n",
    "    \n",
    "    try:\n",
    "        cursors = dict()\n",
    "        for connection_name, connection in connections.items():\n",
    "            connection.tpc_begin(transaction_id)\n",
    "            cursors.update({connection_name: connection.cursor()})\n",
    "        \n",
    "        if 'flight' in cursors.keys():\n",
    "            cursors['flight'].execute(flight_query)\n",
    "        if 'hotel' in cursors.keys():\n",
    "            cursors['hotel'].execute(hotel_query)\n",
    "        if 'account' in cursors.keys():\n",
    "            cursors['account'].execute(account_query)\n",
    "\n",
    "        for connection_name, connection in connections.items():\n",
    "            connection.tpc_prepare()\n",
    "\n",
    "        for connection_name, connection in connections.items():\n",
    "            connection.tpc_commit()\n",
    "\n",
    "        return transaction_id, True\n",
    "\n",
    "    except Exception as e:\n",
    "        print(e)\n",
    "        for connection_name, connection in connections.items():\n",
    "                    connection.tpc_rollback()\n",
    "        return transaction_id, False"
   ]
  },
  {
   "cell_type": "markdown",
   "metadata": {},
   "source": [
    "### Working with flight and hotel databases on two phase commit "
   ]
  },
  {
   "cell_type": "code",
   "execution_count": 4,
   "metadata": {},
   "outputs": [
    {
     "name": "stdout",
     "output_type": "stream",
     "text": [
      "Table created\n",
      "Table created\n"
     ]
    }
   ],
   "source": [
    "connections = db_connections = {\n",
    "    'flight': psycopg2.connect(**db_settings['flight']),\n",
    "    'hotel': psycopg2.connect(**db_settings['hotel']),\n",
    "    }\n",
    "    \n",
    "flight_init(connections['flight'])\n",
    "hotel_init(connections['hotel'])"
   ]
  },
  {
   "cell_type": "code",
   "execution_count": 5,
   "metadata": {},
   "outputs": [
    {
     "name": "stdout",
     "output_type": "stream",
     "text": [
      "flight_booking table records:\n",
      "[1, 'Ivan Baran', 'FR3069', 'KBP', 'BCN', 20220115]\n",
      "hotel_booking table records:\n",
      "[1, 'Ivan Baran', 'Radisson', 20220115, 20220121]\n"
     ]
    }
   ],
   "source": [
    "client_name = 'Ivan Baran'\n",
    "flight_booking = ('FR3069', 'KBP', 'BCN', 20220115)\n",
    "hotel_booking = ('Radisson', 20220115, 20220121)\n",
    "\n",
    "add_reservation(client_name, flight_booking, hotel_booking, connections)\n",
    "\n",
    "with connections['flight'].cursor(cursor_factory=DictCursor) as flight_curcor, connections['hotel'].cursor(cursor_factory=DictCursor) as hotel_curcor:\n",
    "    try:\n",
    "        flight_curcor.execute('select * from flight_booking;')\n",
    "        hotel_curcor.execute('select * from hotel_booking;')\n",
    "\n",
    "        flight_records = flight_curcor.fetchall()\n",
    "        hotel_records = hotel_curcor.fetchall()\n",
    "\n",
    "        connections['flight'].commit()\n",
    "        connections['hotel'].commit()\n",
    "    except Exception as e:\n",
    "        print(e)\n",
    "        connections['flight'].rollback()\n",
    "        connections['hotel'].rollback()\n",
    "\n",
    "print('flight_booking table records:')\n",
    "for row in flight_records:\n",
    "    print(row)\n",
    "\n",
    "print('hotel_booking table records:')\n",
    "for row in hotel_records:\n",
    "    print(row)\n",
    "\n",
    "\n",
    "\n",
    "    # ('Stepan Baran', 'FR7262', 'KRK', 'KBP', 20220115),\n",
    "    # ('Petro Baran', 'PQ482', 'DXB', 'KBP', 20220115),\n",
    "    # ('Mykola Baran', 'W66286', 'TLL', 'IEV', 20220115),\n",
    "    # ('Fedir Baran', 'W66127 ', 'IEV', 'VIE', 20220115),\n",
    "\n",
    "    # ('Ivan Baran', 'Radisson', 20220115, 20220121),\n",
    "    # ('Stepan Baran', 'Premier', 20220115, 20220121),\n",
    "    # ('Petro Baran', 'Hiltons', 20220115, 20220121),\n",
    "    # ('Mykola Baran', 'U Stepana', 20220115, 20220121),\n",
    "    # ('Fedir Baran', 'Mozzart Pallace ', 20220115, 20220121),"
   ]
  },
  {
   "cell_type": "code",
   "execution_count": 6,
   "metadata": {},
   "outputs": [
    {
     "name": "stdout",
     "output_type": "stream",
     "text": [
      "flight_booking table records:\n",
      "[1, 'Ivan Baran', 'FR3069', 'KBP', 'BCN', 20220115]\n",
      "[2, 'Stepan Baran', 'FR7262', 'KRK', 'KBP', 20220115]\n",
      "hotel_booking table records:\n",
      "[1, 'Ivan Baran', 'Radisson', 20220115, 20220121]\n",
      "[2, 'Stepan Baran', 'Premier', 20220115, 20220121]\n"
     ]
    }
   ],
   "source": [
    "client_name = 'Stepan Baran'\n",
    "flight_booking = ('FR7262', 'KRK', 'KBP', 20220115)\n",
    "hotel_booking = ('Premier', 20220115, 20220121)\n",
    "\n",
    "add_reservation(client_name, flight_booking, hotel_booking, connections)\n",
    "\n",
    "with connections['flight'].cursor(cursor_factory=DictCursor) as flight_curcor, connections['hotel'].cursor(cursor_factory=DictCursor) as hotel_curcor:\n",
    "    try:\n",
    "        flight_curcor.execute('select * from flight_booking;')\n",
    "        hotel_curcor.execute('select * from hotel_booking;')\n",
    "\n",
    "        flight_records = flight_curcor.fetchall()\n",
    "        hotel_records = hotel_curcor.fetchall()\n",
    "\n",
    "        connections['flight'].commit()\n",
    "        connections['hotel'].commit()\n",
    "    except Exception as e:\n",
    "        print(e)\n",
    "        connections['flight'].rollback()\n",
    "        connections['hotel'].rollback()\n",
    "\n",
    "print('flight_booking table records:')\n",
    "for row in flight_records:\n",
    "    print(row)\n",
    "\n",
    "print('hotel_booking table records:')\n",
    "for row in hotel_records:\n",
    "    print(row)"
   ]
  },
  {
   "cell_type": "code",
   "execution_count": 7,
   "metadata": {},
   "outputs": [
    {
     "name": "stdout",
     "output_type": "stream",
     "text": [
      "flight_booking table records:\n",
      "[1, 'Ivan Baran', 'FR3069', 'KBP', 'BCN', 20220115]\n",
      "[2, 'Stepan Baran', 'FR7262', 'KRK', 'KBP', 20220115]\n",
      "[3, 'Petro Baran', 'PQ482', 'DXB', 'KBP', 20220115]\n",
      "hotel_booking table records:\n",
      "[1, 'Ivan Baran', 'Radisson', 20220115, 20220121]\n",
      "[2, 'Stepan Baran', 'Premier', 20220115, 20220121]\n",
      "[3, 'Petro Baran', 'Hiltons', 20220115, 20220121]\n"
     ]
    }
   ],
   "source": [
    "client_name = 'Petro Baran'\n",
    "flight_booking = ('PQ482', 'DXB', 'KBP', 20220115)\n",
    "hotel_booking = ('Hiltons', 20220115, 20220121)\n",
    "\n",
    "add_reservation(client_name, flight_booking, hotel_booking, connections)\n",
    "\n",
    "with connections['flight'].cursor(cursor_factory=DictCursor) as flight_curcor, connections['hotel'].cursor(cursor_factory=DictCursor) as hotel_curcor:\n",
    "    try:\n",
    "        flight_curcor.execute('select * from flight_booking;')\n",
    "        hotel_curcor.execute('select * from hotel_booking;')\n",
    "\n",
    "        flight_records = flight_curcor.fetchall()\n",
    "        hotel_records = hotel_curcor.fetchall()\n",
    "\n",
    "        connections['flight'].commit()\n",
    "        connections['hotel'].commit()\n",
    "    except Exception as e:\n",
    "        print(e)\n",
    "        connections['flight'].rollback()\n",
    "        connections['hotel'].rollback()\n",
    "\n",
    "print('flight_booking table records:')\n",
    "for row in flight_records:\n",
    "    print(row)\n",
    "\n",
    "print('hotel_booking table records:')\n",
    "for row in hotel_records:\n",
    "    print(row)"
   ]
  },
  {
   "cell_type": "code",
   "execution_count": 8,
   "metadata": {},
   "outputs": [],
   "source": [
    "for connection in connections.values():\n",
    "    connection.close()"
   ]
  },
  {
   "cell_type": "code",
   "execution_count": null,
   "metadata": {},
   "outputs": [],
   "source": []
  },
  {
   "cell_type": "code",
   "execution_count": null,
   "metadata": {},
   "outputs": [],
   "source": [
    "connections = db_connections = {\n",
    "    'flight': psycopg2.connect(**db_settings['flight']),\n",
    "    'hotel': psycopg2.connect(**db_settings['hotel']),\n",
    "    'account': psycopg2.connect(**db_settings['account']),\n",
    "    }\n",
    "    \n",
    "flight_init(connections['flight'])\n",
    "hotel_init(connections['hotel'])\n",
    "account_init(connections['account'])"
   ]
  }
 ],
 "metadata": {
  "interpreter": {
   "hash": "4296a99471eb705c49dec4020f0212abd0a2c99e809a04ecfa289b1b30a51b57"
  },
  "kernelspec": {
   "display_name": "Python 3.8.12 64-bit ('distributed_databases_env': conda)",
   "language": "python",
   "name": "python3"
  },
  "language_info": {
   "codemirror_mode": {
    "name": "ipython",
    "version": 3
   },
   "file_extension": ".py",
   "mimetype": "text/x-python",
   "name": "python",
   "nbconvert_exporter": "python",
   "pygments_lexer": "ipython3",
   "version": "3.8.12"
  },
  "orig_nbformat": 4
 },
 "nbformat": 4,
 "nbformat_minor": 2
}
