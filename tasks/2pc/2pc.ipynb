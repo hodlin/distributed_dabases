{
 "cells": [
  {
   "cell_type": "code",
   "execution_count": 1,
   "metadata": {},
   "outputs": [],
   "source": [
    "import psycopg2"
   ]
  },
  {
   "cell_type": "markdown",
   "metadata": {},
   "source": [
    "#### Database connection settings"
   ]
  },
  {
   "cell_type": "code",
   "execution_count": 2,
   "metadata": {},
   "outputs": [],
   "source": [
    "db_settings = {\n",
    "    'flight': {\n",
    "        'host': \"localhost\",\n",
    "        'port': 5001,\n",
    "        'database': \"postgres\",\n",
    "        'user': \"postgres\",\n",
    "        'password': \"pgpass\"\n",
    "    },\n",
    "    'hotel': {\n",
    "        'host': \"localhost\",\n",
    "        'port': 5002,\n",
    "        'database': \"postgres\",\n",
    "        'user': \"postgres\",\n",
    "        'password': \"pgpass\"\n",
    "    },\n",
    "    'account': {\n",
    "        'host': \"localhost\",\n",
    "        'port': 5003,\n",
    "        'database': \"postgres\",\n",
    "        'user': \"postgres\",\n",
    "        'password': \"pgpass\"\n",
    "    },\n",
    "}"
   ]
  },
  {
   "cell_type": "markdown",
   "metadata": {},
   "source": [
    "#### Initialization"
   ]
  },
  {
   "cell_type": "code",
   "execution_count": 3,
   "metadata": {},
   "outputs": [
    {
     "name": "stdout",
     "output_type": "stream",
     "text": [
      "('flight', <connection object at 0x00000215323F4AE0; dsn: 'user=postgres password=xxx dbname=postgres host=localhost port=5001', closed: 0>) version: 110014\n",
      "('hotel', <connection object at 0x00000215323F4BF0; dsn: 'user=postgres password=xxx dbname=postgres host=localhost port=5002', closed: 0>) version: 110014\n",
      "('account', <connection object at 0x00000215323F4D00; dsn: 'user=postgres password=xxx dbname=postgres host=localhost port=5003', closed: 0>) version: 110014\n"
     ]
    }
   ],
   "source": [
    "db_connections = {\n",
    "    'flight': psycopg2.connect(**db_settings['flight']),\n",
    "    'hotel': psycopg2.connect(**db_settings['hotel']),\n",
    "    'account': psycopg2.connect(**db_settings['account']),\n",
    "}\n",
    "\n",
    "for item in db_connections.items():\n",
    "    print(item, f'version: {item[1].server_version}')"
   ]
  },
  {
   "cell_type": "code",
   "execution_count": 4,
   "metadata": {},
   "outputs": [
    {
     "name": "stdout",
     "output_type": "stream",
     "text": [
      "flight_booking tables created in flight database\n"
     ]
    }
   ],
   "source": [
    "query = '''\n",
    "drop table if exists flight_booking;\n",
    "create table flight_booking(\n",
    "    booking_id serial primary key,\n",
    "    client_name varchar(255),\n",
    "    flight_number  varchar(255),   -- SCD1 attribure\n",
    "    airpot_of_departure varchar(255),      -- SCD2 attribure\n",
    "    destination_airport varchar(255), -- SCD2 attribure\n",
    "    date int\n",
    ");\n",
    "truncate table flight_booking;\n",
    "'''\n",
    "with db_connections['flight'].cursor() as cursor:\n",
    "    try:\n",
    "        cursor.execute(query)\n",
    "        db_connections['flight'].commit()\n",
    "        print('flight_booking tables created in flight database')\n",
    "    except Exception as e:\n",
    "        print(e)\n",
    "        db_connections['flight'].rollback()"
   ]
  },
  {
   "cell_type": "code",
   "execution_count": 5,
   "metadata": {},
   "outputs": [
    {
     "name": "stdout",
     "output_type": "stream",
     "text": [
      "hotel_booking tables created in hotel database\n"
     ]
    }
   ],
   "source": [
    "query = '''\n",
    "drop table if exists hotel_booking;\n",
    "create table hotel_booking(\n",
    "    booking_id serial primary key,\n",
    "    client_name varchar(255),\n",
    "    hotel_name  varchar(255),\n",
    "    check_in_date int,   \n",
    "    check_out_date int\n",
    ");\n",
    "truncate table hotel_booking;\n",
    "'''\n",
    "with db_connections['hotel'].cursor() as cursor:\n",
    "    try:\n",
    "        cursor.execute(query)\n",
    "        db_connections['hotel'].commit()\n",
    "        print('hotel_booking tables created in hotel database')\n",
    "    except Exception as e:\n",
    "        print(e)\n",
    "        db_connections['hotel'].rollback()"
   ]
  },
  {
   "cell_type": "code",
   "execution_count": 6,
   "metadata": {},
   "outputs": [
    {
     "name": "stdout",
     "output_type": "stream",
     "text": [
      "account tables created in account database, user added\n"
     ]
    }
   ],
   "source": [
    "query = '''\n",
    "drop table if exists account;\n",
    "create table account(\n",
    "    account_id serial primary key,\n",
    "    client_name varchar(255),\n",
    "    deposit int check (deposit >= 0)\n",
    ");\n",
    "truncate table account;\n",
    "insert into account(client_name, deposit) \n",
    "values \n",
    "('Dmytro Domin', 100)\n",
    "'''\n",
    "with db_connections['account'].cursor() as cursor:\n",
    "    try:\n",
    "        cursor.execute(query)\n",
    "        db_connections['account'].commit()\n",
    "        print('account tables created in account database, user added')\n",
    "    except Exception as e:\n",
    "        print(e)\n",
    "        db_connections['account'].rollback()"
   ]
  },
  {
   "cell_type": "code",
   "execution_count": 7,
   "metadata": {},
   "outputs": [],
   "source": [
    "for connection in db_connections.values():\n",
    "    connection.close()"
   ]
  },
  {
   "cell_type": "markdown",
   "metadata": {},
   "source": [
    "### Working with flight and hotel databases with two phase commit "
   ]
  },
  {
   "cell_type": "code",
   "execution_count": 8,
   "metadata": {},
   "outputs": [],
   "source": [
    "def add_reservation(flight_record, hotel_record, flight_connection, hotel_connection):\n",
    "    flight_query = '''\n",
    "        insert into flight_booking(booking_id, client_name, flight_number, airpot_of_departure, destination_airport, date)\n",
    "        values\n",
    "        ({}, '{}', '{}', '{}', '{}', {});\n",
    "    '''.format(*flight_record)\n",
    "    hotel_query = '''\n",
    "        insert into hotel_booking(booking_id, client_name, hotel_name, check_in_date, check_out_date)\n",
    "        values\n",
    "        ({}, '{}', '{}', {}, {});\n",
    "    '''.format(*hotel_record)\n",
    "    \n",
    "    \n",
    "    transaction_id = flight_connection.xid(1,'abc','de')\n",
    "    \n",
    "    with flight_connection.cursor() as flight_cursor, hotel_connection.cursor() as hotel_cursor:\n",
    "        try:\n",
    "            flight_connection.tpc_begin(transaction_id)\n",
    "            hotel_connection.tpc_begin(transaction_id)\n",
    "            flight_cursor.execute(flight_query)\n",
    "            hotel_cursor.execute(hotel_query)\n",
    "            flight_connection.tpc_prepare()\n",
    "            hotel_connection.tpc_prepare()\n",
    "            flight_connection.tpc_commit()\n",
    "            hotel_connection.tpc_commit()\n",
    "            return transaction_id, True\n",
    "        except Exception as e:\n",
    "            print(e)\n",
    "            flight_connection.tpc_rollback()\n",
    "            hotel_connection.tpc_rollback()\n",
    "            return transaction_id, False"
   ]
  },
  {
   "cell_type": "code",
   "execution_count": 9,
   "metadata": {},
   "outputs": [
    {
     "name": "stdout",
     "output_type": "stream",
     "text": [
      "('flight', <connection object at 0x00000215325B1370; dsn: 'user=postgres password=xxx dbname=postgres host=localhost port=5001', closed: 0>) version: 110014\n",
      "('hotel', <connection object at 0x00000215325B1040; dsn: 'user=postgres password=xxx dbname=postgres host=localhost port=5002', closed: 0>) version: 110014\n",
      "Transaction 1_YWJj_ZGU= done: True\n",
      "Transaction 1_YWJj_ZGU= done: True\n",
      "Transaction 1_YWJj_ZGU= done: True\n",
      "Transaction 1_YWJj_ZGU= done: True\n",
      "Transaction 1_YWJj_ZGU= done: True\n",
      "duplicate key value violates unique constraint \"flight_booking_pkey\"\n",
      "DETAIL:  Key (booking_id)=(5) already exists.\n",
      "\n",
      "(<Xid: (1, 'abc', 'de')>, False)\n"
     ]
    }
   ],
   "source": [
    "flight_bookings_to_insert = [\n",
    "    (1, 'Ivan Baran', 'FR3069', 'KBP', 'BCN', 20220115),\n",
    "    (2, 'Stepan Baran', 'FR7262', 'KRK', 'KBP', 20220115),\n",
    "    (3, 'Petro Baran', 'PQ482', 'DXB', 'KBP', 20220115),\n",
    "    (4, 'Mykola Baran', 'W66286', 'TLL', 'IEV', 20220115),\n",
    "    (5, 'Fedir Baran', 'W66127 ', 'IEV', 'VIE', 20220115),\n",
    "]\n",
    "\n",
    "hotel_bookings_to_insert = [\n",
    "    (1, 'Ivan Baran', 'Radisson', 20220115, 20220121),\n",
    "    (2, 'Stepan Baran', 'Premier', 20220115, 20220121),\n",
    "    (3, 'Petro Baran', 'Hiltons', 20220115, 20220121),\n",
    "    (4, 'Mykola Baran', 'U Stepana', 20220115, 20220121),\n",
    "    (5, 'Fedir Baran', 'Mozzart Pallace ', 20220115, 20220121),\n",
    "]\n",
    "\n",
    "try:\n",
    "    connections = db_connections = {\n",
    "    'flight': psycopg2.connect(**db_settings['flight']),\n",
    "    'hotel': psycopg2.connect(**db_settings['hotel']),\n",
    "    }\n",
    "\n",
    "    # Happy Path\n",
    "    for item in db_connections.items():\n",
    "            print(item, f'version: {item[1].server_version}')\n",
    "\n",
    "    for flight_booking, hotel_booking in zip (flight_bookings_to_insert, hotel_bookings_to_insert):\n",
    "        transaction_id, transaction_commited = add_reservation(\n",
    "            flight_booking,\n",
    "            hotel_booking, \n",
    "            connections['flight'], \n",
    "            connections['hotel']\n",
    "        )\n",
    "        print(f'Transaction {transaction_id} done: {transaction_commited}')\n",
    "\n",
    "    # Unhappy Path\n",
    "    print(\n",
    "        add_reservation(\n",
    "            flight_booking,\n",
    "            hotel_booking, \n",
    "            connections['flight'], \n",
    "            connections['hotel']\n",
    "        )\n",
    "    )\n",
    "        \n",
    "finally:\n",
    "    for connection in connections.values():\n",
    "        connection.close()"
   ]
  },
  {
   "cell_type": "code",
   "execution_count": null,
   "metadata": {},
   "outputs": [],
   "source": [
    "for connection in connections.values():\n",
    "    connection.close()"
   ]
  }
 ],
 "metadata": {
  "interpreter": {
   "hash": "4296a99471eb705c49dec4020f0212abd0a2c99e809a04ecfa289b1b30a51b57"
  },
  "kernelspec": {
   "display_name": "Python 3.8.12 64-bit ('distributed_databases_env': conda)",
   "language": "python",
   "name": "python3"
  },
  "language_info": {
   "codemirror_mode": {
    "name": "ipython",
    "version": 3
   },
   "file_extension": ".py",
   "mimetype": "text/x-python",
   "name": "python",
   "nbconvert_exporter": "python",
   "pygments_lexer": "ipython3",
   "version": "3.8.12"
  },
  "orig_nbformat": 4
 },
 "nbformat": 4,
 "nbformat_minor": 2
}
