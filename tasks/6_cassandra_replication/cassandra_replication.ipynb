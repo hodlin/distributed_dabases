{
 "cells": [
  {
   "cell_type": "markdown",
   "metadata": {},
   "source": [
    "#### Task 1\n",
    "\n",
    "Set up cssandra cluster of three nodes\n",
    "* https://hub.docker.com/_/cassandra \n",
    "* https://gokhanatil.com/2018/02/build-a-cassandra-cluster-on-docker.html \n",
    "* https://www.jamescoyle.net/how-to/2448-create-a-simple-cassandra-cluster-with-3-nodes\n",
    "* https://www.digitalocean.com/community/tutorials/how-to-run-a-multi-node-cluster-database-with-cassandra-on-ubuntu-14-04\n"
   ]
  },
  {
   "cell_type": "markdown",
   "metadata": {},
   "source": [
    "Cassandra cluster is configured with docker compose.\n",
    "\n",
    "Check file *docker-compose.yml* in this repo."
   ]
  },
  {
   "cell_type": "markdown",
   "metadata": {},
   "source": [
    "#### Task 2\n",
    "\n",
    "Check the cluster configuration with *nodetool status*"
   ]
  },
  {
   "cell_type": "markdown",
   "metadata": {},
   "source": []
  },
  {
   "cell_type": "markdown",
   "metadata": {},
   "source": [
    "#### Task 3\n",
    "\n",
    "Using *cqlsh* create three Keyspaces\n",
    "* https://www.tutorialspoint.com/cassandra/cassandra_create_keyspace.htm\n",
    "* https://docs.datastax.com/en/cql/3.1/cql/cql_reference/create_keyspace_r.html\n"
   ]
  },
  {
   "cell_type": "markdown",
   "metadata": {},
   "source": [
    "#### Task 4\n",
    "\n",
    "Create tables in every Keyspace\n",
    "* https://docs.datastax.com/en/cql/3.1/cql/cql_reference/create_table_r.html\n",
    "* https://www.tutorialspoint.com/cassandra/cassandra_create_table.htm\n"
   ]
  },
  {
   "cell_type": "markdown",
   "metadata": {},
   "source": [
    "#### Task 5\n",
    "\n",
    "Try to read and write to/from different nodes"
   ]
  },
  {
   "cell_type": "markdown",
   "metadata": {},
   "source": [
    "#### Task 6\n",
    "\n",
    "Insert data to tables and check their distribution between nodes (for each Keyspace use *nodetool status*)\n",
    "* https://docs.datastax.com/en/cql/3.1/cql/cql_reference/insert_r.html\n",
    "* https://docs.datastax.com/en/cql/3.1/cql/cql_reference/select_r.html \n",
    "* https://www.tutorialspoint.com/cassandra/cassandra_create_data.htm\n",
    "* https://www.tutorialspoint.com/cassandra/cassandra_read_data.htm\n"
   ]
  },
  {
   "cell_type": "markdown",
   "metadata": {},
   "source": [
    "#### Task 7\n",
    "\n",
    "For each record from each keyspace show nodes where they are stored\n",
    "* https://docs.datastax.com/en/dse/5.1/dse-admin/datastax_enterprise/tools/nodetool/toolsGetEndPoints.html"
   ]
  },
  {
   "cell_type": "markdown",
   "metadata": {},
   "source": [
    "#### Task 8\n",
    "\n",
    "Switch of one of the nodes. For each keyspace figure out a consistency level for reading and writing, which of them guranty strong consistency\n",
    "* https://docs.datastax.com/en/cql/3.1/cql/cql_reference/consistency_r.html\n"
   ]
  },
  {
   "cell_type": "markdown",
   "metadata": {},
   "source": [
    "#### Task 9\n",
    "\n",
    "Disable networking leaving all nodes switched on."
   ]
  },
  {
   "cell_type": "markdown",
   "metadata": {},
   "source": [
    "#### Task 10\n",
    "\n",
    "For Keyspace with replication factor 3 make consistency level 1. Write one record (with same primary key but different values to each node."
   ]
  },
  {
   "cell_type": "markdown",
   "metadata": {},
   "source": [
    "#### Task 11\n",
    "\n",
    "Turn on networking and figure out whicj value is desided to be agreed by cluster."
   ]
  },
  {
   "cell_type": "markdown",
   "metadata": {},
   "source": [
    "#### Task 12\n",
    "\n",
    "Check the behavour of lightweight transactions for previous tasks in partitioned and consolidated cluster.\n",
    "* https://docs.datastax.com/en/cql-oss/3.3/cql/cql_using/useInsertLWT.html \n"
   ]
  }
 ],
 "metadata": {
  "interpreter": {
   "hash": "4296a99471eb705c49dec4020f0212abd0a2c99e809a04ecfa289b1b30a51b57"
  },
  "kernelspec": {
   "display_name": "Python 3.8.12 ('distributed_databases_env')",
   "language": "python",
   "name": "python3"
  },
  "language_info": {
   "name": "python",
   "version": "3.8.12"
  },
  "orig_nbformat": 4
 },
 "nbformat": 4,
 "nbformat_minor": 2
}
