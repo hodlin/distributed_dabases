{
 "cells": [
  {
   "cell_type": "code",
   "execution_count": 88,
   "metadata": {},
   "outputs": [],
   "source": [
    "from cassandra.cluster import Cluster\n",
    "import time"
   ]
  },
  {
   "cell_type": "markdown",
   "metadata": {},
   "source": [
    "## Initialization"
   ]
  },
  {
   "cell_type": "code",
   "execution_count": 2,
   "metadata": {},
   "outputs": [
    {
     "name": "stdout",
     "output_type": "stream",
     "text": [
      "Row(release_version='3.11.11')\n"
     ]
    }
   ],
   "source": [
    "cluster = Cluster(['127.0.0.1'])\n",
    "session = cluster.connect()\n",
    "print(session.execute('SELECT release_version FROM system.local').one())"
   ]
  },
  {
   "cell_type": "code",
   "execution_count": 3,
   "metadata": {},
   "outputs": [
    {
     "name": "stdout",
     "output_type": "stream",
     "text": [
      "Row(keyspace_name='system_auth', durable_writes=True, replication=OrderedMapSerializedKey([('class', 'org.apache.cassandra.locator.SimpleStrategy'), ('replication_factor', '1')]))\n",
      "Row(keyspace_name='system_schema', durable_writes=True, replication=OrderedMapSerializedKey([('class', 'org.apache.cassandra.locator.LocalStrategy')]))\n",
      "Row(keyspace_name='estore', durable_writes=True, replication=OrderedMapSerializedKey([('class', 'org.apache.cassandra.locator.SimpleStrategy'), ('replication_factor', '1')]))\n",
      "Row(keyspace_name='system_distributed', durable_writes=True, replication=OrderedMapSerializedKey([('class', 'org.apache.cassandra.locator.SimpleStrategy'), ('replication_factor', '3')]))\n",
      "Row(keyspace_name='system', durable_writes=True, replication=OrderedMapSerializedKey([('class', 'org.apache.cassandra.locator.LocalStrategy')]))\n",
      "Row(keyspace_name='system_traces', durable_writes=True, replication=OrderedMapSerializedKey([('class', 'org.apache.cassandra.locator.SimpleStrategy'), ('replication_factor', '2')]))\n"
     ]
    }
   ],
   "source": [
    "session.execute(\"CREATE KEYSPACE IF NOT EXISTS estore WITH REPLICATION = {'class' : 'SimpleStrategy', 'replication_factor' : '1' };\")\n",
    "\n",
    "rows = session.execute(\"SELECT * FROM system_schema.keyspaces;\").all()\n",
    "for row in rows:\n",
    "    print(row)"
   ]
  },
  {
   "cell_type": "markdown",
   "metadata": {},
   "source": [
    "## Items table"
   ]
  },
  {
   "cell_type": "code",
   "execution_count": 4,
   "metadata": {},
   "outputs": [
    {
     "data": {
      "text/plain": [
       "<cassandra.cluster.ResultSet at 0x18f660224f0>"
      ]
     },
     "execution_count": 4,
     "metadata": {},
     "output_type": "execute_result"
    }
   ],
   "source": [
    "session.execute(\"DROP MATERIALIZED VIEW IF EXISTS estore.items_by_price;\")\n",
    "session.execute(\"DROP MATERIALIZED VIEW IF EXISTS estore.items_by_producer_price;\")\n",
    "session.execute(\"DROP MATERIALIZED VIEW IF EXISTS estore.items_by_name;\")\n",
    "session.execute(\"DROP TABLE IF EXISTS estore.items;\")\n",
    "\n",
    "query = \"\"\"\n",
    "CREATE TABLE estore.items (\n",
    "category text,\n",
    "producer text,\n",
    "item_id int,\n",
    "name text,\n",
    "price int,\n",
    "production_year int,\n",
    "options map<text,text>,\n",
    "PRIMARY KEY (category, producer, item_id)\n",
    ");\n",
    "\"\"\"\n",
    "session.execute(query)\n"
   ]
  },
  {
   "cell_type": "code",
   "execution_count": 5,
   "metadata": {},
   "outputs": [
    {
     "data": {
      "text/plain": [
       "<cassandra.cluster.ResultSet at 0x18f65fd1fa0>"
      ]
     },
     "execution_count": 5,
     "metadata": {},
     "output_type": "execute_result"
    }
   ],
   "source": [
    "query = \"\"\"\n",
    "CREATE INDEX IF NOT EXISTS options_idx\n",
    "ON estore.items ( ENTRIES (options) );\n",
    "\"\"\"\n",
    "\n",
    "session.execute(query)"
   ]
  },
  {
   "cell_type": "code",
   "execution_count": 6,
   "metadata": {},
   "outputs": [
    {
     "data": {
      "text/plain": [
       "<cassandra.cluster.ResultSet at 0x18f65fb8190>"
      ]
     },
     "execution_count": 6,
     "metadata": {},
     "output_type": "execute_result"
    }
   ],
   "source": [
    "\n",
    "query = \"\"\"\n",
    "CREATE INDEX IF NOT EXISTS option_keys_idx\n",
    "ON estore.items ( KEYS (options) );\n",
    "\"\"\"\n",
    "\n",
    "session.execute(query)"
   ]
  },
  {
   "cell_type": "code",
   "execution_count": 7,
   "metadata": {},
   "outputs": [
    {
     "data": {
      "text/plain": [
       "<cassandra.cluster.ResultSet at 0x18f65fcb880>"
      ]
     },
     "execution_count": 7,
     "metadata": {},
     "output_type": "execute_result"
    }
   ],
   "source": [
    "query = \"\"\"\n",
    "CREATE MATERIALIZED VIEW IF NOT EXISTS estore.items_by_price AS\n",
    "SELECT category, price, producer, item_id, name, production_year, options\n",
    "FROM estore.items\n",
    "WHERE category IS NOT NULL AND price IS NOT NULL AND producer IS NOT NULL AND item_id is NOT NULL\n",
    "PRIMARY KEY (category, price, producer, item_id)\n",
    "WITH CLUSTERING ORDER BY (price ASC);\n",
    "\"\"\"\n",
    "session.execute(query)"
   ]
  },
  {
   "cell_type": "code",
   "execution_count": 8,
   "metadata": {},
   "outputs": [
    {
     "data": {
      "text/plain": [
       "<cassandra.cluster.ResultSet at 0x18f66029820>"
      ]
     },
     "execution_count": 8,
     "metadata": {},
     "output_type": "execute_result"
    }
   ],
   "source": [
    "query = \"\"\"\n",
    "CREATE MATERIALIZED VIEW IF NOT EXISTS estore.items_by_producer_price AS\n",
    "SELECT category, price, producer, item_id, name, production_year, options\n",
    "FROM estore.items\n",
    "WHERE category IS NOT NULL AND producer IS NOT NULL AND price IS NOT NULL AND item_id is NOT NULL\n",
    "PRIMARY KEY (category, producer, price, item_id)\n",
    "WITH CLUSTERING ORDER BY (price ASC);\n",
    "\"\"\"\n",
    "\n",
    "session.execute(query)"
   ]
  },
  {
   "cell_type": "code",
   "execution_count": 9,
   "metadata": {},
   "outputs": [
    {
     "data": {
      "text/plain": [
       "<cassandra.cluster.ResultSet at 0x18f65fb3b80>"
      ]
     },
     "execution_count": 9,
     "metadata": {},
     "output_type": "execute_result"
    }
   ],
   "source": [
    "query = \"\"\"\n",
    "CREATE MATERIALIZED VIEW IF NOT EXISTS estore.items_by_name AS\n",
    "SELECT category, price, producer, item_id, name, production_year, options\n",
    "FROM estore.items\n",
    "WHERE category IS NOT NULL AND name IS NOT NULL AND producer IS NOT NULL AND item_id is NOT NULL\n",
    "PRIMARY KEY (category, name, producer, item_id);\n",
    "\"\"\"\n",
    "\n",
    "session.execute(query)"
   ]
  },
  {
   "cell_type": "markdown",
   "metadata": {},
   "source": [
    "### Inserting some data to items table"
   ]
  },
  {
   "cell_type": "code",
   "execution_count": 10,
   "metadata": {},
   "outputs": [
    {
     "data": {
      "text/plain": [
       "<cassandra.cluster.ResultSet at 0x18f65fcb850>"
      ]
     },
     "execution_count": 10,
     "metadata": {},
     "output_type": "execute_result"
    }
   ],
   "source": [
    "query=\"\"\"\n",
    "BEGIN BATCH\n",
    "    INSERT INTO estore.items (category, producer, item_id, name, price, production_year, options)\n",
    "    VALUES ('Smartphones', 'Apple', 1, 'Ipnone 11', 18499, 2020, {'memory' : '64Gb'}) IF NOT EXISTS;\n",
    "    INSERT INTO estore.items (category, producer, item_id, name, price, production_year, options)\n",
    "    VALUES ('Smartphones', 'Apple', 2, 'Ipnone 13', 29999, 2021, {}) IF NOT EXISTS;\n",
    "    INSERT INTO estore.items (category, producer, item_id, name, price, production_year, options)\n",
    "    VALUES ('Smartphones', 'Apple', 3, 'Ipnone 13 Pro', 37499, 2021, {}) IF NOT EXISTS;\n",
    "    INSERT INTO estore.items (category, producer, item_id, name, price, production_year, options)\n",
    "    VALUES ('Smartphones', 'Apple', 4, 'Ipnone 13 Pro Max', 41499, 2021, {'memory' : '128Gb'}) IF NOT EXISTS;\n",
    "    INSERT INTO estore.items (category, producer, item_id, name, price, production_year, options)\n",
    "    VALUES ('Smartphones', 'Samsung', 5, 'Galaxy S21 FE', 21999, 2022, {'memory' : '64Gb'}) IF NOT EXISTS;\n",
    "    INSERT INTO estore.items (category, producer, item_id, name, price, production_year, options)\n",
    "    VALUES ('Smartphones', 'Samsung', 6, 'Galaxy S21', 22999, 2021, {'memory' : '128Gb'}) IF NOT EXISTS;\n",
    "    INSERT INTO estore.items (category, producer, item_id, name, price, production_year, options)\n",
    "    VALUES ('Smartphones', 'Samsung', 7, 'Galaxy S21 Plus', 23999, 2021, {}) IF NOT EXISTS;\n",
    "    INSERT INTO estore.items (category, producer, item_id, name, price, production_year, options)\n",
    "    VALUES ('Smartphones', 'Samsung', 8, 'Galaxy S21 Ultra', 39999, 2021, {}) IF NOT EXISTS;    \n",
    "APPLY BATCH;\n",
    "\"\"\"\n",
    "session.execute(query)\n",
    "\n"
   ]
  },
  {
   "cell_type": "code",
   "execution_count": 11,
   "metadata": {},
   "outputs": [
    {
     "data": {
      "text/plain": [
       "<cassandra.cluster.ResultSet at 0x18f65f65610>"
      ]
     },
     "execution_count": 11,
     "metadata": {},
     "output_type": "execute_result"
    }
   ],
   "source": [
    "query=\"\"\"\n",
    "BEGIN BATCH\n",
    "    INSERT INTO estore.items (category, producer, item_id, name, price, production_year, options)\n",
    "    VALUES ('Wearables', 'Apple', 9, 'Apple Watch Series 7', 13999, 2021, {'connectivity' : 'WiFi', 'type' : 'smartwatch'}) IF NOT EXISTS;\n",
    "    INSERT INTO estore.items (category, producer, item_id, name, price, production_year, options)\n",
    "    VALUES ('Wearables', 'Samsung', 10, 'Galaxy Watch 4 Classic', 11499, 2021, {'connectivity' : 'LTE', 'type' : 'smartwatch'}) IF NOT EXISTS;  \n",
    "APPLY BATCH;\n",
    "\"\"\"\n",
    "session.execute(query)"
   ]
  },
  {
   "cell_type": "code",
   "execution_count": 12,
   "metadata": {},
   "outputs": [
    {
     "data": {
      "text/plain": [
       "<cassandra.cluster.ResultSet at 0x18f65facc40>"
      ]
     },
     "execution_count": 12,
     "metadata": {},
     "output_type": "execute_result"
    }
   ],
   "source": [
    "query=\"\"\"\n",
    "BEGIN BATCH\n",
    "    INSERT INTO estore.items (category, producer, item_id, name, price, production_year, options)\n",
    "    VALUES ('Tablets', 'Samsung', 11, 'Galaxy Tab S7', 23999, 2021, {'memory' : '128Gb', 'display': '11.4in'}) IF NOT EXISTS;\n",
    "    INSERT INTO estore.items (category, producer, item_id, name, price, production_year, options)\n",
    "    VALUES ('Tablets', 'Apple', 12, 'iPad Pro', 41999, 2021, {'memory' : '128Gb', 'display': '12.9in'}) IF NOT EXISTS;\n",
    "APPLY BATCH;\n",
    "\"\"\"\n",
    "session.execute(query)"
   ]
  },
  {
   "cell_type": "code",
   "execution_count": 13,
   "metadata": {},
   "outputs": [
    {
     "data": {
      "text/plain": [
       "<cassandra.cluster.ResultSet at 0x18f6602fe50>"
      ]
     },
     "execution_count": 13,
     "metadata": {},
     "output_type": "execute_result"
    }
   ],
   "source": [
    "\n",
    "query=\"\"\"\n",
    "BEGIN BATCH\n",
    "    INSERT INTO estore.items (category, producer, item_id, name, price, production_year, options)\n",
    "    VALUES ('TV', 'Samsung', 13, 'Samsung QE55', 30999, 2021, {'technology': 'QLED'}) IF NOT EXISTS;\n",
    "    INSERT INTO estore.items (category, producer, item_id, name, price, production_year, options)\n",
    "    VALUES ('TV', 'Hisense', 14, 'Hisense 55E', 19999, 2021, {'technology': 'IPS'}) IF NOT EXISTS;\n",
    "    INSERT INTO estore.items (category, producer, item_id, name, price, production_year, options)\n",
    "    VALUES ('TV', 'LG', 15, 'LG OLED55', 41999, 2021, {'technology': 'OLED'}) IF NOT EXISTS;\n",
    "    INSERT INTO estore.items (category, producer, item_id, name, price, production_year, options)\n",
    "    VALUES ('TV', 'Philips', 16, 'Philips 55OLED', 45999, 2021, {'technology': 'OLED'}) IF NOT EXISTS;\n",
    "APPLY BATCH;\n",
    "\"\"\"\n",
    "session.execute(query)\n",
    "    \n",
    "    \n",
    "    \n",
    "    "
   ]
  },
  {
   "cell_type": "markdown",
   "metadata": {},
   "source": [
    "### Querring items table"
   ]
  },
  {
   "cell_type": "code",
   "execution_count": 55,
   "metadata": {},
   "outputs": [
    {
     "ename": "SyntaxException",
     "evalue": "<Error from server: code=2000 [Syntax error in CQL query] message=\"line 1:0 no viable alternative at input 'DESCRIBE' ([DESCRIBE]...)\">",
     "output_type": "error",
     "traceback": [
      "\u001b[1;31m---------------------------------------------------------------------------\u001b[0m",
      "\u001b[1;31mSyntaxException\u001b[0m                           Traceback (most recent call last)",
      "Input \u001b[1;32mIn [55]\u001b[0m, in \u001b[0;36m<module>\u001b[1;34m\u001b[0m\n\u001b[0;32m      1\u001b[0m \u001b[38;5;66;03m# 1. Показати структуру таблиці\u001b[39;00m\n\u001b[1;32m----> 3\u001b[0m \u001b[43msession\u001b[49m\u001b[38;5;241;43m.\u001b[39;49m\u001b[43mexecute\u001b[49m\u001b[43m(\u001b[49m\u001b[38;5;124;43m\"\u001b[39;49m\u001b[38;5;124;43mDESCRIBE estore.items;\u001b[39;49m\u001b[38;5;124;43m\"\u001b[39;49m\u001b[43m)\u001b[49m\n",
      "File \u001b[1;32m~\\.conda\\envs\\distributed_databases_env\\lib\\site-packages\\cassandra\\cluster.py:2618\u001b[0m, in \u001b[0;36mcassandra.cluster.Session.execute\u001b[1;34m()\u001b[0m\n",
      "File \u001b[1;32m~\\.conda\\envs\\distributed_databases_env\\lib\\site-packages\\cassandra\\cluster.py:4894\u001b[0m, in \u001b[0;36mcassandra.cluster.ResponseFuture.result\u001b[1;34m()\u001b[0m\n",
      "\u001b[1;31mSyntaxException\u001b[0m: <Error from server: code=2000 [Syntax error in CQL query] message=\"line 1:0 no viable alternative at input 'DESCRIBE' ([DESCRIBE]...)\">"
     ]
    }
   ],
   "source": [
    "# 1. Показати структуру таблиці\n",
    "\n",
    "session.execute(\"DESCRIBE estore.items;\")"
   ]
  },
  {
   "cell_type": "markdown",
   "metadata": {},
   "source": [
    "##### DESCRIBE directive is not supported by python's driver. \n",
    "##### Issue addressed here: https://stackoverflow.com/questions/35986136/cassandra-3-1-python-driver-no-viable-alternative-at-input-describe\n",
    "##### Since that, it's output is got by entering cassandra's container shell end executing it with cqlsh \n",
    "\n",
    "    cqlsh> DESCRIBE estore.items;\n",
    "\n",
    "    CREATE TABLE estore.items (\n",
    "        category text,\n",
    "        producer text,\n",
    "        item_id int,\n",
    "        name text,\n",
    "        options map<text, text>,\n",
    "        price int,\n",
    "        production_year int,\n",
    "        PRIMARY KEY (category, producer, item_id)\n",
    "    ) WITH CLUSTERING ORDER BY (producer ASC, item_id ASC)\n",
    "        AND bloom_filter_fp_chance = 0.01\n",
    "        AND caching = {'keys': 'ALL', 'rows_per_partition': 'NONE'}\n",
    "        AND comment = ''\n",
    "        AND compaction = {'class': 'org.apache.cassandra.db.compaction.SizeTieredCompactionStrategy', 'max_threshold': '32', 'min_threshold': '4'}\n",
    "        AND compression = {'chunk_length_in_kb': '64', 'class': 'org.apache.cassandra.io.compress.LZ4Compressor'}\n",
    "        AND crc_check_chance = 1.0\n",
    "        AND dclocal_read_repair_chance = 0.1\n",
    "        AND default_time_to_live = 0\n",
    "        AND gc_grace_seconds = 864000\n",
    "        AND max_index_interval = 2048\n",
    "        AND memtable_flush_period_in_ms = 0\n",
    "        AND min_index_interval = 128\n",
    "        AND read_repair_chance = 0.0\n",
    "        AND speculative_retry = '99PERCENTILE';\n",
    "    CREATE INDEX option_keys_idx ON estore.items (keys(options));\n",
    "    CREATE INDEX options_idx ON estore.items (entries(options));\n",
    "\n",
    "    CREATE MATERIALIZED VIEW estore.items_by_price AS\n",
    "        SELECT category, price, producer, item_id, name, options, production_year\n",
    "        FROM estore.items\n",
    "        WHERE category IS NOT NULL AND price IS NOT NULL AND producer IS NOT NULL AND item_id IS NOT NULL\n",
    "        PRIMARY KEY (category, price, producer, item_id)\n",
    "        WITH CLUSTERING ORDER BY (price ASC, producer ASC, item_id ASC)\n",
    "        AND bloom_filter_fp_chance = 0.01\n",
    "        AND caching = {'keys': 'ALL', 'rows_per_partition': 'NONE'}\n",
    "        AND comment = ''\n",
    "        AND compaction = {'class': 'org.apache.cassandra.db.compaction.SizeTieredCompactionStrategy', 'max_threshold': '32', 'min_threshold': '4'}\n",
    "        AND compression = {'chunk_length_in_kb': '64', 'class': 'org.apache.cassandra.io.compress.LZ4Compressor'}\n",
    "        AND crc_check_chance = 1.0\n",
    "        AND dclocal_read_repair_chance = 0.1\n",
    "        AND default_time_to_live = 0\n",
    "        AND gc_grace_seconds = 864000\n",
    "        AND max_index_interval = 2048\n",
    "        AND memtable_flush_period_in_ms = 0\n",
    "        AND min_index_interval = 128\n",
    "        AND read_repair_chance = 0.0\n",
    "        AND speculative_retry = '99PERCENTILE';\n",
    "\n",
    "    CREATE MATERIALIZED VIEW estore.items_by_producer_price AS\n",
    "        SELECT category, producer, price, item_id, name, options, production_year\n",
    "        FROM estore.items\n",
    "        WHERE category IS NOT NULL AND producer IS NOT NULL AND price IS NOT NULL AND item_id IS NOT NULL\n",
    "        PRIMARY KEY (category, producer, price, item_id)\n",
    "        WITH CLUSTERING ORDER BY (producer ASC, price ASC, item_id ASC)\n",
    "        AND bloom_filter_fp_chance = 0.01\n",
    "        AND caching = {'keys': 'ALL', 'rows_per_partition': 'NONE'}\n",
    "        AND comment = ''\n",
    "        AND compaction = {'class': 'org.apache.cassandra.db.compaction.SizeTieredCompactionStrategy', 'max_threshold': '32', 'min_threshold': '4'}\n",
    "        AND compression = {'chunk_length_in_kb': '64', 'class': 'org.apache.cassandra.io.compress.LZ4Compressor'}\n",
    "        AND crc_check_chance = 1.0\n",
    "        AND dclocal_read_repair_chance = 0.1\n",
    "        AND default_time_to_live = 0\n",
    "        AND gc_grace_seconds = 864000\n",
    "        AND max_index_interval = 2048\n",
    "        AND memtable_flush_period_in_ms = 0\n",
    "        AND min_index_interval = 128\n",
    "        AND read_repair_chance = 0.0\n",
    "        AND speculative_retry = '99PERCENTILE';\n",
    "\n",
    "    CREATE MATERIALIZED VIEW estore.items_by_name AS\n",
    "        SELECT category, name, producer, item_id, options, price, production_year\n",
    "        FROM estore.items\n",
    "        WHERE category IS NOT NULL AND name IS NOT NULL AND producer IS NOT NULL AND item_id IS NOT NULL\n",
    "        PRIMARY KEY (category, name, producer, item_id)\n",
    "        WITH CLUSTERING ORDER BY (name ASC, producer ASC, item_id ASC)\n",
    "        AND bloom_filter_fp_chance = 0.01\n",
    "        AND caching = {'keys': 'ALL', 'rows_per_partition': 'NONE'}\n",
    "        AND comment = ''\n",
    "        AND compaction = {'class': 'org.apache.cassandra.db.compaction.SizeTieredCompactionStrategy', 'max_threshold': '32', 'min_threshold': '4'}\n",
    "        AND compression = {'chunk_length_in_kb': '64', 'class': 'org.apache.cassandra.io.compress.LZ4Compressor'}\n",
    "        AND crc_check_chance = 1.0\n",
    "        AND dclocal_read_repair_chance = 0.1\n",
    "        AND default_time_to_live = 0\n",
    "        AND gc_grace_seconds = 864000\n",
    "        AND max_index_interval = 2048\n",
    "        AND memtable_flush_period_in_ms = 0\n",
    "        AND min_index_interval = 128\n",
    "        AND read_repair_chance = 0.0\n",
    "        AND speculative_retry = '99PERCENTILE';"
   ]
  },
  {
   "cell_type": "code",
   "execution_count": 15,
   "metadata": {},
   "outputs": [
    {
     "name": "stdout",
     "output_type": "stream",
     "text": [
      "Row(category='TV', price=19999, producer='Hisense', item_id=14, name='Hisense 55E', options=OrderedMapSerializedKey([('technology', 'IPS')]), production_year=2021)\n",
      "Row(category='TV', price=30999, producer='Samsung', item_id=13, name='Samsung QE55', options=OrderedMapSerializedKey([('technology', 'QLED')]), production_year=2021)\n",
      "Row(category='TV', price=41999, producer='LG', item_id=15, name='LG OLED55', options=OrderedMapSerializedKey([('technology', 'OLED')]), production_year=2021)\n",
      "Row(category='TV', price=45999, producer='Philips', item_id=16, name='Philips 55OLED', options=OrderedMapSerializedKey([('technology', 'OLED')]), production_year=2021)\n"
     ]
    }
   ],
   "source": [
    "# 2. Напишіть запит, який виводить усі товари в певній категорії відсортовані за ціною\n",
    "\n",
    "query = \"\"\"\n",
    "SELECT * FROM estore.items_by_price\n",
    "WHERE category = 'TV'\n",
    "\"\"\"\n",
    "\n",
    "rows = session.execute(query)\n",
    "for row in rows:\n",
    "    print(row)"
   ]
  },
  {
   "cell_type": "code",
   "execution_count": 16,
   "metadata": {},
   "outputs": [
    {
     "name": "stdout",
     "output_type": "stream",
     "text": [
      "Row(category='Smartphones', name='Ipnone 11', producer='Apple', item_id=1, options=OrderedMapSerializedKey([('memory', '64Gb')]), price=18499, production_year=2020)\n"
     ]
    }
   ],
   "source": [
    "# 3.1. Напишіть запити, які вибирають товари за різними критеріями в межах певної категорії \n",
    "# (тут де треба замість індексу використайте Matirialized view): назва\n",
    "\n",
    "query = \"\"\"\n",
    "SELECT * FROM estore.items_by_name\n",
    "WHERE category = 'Smartphones'\n",
    "AND name = 'Ipnone 11'\n",
    "\"\"\"\n",
    "\n",
    "rows = session.execute(query)\n",
    "for row in rows:\n",
    "    print(row)"
   ]
  },
  {
   "cell_type": "code",
   "execution_count": 17,
   "metadata": {},
   "outputs": [
    {
     "name": "stdout",
     "output_type": "stream",
     "text": [
      "Row(category='Smartphones', price=21999, producer='Samsung', item_id=5, name='Galaxy S21 FE', options=OrderedMapSerializedKey([('memory', '64Gb')]), production_year=2022)\n",
      "Row(category='Smartphones', price=22999, producer='Samsung', item_id=6, name='Galaxy S21', options=OrderedMapSerializedKey([('memory', '128Gb')]), production_year=2021)\n",
      "Row(category='Smartphones', price=23999, producer='Samsung', item_id=7, name='Galaxy S21 Plus', options=None, production_year=2021)\n"
     ]
    }
   ],
   "source": [
    "# 3.2. Напишіть запити, які вибирають товари за різними критеріями в межах певної категорії \n",
    "# (тут де треба замість індексу використайте Matirialized view): ціна (в проміжку)\n",
    "\n",
    "query = \"\"\"\n",
    "SELECT * FROM estore.items_by_price\n",
    "WHERE category = 'Smartphones'\n",
    "AND price >= 20000 AND price <= 25000\n",
    "\"\"\"\n",
    "\n",
    "rows = session.execute(query)\n",
    "for row in rows:\n",
    "    print(row)"
   ]
  },
  {
   "cell_type": "code",
   "execution_count": 18,
   "metadata": {},
   "outputs": [
    {
     "name": "stdout",
     "output_type": "stream",
     "text": [
      "Row(category='Smartphones', producer='Apple', price=18499, item_id=1, name='Ipnone 11', options=OrderedMapSerializedKey([('memory', '64Gb')]), production_year=2020)\n"
     ]
    }
   ],
   "source": [
    "# 3.3. Напишіть запити, які вибирають товари за різними критеріями в межах певної категорії \n",
    "# (тут де треба замість індексу використайте Matirialized view): ціна та виробник\n",
    "\n",
    "query = \"\"\"\n",
    "SELECT * FROM estore.items_by_producer_price\n",
    "WHERE category = 'Smartphones'\n",
    "AND producer = 'Apple'\n",
    "AND price >= 15000 AND price <= 25000\n",
    "\"\"\"\n",
    "\n",
    "rows = session.execute(query)\n",
    "for row in rows:\n",
    "    print(row)"
   ]
  },
  {
   "cell_type": "code",
   "execution_count": 19,
   "metadata": {},
   "outputs": [
    {
     "name": "stdout",
     "output_type": "stream",
     "text": [
      "Row(category='Tablets', producer='Apple', item_id=12, name='iPad Pro', options=OrderedMapSerializedKey([('display', '12.9in'), ('memory', '128Gb')]), price=41999, production_year=2021)\n",
      "Row(category='Tablets', producer='Samsung', item_id=11, name='Galaxy Tab S7', options=OrderedMapSerializedKey([('display', '11.4in'), ('memory', '128Gb')]), price=23999, production_year=2021)\n",
      "Row(category='Smartphones', producer='Apple', item_id=1, name='Ipnone 11', options=OrderedMapSerializedKey([('memory', '64Gb')]), price=18499, production_year=2020)\n",
      "Row(category='Smartphones', producer='Apple', item_id=4, name='Ipnone 13 Pro Max', options=OrderedMapSerializedKey([('memory', '128Gb')]), price=41499, production_year=2021)\n",
      "Row(category='Smartphones', producer='Samsung', item_id=5, name='Galaxy S21 FE', options=OrderedMapSerializedKey([('memory', '64Gb')]), price=21999, production_year=2022)\n",
      "Row(category='Smartphones', producer='Samsung', item_id=6, name='Galaxy S21', options=OrderedMapSerializedKey([('memory', '128Gb')]), price=22999, production_year=2021)\n"
     ]
    }
   ],
   "source": [
    "# 4.1. Напишіть запити, які вибирають товари за: наявність певних характеристик\n",
    "\n",
    "query = \"\"\"\n",
    "SELECT * FROM estore.items\n",
    "WHERE options CONTAINS KEY 'memory'\n",
    "\"\"\"\n",
    "\n",
    "rows = session.execute(query)\n",
    "for row in rows:\n",
    "    print(row)"
   ]
  },
  {
   "cell_type": "code",
   "execution_count": 20,
   "metadata": {},
   "outputs": [
    {
     "name": "stdout",
     "output_type": "stream",
     "text": [
      "Row(category='Tablets', producer='Samsung', item_id=11, name='Galaxy Tab S7', options=OrderedMapSerializedKey([('display', '11.4in'), ('memory', '128Gb')]), price=23999, production_year=2021)\n"
     ]
    }
   ],
   "source": [
    "# 4.2. Напишіть запити, які вибирають товари за: певна характеристика та її значення\n",
    "\n",
    "query = \"\"\"\n",
    "SELECT * FROM estore.items\n",
    "WHERE options['display'] = '11.4in'\n",
    "\"\"\"\n",
    "\n",
    "rows = session.execute(query)\n",
    "for row in rows:\n",
    "    print(row)"
   ]
  },
  {
   "cell_type": "code",
   "execution_count": 26,
   "metadata": {},
   "outputs": [
    {
     "name": "stdout",
     "output_type": "stream",
     "text": [
      "Row(category='Smartphones', producer='Apple', item_id=9, name=None, options=OrderedMapSerializedKey([('connectivity', 'LTE')]), price=None, production_year=None)\n",
      "Row(category='Wearables', producer='Samsung', item_id=10, name='Galaxy Watch 4 Classic', options=OrderedMapSerializedKey([('connectivity', 'LTE'), ('type', 'smartwatch')]), price=11499, production_year=2021)\n"
     ]
    }
   ],
   "source": [
    "# 5.1. Оновити опис товару: змініть існуючі значення певної характеристики\n",
    "\n",
    "query = \"\"\"\n",
    "UPDATE estore.items\n",
    "SET options['connectivity'] = 'LTE'\n",
    "WHERE category = 'Smartphones' AND producer = 'Apple' AND item_id = 9\n",
    "\"\"\"\n",
    "\n",
    "session.execute(query)\n",
    "\n",
    "query = \"\"\"\n",
    "SELECT * FROM estore.items\n",
    "WHERE options['connectivity'] = 'LTE'\n",
    "\"\"\"\n",
    "\n",
    "rows = session.execute(query)\n",
    "for row in rows:\n",
    "    print(row)"
   ]
  },
  {
   "cell_type": "code",
   "execution_count": 30,
   "metadata": {},
   "outputs": [
    {
     "name": "stdout",
     "output_type": "stream",
     "text": [
      "Row(category='TV', producer='Hisense', item_id=14, name='Hisense 55E', options=OrderedMapSerializedKey([('display', '55in'), ('technology', 'IPS')]), price=19999, production_year=2021)\n"
     ]
    }
   ],
   "source": [
    "# 5.2. Оновити опис товару: додайте нові властивості (характеристики) товару\n",
    "\n",
    "query = \"\"\"\n",
    "UPDATE estore.items\n",
    "SET options = options + {'display' : '55in'}\n",
    "WHERE category = 'TV' AND producer = 'Hisense' AND item_id = 14\n",
    "\"\"\"\n",
    "\n",
    "session.execute(query)\n",
    "\n",
    "query = \"\"\"\n",
    "SELECT * FROM estore.items\n",
    "WHERE options['display'] = '55in'\n",
    "\"\"\"\n",
    "\n",
    "rows = session.execute(query)\n",
    "for row in rows:\n",
    "    print(row)"
   ]
  },
  {
   "cell_type": "code",
   "execution_count": 31,
   "metadata": {},
   "outputs": [
    {
     "name": "stdout",
     "output_type": "stream",
     "text": [
      "Row(category='TV', producer='Hisense', item_id=14, name='Hisense 55E', options=OrderedMapSerializedKey([('technology', 'IPS')]), price=19999, production_year=2021)\n"
     ]
    }
   ],
   "source": [
    "# 5.3. Оновити опис товару: видалить характеристику товару\n",
    "\n",
    "query = \"\"\"\n",
    "UPDATE estore.items\n",
    "SET options = options - {'display'}\n",
    "WHERE category = 'TV' AND producer = 'Hisense' AND item_id = 14\n",
    "\"\"\"\n",
    "\n",
    "session.execute(query)\n",
    "\n",
    "query = \"\"\"\n",
    "SELECT * FROM estore.items\n",
    "WHERE category = 'TV' AND producer = 'Hisense'\n",
    "\"\"\"\n",
    "\n",
    "rows = session.execute(query)\n",
    "for row in rows:\n",
    "    print(row)"
   ]
  },
  {
   "cell_type": "markdown",
   "metadata": {},
   "source": [
    "## Orders table"
   ]
  },
  {
   "cell_type": "code",
   "execution_count": 60,
   "metadata": {},
   "outputs": [
    {
     "data": {
      "text/plain": [
       "<cassandra.cluster.ResultSet at 0x18f67bde970>"
      ]
     },
     "execution_count": 60,
     "metadata": {},
     "output_type": "execute_result"
    }
   ],
   "source": [
    "session.execute(\"DROP MATERIALIZED VIEW IF EXISTS estore.orders_by_price;\")\n",
    "session.execute(\"DROP TABLE IF EXISTS estore.orders;\")\n",
    "\n",
    "query = \"\"\"\n",
    "CREATE TABLE estore.orders (\n",
    "client_name text,\n",
    "order_date date,\n",
    "order_id int,\n",
    "order_timestamp timestamp,\n",
    "cost int,\n",
    "items list<int>,\n",
    "PRIMARY KEY (client_name, order_date, order_id)\n",
    ");\n",
    "\"\"\"\n",
    "\n",
    "session.execute(query)\n"
   ]
  },
  {
   "cell_type": "code",
   "execution_count": 61,
   "metadata": {},
   "outputs": [
    {
     "data": {
      "text/plain": [
       "<cassandra.cluster.ResultSet at 0x18f67ca1fd0>"
      ]
     },
     "execution_count": 61,
     "metadata": {},
     "output_type": "execute_result"
    }
   ],
   "source": [
    "query = \"\"\"\n",
    "CREATE INDEX IF NOT EXISTS order_items_idx\n",
    "ON estore.orders (items);\n",
    "\"\"\"\n",
    "\n",
    "session.execute(query)"
   ]
  },
  {
   "cell_type": "code",
   "execution_count": 62,
   "metadata": {},
   "outputs": [
    {
     "data": {
      "text/plain": [
       "<cassandra.cluster.ResultSet at 0x18f67c3ce50>"
      ]
     },
     "execution_count": 62,
     "metadata": {},
     "output_type": "execute_result"
    }
   ],
   "source": [
    "query = \"\"\"\n",
    "CREATE MATERIALIZED VIEW IF NOT EXISTS estore.orders_by_price AS\n",
    "SELECT client_name, order_date, order_id, order_timestamp, cost, items\n",
    "FROM estore.orders\n",
    "WHERE client_name IS NOT NULL AND order_date IS NOT NULL AND order_id IS NOT NULL AND cost is NOT NULL\n",
    "PRIMARY KEY (client_name, cost, order_date, order_id)\n",
    "WITH CLUSTERING ORDER BY (price ASC);\n",
    "\"\"\"\n",
    "\n",
    "session.execute(query)"
   ]
  },
  {
   "cell_type": "markdown",
   "metadata": {},
   "source": [
    "### Inserting some data to orders table"
   ]
  },
  {
   "cell_type": "code",
   "execution_count": 63,
   "metadata": {},
   "outputs": [
    {
     "data": {
      "text/plain": [
       "<cassandra.cluster.ResultSet at 0x18f67b34730>"
      ]
     },
     "execution_count": 63,
     "metadata": {},
     "output_type": "execute_result"
    }
   ],
   "source": [
    "query=\"\"\"\n",
    "BEGIN BATCH\n",
    "    INSERT INTO estore.orders (client_name, order_date, order_id, order_timestamp, cost, items)\n",
    "    VALUES ('Stepan Baran', '2022-01-10', 1, '2022-01-10 13:44', 51498, [3, 9]) IF NOT EXISTS;\n",
    "    INSERT INTO estore.orders (client_name, order_date, order_id, order_timestamp, cost, items)\n",
    "    VALUES ('Stepan Baran', '2022-01-13', 2, '2022-01-13 09:10', 41999, [15]) IF NOT EXISTS;\n",
    "    INSERT INTO estore.orders (client_name, order_date, order_id, order_timestamp, cost, items)\n",
    "    VALUES ('Stepan Baran', '2022-01-18', 3, '2022-01-18 18:35', 41999, [12]) IF NOT EXISTS;\n",
    "APPLY BATCH;\n",
    "\"\"\"\n",
    "\n",
    "session.execute(query)"
   ]
  },
  {
   "cell_type": "code",
   "execution_count": 64,
   "metadata": {},
   "outputs": [
    {
     "data": {
      "text/plain": [
       "<cassandra.cluster.ResultSet at 0x18f67ca1160>"
      ]
     },
     "execution_count": 64,
     "metadata": {},
     "output_type": "execute_result"
    }
   ],
   "source": [
    "query=\"\"\"\n",
    "BEGIN BATCH\n",
    "    INSERT INTO estore.orders (client_name, order_date, order_id, order_timestamp, cost, items)\n",
    "    VALUES ('Petro Vovk', '2022-01-11', 4, '2022-01-11 13:23', 23999, [7]) IF NOT EXISTS;\n",
    "    INSERT INTO estore.orders (client_name, order_date, order_id, order_timestamp, cost, items)\n",
    "    VALUES ('Petro Vovk', '2022-01-12', 5, '2022-01-12 19:10', 35498, [10, 11]) IF NOT EXISTS;\n",
    "    INSERT INTO estore.orders (client_name, order_date, order_id, order_timestamp, cost, items)\n",
    "    VALUES ('Petro Vovk', '2022-01-19', 6, '2022-01-19 14:05', 30999, [13]) IF NOT EXISTS;\n",
    "APPLY BATCH;\n",
    "\"\"\"\n",
    "\n",
    "session.execute(query)"
   ]
  },
  {
   "cell_type": "code",
   "execution_count": 65,
   "metadata": {},
   "outputs": [
    {
     "data": {
      "text/plain": [
       "<cassandra.cluster.ResultSet at 0x18f67ca1730>"
      ]
     },
     "execution_count": 65,
     "metadata": {},
     "output_type": "execute_result"
    }
   ],
   "source": [
    "query=\"\"\"\n",
    "BEGIN BATCH\n",
    "    INSERT INTO estore.orders (client_name, order_date, order_id, order_timestamp, cost, items)\n",
    "    VALUES ('Mykola Bez Prykolu', '2022-01-15', 7, '2022-01-15 13:23', 75497, [8, 10, 11]) IF NOT EXISTS;\n",
    "    INSERT INTO estore.orders (client_name, order_date, order_id, order_timestamp, cost, items)\n",
    "    VALUES ('Mykola Bez Prykolu', '2022-01-17', 8, '2022-01-17 19:10', 45999, [16]) IF NOT EXISTS;\n",
    "APPLY BATCH;\n",
    "\"\"\"\n",
    "\n",
    "session.execute(query)"
   ]
  },
  {
   "cell_type": "markdown",
   "metadata": {},
   "source": [
    "### Querying orders table"
   ]
  },
  {
   "cell_type": "code",
   "execution_count": 66,
   "metadata": {},
   "outputs": [
    {
     "ename": "SyntaxException",
     "evalue": "<Error from server: code=2000 [Syntax error in CQL query] message=\"line 1:0 no viable alternative at input 'DESCRIBE' ([DESCRIBE]...)\">",
     "output_type": "error",
     "traceback": [
      "\u001b[1;31m---------------------------------------------------------------------------\u001b[0m",
      "\u001b[1;31mSyntaxException\u001b[0m                           Traceback (most recent call last)",
      "Input \u001b[1;32mIn [66]\u001b[0m, in \u001b[0;36m<module>\u001b[1;34m\u001b[0m\n\u001b[0;32m      1\u001b[0m \u001b[38;5;66;03m# 1. Показати структуру таблиці\u001b[39;00m\n\u001b[1;32m----> 3\u001b[0m \u001b[43msession\u001b[49m\u001b[38;5;241;43m.\u001b[39;49m\u001b[43mexecute\u001b[49m\u001b[43m(\u001b[49m\u001b[38;5;124;43m\"\u001b[39;49m\u001b[38;5;124;43mDESCRIBE estore.orders;\u001b[39;49m\u001b[38;5;124;43m\"\u001b[39;49m\u001b[43m)\u001b[49m\n",
      "File \u001b[1;32m~\\.conda\\envs\\distributed_databases_env\\lib\\site-packages\\cassandra\\cluster.py:2618\u001b[0m, in \u001b[0;36mcassandra.cluster.Session.execute\u001b[1;34m()\u001b[0m\n",
      "File \u001b[1;32m~\\.conda\\envs\\distributed_databases_env\\lib\\site-packages\\cassandra\\cluster.py:4894\u001b[0m, in \u001b[0;36mcassandra.cluster.ResponseFuture.result\u001b[1;34m()\u001b[0m\n",
      "\u001b[1;31mSyntaxException\u001b[0m: <Error from server: code=2000 [Syntax error in CQL query] message=\"line 1:0 no viable alternative at input 'DESCRIBE' ([DESCRIBE]...)\">"
     ]
    }
   ],
   "source": [
    "# 1. Показати структуру таблиці\n",
    "\n",
    "session.execute(\"DESCRIBE estore.orders;\")"
   ]
  },
  {
   "cell_type": "markdown",
   "metadata": {},
   "source": [
    "##### DESCRIBE directive is not supported by python's driver. \n",
    "##### Issue addressed here: https://stackoverflow.com/questions/35986136/cassandra-3-1-python-driver-no-viable-alternative-at-input-describe\n",
    "##### Since that, it's output is got by entering cassandra's container shell end executing it with cqlsh\n",
    "    cqlsh> DESCRIBE estore.orders;\n",
    "\n",
    "    CREATE TABLE estore.orders (\n",
    "        client_name text,\n",
    "        order_date date,\n",
    "        order_id int,\n",
    "        cost int,\n",
    "        items list<int>,\n",
    "        order_timestamp timestamp,\n",
    "        PRIMARY KEY (client_name, order_date, order_id)\n",
    "    ) WITH CLUSTERING ORDER BY (order_date ASC, order_id ASC)\n",
    "        AND bloom_filter_fp_chance = 0.01\n",
    "        AND caching = {'keys': 'ALL', 'rows_per_partition': 'NONE'}\n",
    "        AND comment = ''\n",
    "        AND compaction = {'class': 'org.apache.cassandra.db.compaction.SizeTieredCompactionStrategy', 'max_threshold': '32', 'min_threshold': '4'}\n",
    "        AND compression = {'chunk_length_in_kb': '64', 'class': 'org.apache.cassandra.io.compress.LZ4Compressor'}\n",
    "        AND crc_check_chance = 1.0\n",
    "        AND dclocal_read_repair_chance = 0.1\n",
    "        AND default_time_to_live = 0\n",
    "        AND gc_grace_seconds = 864000\n",
    "        AND max_index_interval = 2048\n",
    "        AND memtable_flush_period_in_ms = 0\n",
    "        AND min_index_interval = 128\n",
    "        AND read_repair_chance = 0.0\n",
    "        AND speculative_retry = '99PERCENTILE';\n",
    "    CREATE INDEX order_items_idx ON estore.orders (values(items));\n",
    "\n",
    "    CREATE MATERIALIZED VIEW estore.orders_by_price AS\n",
    "        SELECT client_name, cost, order_date, order_id, items, order_timestamp\n",
    "        FROM estore.orders\n",
    "        WHERE client_name IS NOT NULL AND order_date IS NOT NULL AND order_id IS NOT NULL AND cost IS NOT NULL\n",
    "        PRIMARY KEY (client_name, cost, order_date, order_id)\n",
    "        WITH CLUSTERING ORDER BY (cost ASC, order_date ASC, order_id ASC)\n",
    "        AND bloom_filter_fp_chance = 0.01\n",
    "        AND caching = {'keys': 'ALL', 'rows_per_partition': 'NONE'}\n",
    "        AND comment = ''\n",
    "        AND compaction = {'class': 'org.apache.cassandra.db.compaction.SizeTieredCompactionStrategy', 'max_threshold': '32', 'min_threshold': '4'}\n",
    "        AND compression = {'chunk_length_in_kb': '64', 'class': 'org.apache.cassandra.io.compress.LZ4Compressor'}\n",
    "        AND crc_check_chance = 1.0\n",
    "        AND dclocal_read_repair_chance = 0.1\n",
    "        AND default_time_to_live = 0\n",
    "        AND gc_grace_seconds = 864000\n",
    "        AND max_index_interval = 2048\n",
    "        AND memtable_flush_period_in_ms = 0\n",
    "        AND min_index_interval = 128\n",
    "        AND read_repair_chance = 0.0\n",
    "        AND speculative_retry = '99PERCENTILE';"
   ]
  },
  {
   "cell_type": "code",
   "execution_count": 67,
   "metadata": {},
   "outputs": [
    {
     "name": "stdout",
     "output_type": "stream",
     "text": [
      "Row(client_name='Stepan Baran', order_date=Date(19002), order_id=1, cost=51498, items=[3, 9], order_timestamp=datetime.datetime(2022, 1, 10, 13, 44))\n",
      "Row(client_name='Stepan Baran', order_date=Date(19005), order_id=2, cost=41999, items=[15], order_timestamp=datetime.datetime(2022, 1, 13, 9, 10))\n",
      "Row(client_name='Stepan Baran', order_date=Date(19010), order_id=3, cost=41999, items=[12], order_timestamp=datetime.datetime(2022, 1, 18, 18, 35))\n"
     ]
    }
   ],
   "source": [
    "# 2. Для замовника виведіть всі його замовлення відсортовані за часом коли вони були зроблені\n",
    "\n",
    "query = \"\"\"\n",
    "SELECT * FROM estore.orders\n",
    "WHERE client_name = 'Stepan Baran'\n",
    "\"\"\"\n",
    "\n",
    "rows = session.execute(query)\n",
    "for row in rows:\n",
    "    print(row)"
   ]
  },
  {
   "cell_type": "code",
   "execution_count": 68,
   "metadata": {},
   "outputs": [
    {
     "name": "stdout",
     "output_type": "stream",
     "text": [
      "Row(client_name='Stepan Baran', order_date=Date(19002), order_id=1, cost=51498, items=[3, 9], order_timestamp=datetime.datetime(2022, 1, 10, 13, 44))\n"
     ]
    }
   ],
   "source": [
    "# 3. Для замовника знайдіть замовлення з певним товаром\n",
    "\n",
    "query = \"\"\"\n",
    "SELECT * FROM estore.orders\n",
    "WHERE client_name = 'Stepan Baran'\n",
    "AND items CONTAINS 3;\n",
    "\"\"\"\n",
    "\n",
    "rows = session.execute(query)\n",
    "for row in rows:\n",
    "    print(row)"
   ]
  },
  {
   "cell_type": "code",
   "execution_count": 71,
   "metadata": {},
   "outputs": [
    {
     "name": "stdout",
     "output_type": "stream",
     "text": [
      "Row(client_name='Petro Vovk', order_date=Date(19003), order_id=4, cost=23999, items=[7], order_timestamp=datetime.datetime(2022, 1, 11, 13, 23))\n",
      "Row(client_name='Petro Vovk', order_date=Date(19004), order_id=5, cost=35498, items=[10, 11], order_timestamp=datetime.datetime(2022, 1, 12, 19, 10))\n"
     ]
    }
   ],
   "source": [
    "# 4. Для замовника знайдіть замовлення за певний період часу і їх кількість\n",
    "\n",
    "query = \"\"\"\n",
    "SELECT * FROM estore.orders\n",
    "WHERE client_name = 'Petro Vovk'\n",
    "AND order_date >= '2022-01-10' AND order_date <= '2022-01-13';\n",
    "\"\"\"\n",
    "\n",
    "rows = session.execute(query)\n",
    "for row in rows:\n",
    "    print(row)"
   ]
  },
  {
   "cell_type": "code",
   "execution_count": 73,
   "metadata": {},
   "outputs": [
    {
     "name": "stdout",
     "output_type": "stream",
     "text": [
      "Row(client_name='Mykola Bez Prykolu', total_spent=121496)\n",
      "Row(client_name='Petro Vovk', total_spent=90496)\n",
      "Row(client_name='Stepan Baran', total_spent=135496)\n"
     ]
    }
   ],
   "source": [
    "# 5. Для кожного замовників визначте суму на яку були зроблені усі його замовлення\n",
    "\n",
    "query = \"\"\"\n",
    "SELECT client_name, SUM(cost) as total_spent FROM estore.orders\n",
    "GROUP BY client_name;\n",
    "\"\"\"\n",
    "\n",
    "rows = session.execute(query)\n",
    "for row in rows:\n",
    "    print(row)"
   ]
  },
  {
   "cell_type": "code",
   "execution_count": 74,
   "metadata": {},
   "outputs": [
    {
     "name": "stdout",
     "output_type": "stream",
     "text": [
      "Row(client_name='Mykola Bez Prykolu', max_order_value=75497, order_id=7)\n",
      "Row(client_name='Petro Vovk', max_order_value=35498, order_id=4)\n",
      "Row(client_name='Stepan Baran', max_order_value=51498, order_id=1)\n"
     ]
    }
   ],
   "source": [
    "# 6. Для кожного замовників визначте замовлення з максимальною вартістю\n",
    "\n",
    "query = \"\"\"\n",
    "SELECT client_name, MAX(cost) as max_order_value, order_id FROM estore.orders\n",
    "GROUP BY client_name;\n",
    "\"\"\"\n",
    "\n",
    "rows = session.execute(query)\n",
    "for row in rows:\n",
    "    print(row)"
   ]
  },
  {
   "cell_type": "code",
   "execution_count": 79,
   "metadata": {},
   "outputs": [
    {
     "name": "stdout",
     "output_type": "stream",
     "text": [
      "51498\n",
      "\n",
      "UPDATE estore.orders\n",
      "SET items = items + [5], cost = 73497\n",
      "WHERE client_name = 'Stepan Baran' AND order_date = '2022-01-10' AND order_id = 1;\n",
      "\n",
      "Row(client_name='Stepan Baran', order_date=Date(19002), order_id=1, cost=73497, items=[3, 9, 5], order_timestamp=datetime.datetime(2022, 1, 10, 13, 44))\n"
     ]
    }
   ],
   "source": [
    "# 7. Модифікуйте певне замовлення додавши / видаливши один або кілька товарів при цьому також змінюючи вартість замовлення\n",
    "query = \"\"\"\n",
    "SELECT * FROM estore.orders\n",
    "WHERE client_name = 'Stepan Baran' AND order_date = '2022-01-10' AND order_id = 1\n",
    "\"\"\"\n",
    "\n",
    "current_state = session.execute(query).one()\n",
    "print(current_state.cost)\n",
    "\n",
    "item_to_add = {'item_id': 5, 'item_price': 21999}\n",
    "\n",
    "query = f\"\"\"\n",
    "UPDATE estore.orders\n",
    "SET items = items + [{item_to_add['item_id']}], cost = {current_state.cost + item_to_add['item_price']}\n",
    "WHERE client_name = 'Stepan Baran' AND order_date = '2022-01-10' AND order_id = 1;\n",
    "\"\"\"\n",
    "print(query)\n",
    "session.execute(query)\n",
    "\n",
    "query = \"\"\"\n",
    "SELECT * FROM estore.orders\n",
    "WHERE client_name = 'Stepan Baran' AND order_date = '2022-01-10' AND order_id = 1\n",
    "\"\"\"\n",
    "\n",
    "rows = session.execute(query)\n",
    "for row in rows:\n",
    "    print(row)"
   ]
  },
  {
   "cell_type": "code",
   "execution_count": 87,
   "metadata": {},
   "outputs": [
    {
     "name": "stdout",
     "output_type": "stream",
     "text": [
      "Row(writetime_cost=1643617905263000, order_id=7)\n",
      "Row(writetime_cost=1643617905263000, order_id=8)\n",
      "Row(writetime_cost=1643617902638001, order_id=4)\n",
      "Row(writetime_cost=1643617902638001, order_id=5)\n",
      "Row(writetime_cost=1643617902638001, order_id=6)\n",
      "Row(writetime_cost=1643620062919340, order_id=1)\n",
      "Row(writetime_cost=1643617900468001, order_id=2)\n",
      "Row(writetime_cost=1643617900468001, order_id=3)\n"
     ]
    }
   ],
   "source": [
    "# 8. Для кожного замовлення виведіть час коли його ціна були занесена в базу (SELECT WRITETIME)\n",
    "\n",
    "query = \"\"\"\n",
    "SELECT WRITETIME (cost), order_id FROM estore.orders;\n",
    "\"\"\"\n",
    "\n",
    "rows = session.execute(query)\n",
    "for row in rows:\n",
    "    print(row)"
   ]
  },
  {
   "cell_type": "code",
   "execution_count": 89,
   "metadata": {},
   "outputs": [
    {
     "name": "stdout",
     "output_type": "stream",
     "text": [
      "Row(client_name='Andriy Zaiac', order_date=Date(19012), order_id=9, cost=21999, items=[5], order_timestamp=datetime.datetime(2022, 1, 20, 13, 23))\n",
      "Nothing found!\n"
     ]
    }
   ],
   "source": [
    "# 9. Створіть замовлення з певним часом життя (TTL), після якого воно видалиться\n",
    "\n",
    "query = \"\"\"\n",
    "INSERT INTO estore.orders (client_name, order_date, order_id, order_timestamp, cost, items)\n",
    "VALUES ('Andriy Zaiac', '2022-01-20', 9, '2022-01-20 13:23', 21999, [5]) IF NOT EXISTS\n",
    "USING TTL 15;\n",
    "\"\"\"\n",
    "\n",
    "session.execute(query)\n",
    "\n",
    "query = \"\"\"\n",
    "SELECT * FROM estore.orders\n",
    "WHERE client_name = 'Andriy Zaiac';\n",
    "\"\"\"\n",
    "row = session.execute(query).one()\n",
    "if row:\n",
    "    print(row)\n",
    "else:\n",
    "    print('Nothing found!')\n",
    "\n",
    "time.sleep(16)\n",
    "\n",
    "row = session.execute(query).one()\n",
    "if row:\n",
    "    print(row)\n",
    "else:\n",
    "    print('Nothing found!')"
   ]
  },
  {
   "cell_type": "code",
   "execution_count": 91,
   "metadata": {},
   "outputs": [
    {
     "name": "stdout",
     "output_type": "stream",
     "text": [
      "{\"client_name\": \"Mykola Bez Prykolu\", \"order_date\": \"2022-01-15\", \"order_id\": 7, \"cost\": 75497, \"items\": [8, 10, 11], \"order_timestamp\": \"2022-01-15 13:23:00.000Z\"}\n",
      "{\"client_name\": \"Mykola Bez Prykolu\", \"order_date\": \"2022-01-17\", \"order_id\": 8, \"cost\": 45999, \"items\": [16], \"order_timestamp\": \"2022-01-17 19:10:00.000Z\"}\n",
      "{\"client_name\": \"Petro Vovk\", \"order_date\": \"2022-01-11\", \"order_id\": 4, \"cost\": 23999, \"items\": [7], \"order_timestamp\": \"2022-01-11 13:23:00.000Z\"}\n",
      "{\"client_name\": \"Petro Vovk\", \"order_date\": \"2022-01-12\", \"order_id\": 5, \"cost\": 35498, \"items\": [10, 11], \"order_timestamp\": \"2022-01-12 19:10:00.000Z\"}\n",
      "{\"client_name\": \"Petro Vovk\", \"order_date\": \"2022-01-19\", \"order_id\": 6, \"cost\": 30999, \"items\": [13], \"order_timestamp\": \"2022-01-19 14:05:00.000Z\"}\n",
      "{\"client_name\": \"Stepan Baran\", \"order_date\": \"2022-01-10\", \"order_id\": 1, \"cost\": 73497, \"items\": [3, 9, 5], \"order_timestamp\": \"2022-01-10 13:44:00.000Z\"}\n",
      "{\"client_name\": \"Stepan Baran\", \"order_date\": \"2022-01-13\", \"order_id\": 2, \"cost\": 41999, \"items\": [15], \"order_timestamp\": \"2022-01-13 09:10:00.000Z\"}\n",
      "{\"client_name\": \"Stepan Baran\", \"order_date\": \"2022-01-18\", \"order_id\": 3, \"cost\": 41999, \"items\": [12], \"order_timestamp\": \"2022-01-18 18:35:00.000Z\"}\n"
     ]
    }
   ],
   "source": [
    "# 10. Поверніть замовлення у форматі JSON\n",
    "\n",
    "query = \"\"\"\n",
    "SELECT json * FROM estore.orders;\n",
    "\"\"\"\n",
    "\n",
    "rows = session.execute(query)\n",
    "for row in rows:\n",
    "    print(row.json)"
   ]
  },
  {
   "cell_type": "code",
   "execution_count": 94,
   "metadata": {},
   "outputs": [
    {
     "name": "stdout",
     "output_type": "stream",
     "text": [
      "Row(client_name='Andriy Zaiac', order_date=Date(19012), order_id=9, cost=21999, items=[5], order_timestamp=datetime.datetime(2022, 1, 20, 13, 23))\n"
     ]
    }
   ],
   "source": [
    "# 11. Додайте замовлення у форматі JSON\n",
    "\n",
    "query = \"\"\"\n",
    "INSERT INTO estore.orders JSON '{\n",
    "    \"client_name\": \"Andriy Zaiac\",\n",
    "    \"order_date\": \"2022-01-20\",\n",
    "    \"order_id\": 9,\n",
    "    \"order_timestamp\": \"2022-01-20 13:23\",\n",
    "    \"cost\": 21999,\n",
    "    \"items\": [5]\n",
    "}'\n",
    "\"\"\"\n",
    "\n",
    "session.execute(query)\n",
    "\n",
    "query = \"\"\"\n",
    "SELECT * FROM estore.orders\n",
    "WHERE client_name = 'Andriy Zaiac';\n",
    "\"\"\"\n",
    "row = session.execute(query).one()\n",
    "print(row)"
   ]
  }
 ],
 "metadata": {
  "interpreter": {
   "hash": "4296a99471eb705c49dec4020f0212abd0a2c99e809a04ecfa289b1b30a51b57"
  },
  "kernelspec": {
   "display_name": "Python 3.8.12 64-bit ('distributed_databases_env': conda)",
   "language": "python",
   "name": "python3"
  },
  "language_info": {
   "codemirror_mode": {
    "name": "ipython",
    "version": 3
   },
   "file_extension": ".py",
   "mimetype": "text/x-python",
   "name": "python",
   "nbconvert_exporter": "python",
   "pygments_lexer": "ipython3",
   "version": "3.8.12"
  },
  "orig_nbformat": 4
 },
 "nbformat": 4,
 "nbformat_minor": 2
}
