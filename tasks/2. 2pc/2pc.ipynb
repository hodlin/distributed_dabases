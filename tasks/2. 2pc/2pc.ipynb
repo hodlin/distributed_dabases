{
 "cells": [
  {
   "cell_type": "code",
   "execution_count": 1,
   "metadata": {},
   "outputs": [],
   "source": [
    "import psycopg2\n",
    "import random"
   ]
  },
  {
   "cell_type": "markdown",
   "metadata": {},
   "source": [
    "#### Database connection settings"
   ]
  },
  {
   "cell_type": "code",
   "execution_count": 2,
   "metadata": {},
   "outputs": [],
   "source": [
    "db_settings = {\n",
    "    'flight': {\n",
    "        'host': \"localhost\",\n",
    "        'port': 5001,\n",
    "        'database': \"postgres\",\n",
    "        'user': \"postgres\",\n",
    "        'password': \"pgpass\"\n",
    "    },\n",
    "    'hotel': {\n",
    "        'host': \"localhost\",\n",
    "        'port': 5002,\n",
    "        'database': \"postgres\",\n",
    "        'user': \"postgres\",\n",
    "        'password': \"pgpass\"\n",
    "    },\n",
    "    'account': {\n",
    "        'host': \"localhost\",\n",
    "        'port': 5003,\n",
    "        'database': \"postgres\",\n",
    "        'user': \"postgres\",\n",
    "        'password': \"pgpass\"\n",
    "    },\n",
    "}"
   ]
  },
  {
   "cell_type": "markdown",
   "metadata": {},
   "source": [
    "#### Initialization functions"
   ]
  },
  {
   "cell_type": "code",
   "execution_count": 3,
   "metadata": {},
   "outputs": [],
   "source": [
    "def get_rand_non_repetitve_int():\n",
    "    rand_list = list()\n",
    "    for i in range(10):\n",
    "          number = random.randint(1,100)\n",
    "          if number not in rand_list: \n",
    "              rand_list.append(number)\n",
    "              yield number\n",
    "\n",
    "def db_init(query, connection):\n",
    "    with connection.cursor() as cursor:\n",
    "        try:\n",
    "            cursor.execute(query)\n",
    "            connection.commit()\n",
    "            print('Table created')\n",
    "        except Exception as e:\n",
    "            print(e)\n",
    "            connection.rollback()\n",
    "\n",
    "def flight_init(connection):\n",
    "    query = '''\n",
    "    drop table if exists flight_booking;\n",
    "    create table flight_booking(\n",
    "        booking_id serial primary key,\n",
    "        client_name varchar(255),\n",
    "        flight_number  varchar(255),\n",
    "        airpot_of_departure varchar(255),\n",
    "        destination_airport varchar(255),\n",
    "        date int\n",
    "    );\n",
    "    truncate table flight_booking;\n",
    "    '''\n",
    "    db_init(query, connection)\n",
    "\n",
    "def hotel_init(connection):\n",
    "    query = '''\n",
    "    drop table if exists hotel_booking;\n",
    "    create table hotel_booking(\n",
    "        booking_id serial primary key,\n",
    "        client_name varchar(255),\n",
    "        hotel_name  varchar(255),\n",
    "        check_in_date int,   \n",
    "        check_out_date int\n",
    "    );\n",
    "    truncate table hotel_booking;\n",
    "    '''\n",
    "    db_init(query, connection)\n",
    "\n",
    "def account_init(connection):\n",
    "    query = '''\n",
    "    drop table if exists account;\n",
    "    create table account(\n",
    "        account_id serial primary key,\n",
    "        client_name varchar(255),\n",
    "        deposit int check (deposit >= 0)\n",
    "    );\n",
    "    truncate table account;\n",
    "    insert into account(client_name, deposit) \n",
    "    values \n",
    "    ('Dmytro Domin', 100)\n",
    "    '''\n",
    "    db_init(query, connection)\n",
    "\n",
    "def add_reservation(client_name, flight_record, hotel_record, connections):\n",
    "    flight_query = '''\n",
    "        insert into flight_booking(client_name, flight_number, airpot_of_departure, destination_airport, date)\n",
    "        values\n",
    "        ('{}', '{}', '{}', '{}', {});\n",
    "    '''.format(client_name, *flight_record)\n",
    "    hotel_query = '''\n",
    "        insert into hotel_booking(client_name, hotel_name, check_in_date, check_out_date)\n",
    "        values\n",
    "        ('{}', '{}', {}, {});\n",
    "    '''.format(client_name, *hotel_record)\n",
    "    account_query = '''\n",
    "        update account set deposit = deposit - 35 WHERE client_name = '{}';\n",
    "    '''.format(client_name)\n",
    "    \n",
    "    \n",
    "    transaction_id = connections['flight'].xid(next(get_rand_non_repetitve_int()),'abc','de')\n",
    "    \n",
    "    try:\n",
    "        cursors = dict()\n",
    "        for connection_name, connection in connections.items():\n",
    "            connection.tpc_begin(transaction_id)\n",
    "            cursors.update({connection_name: connection.cursor()})\n",
    "        \n",
    "        if 'flight' in cursors.keys():\n",
    "            cursors['flight'].execute(flight_query)\n",
    "        if 'hotel' in cursors.keys():\n",
    "            cursors['hotel'].execute(hotel_query)\n",
    "        if 'account' in cursors.keys():\n",
    "            cursors['account'].execute(account_query)\n",
    "\n",
    "        for connection_name, connection in connections.items():\n",
    "            connection.tpc_prepare()\n",
    "\n",
    "        for connection_name, connection in connections.items():\n",
    "            connection.tpc_commit()\n",
    "\n",
    "        return transaction_id, True\n",
    "\n",
    "    except Exception as e:\n",
    "        print(e)\n",
    "        for connection_name, connection in connections.items():\n",
    "                    connection.tpc_rollback()\n",
    "        return transaction_id, False"
   ]
  },
  {
   "cell_type": "markdown",
   "metadata": {},
   "source": [
    "### Working with flight and hotel databases on two phase commit "
   ]
  },
  {
   "cell_type": "code",
   "execution_count": 4,
   "metadata": {},
   "outputs": [
    {
     "name": "stdout",
     "output_type": "stream",
     "text": [
      "Table created\n",
      "Table created\n"
     ]
    }
   ],
   "source": [
    "connections = db_connections = {\n",
    "    'flight': psycopg2.connect(**db_settings['flight']),\n",
    "    'hotel': psycopg2.connect(**db_settings['hotel']),\n",
    "    }\n",
    "    \n",
    "flight_init(connections['flight'])\n",
    "hotel_init(connections['hotel'])"
   ]
  },
  {
   "cell_type": "code",
   "execution_count": 5,
   "metadata": {},
   "outputs": [
    {
     "name": "stdout",
     "output_type": "stream",
     "text": [
      "(<Xid: (100, 'abc', 'de')>, True)\n",
      "flight_booking table records:\n",
      "(1, 'Ivan Baran', 'FR3069', 'KBP', 'BCN', 20220115)\n",
      "hotel_booking table records:\n",
      "(1, 'Ivan Baran', 'Radisson', 20220115, 20220121)\n"
     ]
    }
   ],
   "source": [
    "client_name = 'Ivan Baran'\n",
    "flight_booking = ('FR3069', 'KBP', 'BCN', 20220115)\n",
    "hotel_booking = ('Radisson', 20220115, 20220121)\n",
    "\n",
    "transaction_id = add_reservation(client_name, flight_booking, hotel_booking, connections)\n",
    "print(transaction_id)\n",
    "\n",
    "with connections['flight'].cursor() as flight_cursor, connections['hotel'].cursor() as hotel_cursor:\n",
    "    try:\n",
    "        flight_cursor.execute('select * from flight_booking;')\n",
    "        hotel_cursor.execute('select * from hotel_booking;')\n",
    "\n",
    "        flight_records = flight_cursor.fetchall()\n",
    "        hotel_records = hotel_cursor.fetchall()\n",
    "\n",
    "        connections['flight'].commit()\n",
    "        connections['hotel'].commit()\n",
    "    except Exception as e:\n",
    "        print(e)\n",
    "        connections['flight'].rollback()\n",
    "        connections['hotel'].rollback()\n",
    "\n",
    "print('flight_booking table records:')\n",
    "for row in flight_records:\n",
    "    print(row)\n",
    "\n",
    "print('hotel_booking table records:')\n",
    "for row in hotel_records:\n",
    "    print(row)"
   ]
  },
  {
   "cell_type": "code",
   "execution_count": 6,
   "metadata": {},
   "outputs": [
    {
     "name": "stdout",
     "output_type": "stream",
     "text": [
      "(<Xid: (90, 'abc', 'de')>, True)\n",
      "flight_booking table records:\n",
      "(1, 'Ivan Baran', 'FR3069', 'KBP', 'BCN', 20220115)\n",
      "(2, 'Stepan Baran', 'FR7262', 'KRK', 'KBP', 20220115)\n",
      "hotel_booking table records:\n",
      "(1, 'Ivan Baran', 'Radisson', 20220115, 20220121)\n",
      "(2, 'Stepan Baran', 'Premier', 20220115, 20220121)\n"
     ]
    }
   ],
   "source": [
    "client_name = 'Stepan Baran'\n",
    "flight_booking = ('FR7262', 'KRK', 'KBP', 20220115)\n",
    "hotel_booking = ('Premier', 20220115, 20220121)\n",
    "\n",
    "transaction_id = add_reservation(client_name, flight_booking, hotel_booking, connections)\n",
    "print(transaction_id)\n",
    "\n",
    "with connections['flight'].cursor() as flight_cursor, connections['hotel'].cursor() as hotel_cursor:\n",
    "    try:\n",
    "        flight_cursor.execute('select * from flight_booking;')\n",
    "        hotel_cursor.execute('select * from hotel_booking;')\n",
    "\n",
    "        flight_records = flight_cursor.fetchall()\n",
    "        hotel_records = hotel_cursor.fetchall()\n",
    "\n",
    "        connections['flight'].commit()\n",
    "        connections['hotel'].commit()\n",
    "    except Exception as e:\n",
    "        print(e)\n",
    "        connections['flight'].rollback()\n",
    "        connections['hotel'].rollback()\n",
    "\n",
    "print('flight_booking table records:')\n",
    "for row in flight_records:\n",
    "    print(row)\n",
    "\n",
    "print('hotel_booking table records:')\n",
    "for row in hotel_records:\n",
    "    print(row)"
   ]
  },
  {
   "cell_type": "code",
   "execution_count": 7,
   "metadata": {},
   "outputs": [
    {
     "name": "stdout",
     "output_type": "stream",
     "text": [
      "(<Xid: (5, 'abc', 'de')>, True)\n",
      "flight_booking table records:\n",
      "(1, 'Ivan Baran', 'FR3069', 'KBP', 'BCN', 20220115)\n",
      "(2, 'Stepan Baran', 'FR7262', 'KRK', 'KBP', 20220115)\n",
      "(3, 'Petro Baran', 'PQ482', 'DXB', 'KBP', 20220115)\n",
      "hotel_booking table records:\n",
      "(1, 'Ivan Baran', 'Radisson', 20220115, 20220121)\n",
      "(2, 'Stepan Baran', 'Premier', 20220115, 20220121)\n",
      "(3, 'Petro Baran', 'Hiltons', 20220115, 20220121)\n"
     ]
    }
   ],
   "source": [
    "client_name = 'Petro Baran'\n",
    "flight_booking = ('PQ482', 'DXB', 'KBP', 20220115)\n",
    "hotel_booking = ('Hiltons', 20220115, 20220121)\n",
    "\n",
    "transaction_id = add_reservation(client_name, flight_booking, hotel_booking, connections)\n",
    "print(transaction_id)\n",
    "\n",
    "with connections['flight'].cursor() as flight_cursor, connections['hotel'].cursor() as hotel_cursor:\n",
    "    try:\n",
    "        flight_cursor.execute('select * from flight_booking;')\n",
    "        hotel_cursor.execute('select * from hotel_booking;')\n",
    "\n",
    "        flight_records = flight_cursor.fetchall()\n",
    "        hotel_records = hotel_cursor.fetchall()\n",
    "\n",
    "        connections['flight'].commit()\n",
    "        connections['hotel'].commit()\n",
    "    except Exception as e:\n",
    "        print(e)\n",
    "        connections['flight'].rollback()\n",
    "        connections['hotel'].rollback()\n",
    "\n",
    "print('flight_booking table records:')\n",
    "for row in flight_records:\n",
    "    print(row)\n",
    "\n",
    "print('hotel_booking table records:')\n",
    "for row in hotel_records:\n",
    "    print(row)"
   ]
  },
  {
   "cell_type": "code",
   "execution_count": 8,
   "metadata": {},
   "outputs": [],
   "source": [
    "for connection in connections.values():\n",
    "    connection.close()"
   ]
  },
  {
   "cell_type": "markdown",
   "metadata": {},
   "source": [
    "### Working with flight, hotel and account databases on two phase commit "
   ]
  },
  {
   "cell_type": "code",
   "execution_count": 9,
   "metadata": {},
   "outputs": [
    {
     "name": "stdout",
     "output_type": "stream",
     "text": [
      "Table created\n",
      "Table created\n",
      "Table created\n"
     ]
    }
   ],
   "source": [
    "connections = db_connections = {\n",
    "    'flight': psycopg2.connect(**db_settings['flight']),\n",
    "    'hotel': psycopg2.connect(**db_settings['hotel']),\n",
    "    'account': psycopg2.connect(**db_settings['account']),\n",
    "    }\n",
    "    \n",
    "flight_init(connections['flight'])\n",
    "hotel_init(connections['hotel'])\n",
    "account_init(connections['account'])"
   ]
  },
  {
   "cell_type": "code",
   "execution_count": 10,
   "metadata": {},
   "outputs": [
    {
     "name": "stdout",
     "output_type": "stream",
     "text": [
      "(<Xid: (26, 'abc', 'de')>, True)\n",
      "flight_booking table records:\n",
      "(1, 'Dmytro Domin', 'FR3069', 'KBP', 'BCN', 20220115)\n",
      "hotel_booking table records:\n",
      "(1, 'Dmytro Domin', 'Radisson', 20220115, 20220121)\n",
      "account table records:\n",
      "(1, 'Dmytro Domin', 65)\n"
     ]
    }
   ],
   "source": [
    "client_name = 'Dmytro Domin'\n",
    "flight_booking = ('FR3069', 'KBP', 'BCN', 20220115)\n",
    "hotel_booking = ('Radisson', 20220115, 20220121)\n",
    "\n",
    "transaction_id = add_reservation(client_name, flight_booking, hotel_booking, connections)\n",
    "print(transaction_id)\n",
    "\n",
    "with connections['flight'].cursor() as flight_cursor, \\\n",
    "     connections['hotel'].cursor() as hotel_cursor, \\\n",
    "     connections['account'].cursor() as account_cursor:\n",
    "    try:\n",
    "        flight_cursor.execute('select * from flight_booking;')\n",
    "        hotel_cursor.execute('select * from hotel_booking;')\n",
    "        account_cursor.execute('select * from account;')\n",
    "\n",
    "        flight_records = flight_cursor.fetchall()\n",
    "        hotel_records = hotel_cursor.fetchall()\n",
    "        account_records = account_cursor.fetchall()\n",
    "\n",
    "        connections['flight'].commit()\n",
    "        connections['hotel'].commit()\n",
    "        connections['account'].commit()\n",
    "    except Exception as e:\n",
    "        print(e)\n",
    "        connections['flight'].rollback()\n",
    "        connections['hotel'].rollback()\n",
    "        connections['account'].rollback()\n",
    "\n",
    "print('flight_booking table records:')\n",
    "for row in flight_records:\n",
    "    print(row)\n",
    "\n",
    "print('hotel_booking table records:')\n",
    "for row in hotel_records:\n",
    "    print(row)\n",
    "\n",
    "print('account table records:')\n",
    "for row in account_records:\n",
    "    print(row)"
   ]
  },
  {
   "cell_type": "code",
   "execution_count": 11,
   "metadata": {},
   "outputs": [
    {
     "name": "stdout",
     "output_type": "stream",
     "text": [
      "(<Xid: (51, 'abc', 'de')>, True)\n",
      "flight_booking table records:\n",
      "(1, 'Dmytro Domin', 'FR3069', 'KBP', 'BCN', 20220115)\n",
      "(2, 'Dmytro Domin', 'FR3069', 'KBP', 'BCN', 20220115)\n",
      "hotel_booking table records:\n",
      "(1, 'Dmytro Domin', 'Radisson', 20220115, 20220121)\n",
      "(2, 'Dmytro Domin', 'Radisson', 20220115, 20220121)\n",
      "account table records:\n",
      "(1, 'Dmytro Domin', 30)\n"
     ]
    }
   ],
   "source": [
    "client_name = 'Dmytro Domin'\n",
    "flight_booking = ('FR3069', 'KBP', 'BCN', 20220115)\n",
    "hotel_booking = ('Radisson', 20220115, 20220121)\n",
    "\n",
    "transaction_id = add_reservation(client_name, flight_booking, hotel_booking, connections)\n",
    "print(transaction_id)\n",
    "\n",
    "with connections['flight'].cursor() as flight_cursor, \\\n",
    "     connections['hotel'].cursor() as hotel_cursor, \\\n",
    "     connections['account'].cursor() as account_cursor:\n",
    "    try:\n",
    "        flight_cursor.execute('select * from flight_booking;')\n",
    "        hotel_cursor.execute('select * from hotel_booking;')\n",
    "        account_cursor.execute('select * from account;')\n",
    "\n",
    "        flight_records = flight_cursor.fetchall()\n",
    "        hotel_records = hotel_cursor.fetchall()\n",
    "        account_records = account_cursor.fetchall()\n",
    "\n",
    "        connections['flight'].commit()\n",
    "        connections['hotel'].commit()\n",
    "        connections['account'].commit()\n",
    "    except Exception as e:\n",
    "        print(e)\n",
    "        connections['flight'].rollback()\n",
    "        connections['hotel'].rollback()\n",
    "        connections['account'].rollback()\n",
    "\n",
    "print('flight_booking table records:')\n",
    "for row in flight_records:\n",
    "    print(row)\n",
    "\n",
    "print('hotel_booking table records:')\n",
    "for row in hotel_records:\n",
    "    print(row)\n",
    "\n",
    "print('account table records:')\n",
    "for row in account_records:\n",
    "    print(row)"
   ]
  },
  {
   "cell_type": "code",
   "execution_count": 12,
   "metadata": {},
   "outputs": [
    {
     "name": "stdout",
     "output_type": "stream",
     "text": [
      "new row for relation \"account\" violates check constraint \"account_deposit_check\"\n",
      "DETAIL:  Failing row contains (1, Dmytro Domin, -5).\n",
      "\n",
      "(<Xid: (45, 'abc', 'de')>, False)\n",
      "flight_booking table records:\n",
      "(1, 'Dmytro Domin', 'FR3069', 'KBP', 'BCN', 20220115)\n",
      "(2, 'Dmytro Domin', 'FR3069', 'KBP', 'BCN', 20220115)\n",
      "hotel_booking table records:\n",
      "(1, 'Dmytro Domin', 'Radisson', 20220115, 20220121)\n",
      "(2, 'Dmytro Domin', 'Radisson', 20220115, 20220121)\n",
      "account table records:\n",
      "(1, 'Dmytro Domin', 30)\n"
     ]
    }
   ],
   "source": [
    "client_name = 'Dmytro Domin'\n",
    "flight_booking = ('FR3069', 'KBP', 'BCN', 20220115)\n",
    "hotel_booking = ('Radisson', 20220115, 20220121)\n",
    "\n",
    "transaction_id = add_reservation(client_name, flight_booking, hotel_booking, connections)\n",
    "print(transaction_id)\n",
    "\n",
    "with connections['flight'].cursor() as flight_cursor, \\\n",
    "     connections['hotel'].cursor() as hotel_cursor, \\\n",
    "     connections['account'].cursor() as account_cursor:\n",
    "    try:\n",
    "        flight_cursor.execute('select * from flight_booking;')\n",
    "        hotel_cursor.execute('select * from hotel_booking;')\n",
    "        account_cursor.execute('select * from account;')\n",
    "\n",
    "        flight_records = flight_cursor.fetchall()\n",
    "        hotel_records = hotel_cursor.fetchall()\n",
    "        account_records = account_cursor.fetchall()\n",
    "\n",
    "        connections['flight'].commit()\n",
    "        connections['hotel'].commit()\n",
    "        connections['account'].commit()\n",
    "    except Exception as e:\n",
    "        print(e)\n",
    "        connections['flight'].rollback()\n",
    "        connections['hotel'].rollback()\n",
    "        connections['account'].rollback()\n",
    "\n",
    "print('flight_booking table records:')\n",
    "for row in flight_records:\n",
    "    print(row)\n",
    "\n",
    "print('hotel_booking table records:')\n",
    "for row in hotel_records:\n",
    "    print(row)\n",
    "\n",
    "print('account table records:')\n",
    "for row in account_records:\n",
    "    print(row)"
   ]
  },
  {
   "cell_type": "code",
   "execution_count": 13,
   "metadata": {},
   "outputs": [],
   "source": [
    "for connection in connections.values():\n",
    "    connection.close()"
   ]
  },
  {
   "cell_type": "markdown",
   "metadata": {},
   "source": [
    "### Account table lock demo"
   ]
  },
  {
   "cell_type": "code",
   "execution_count": 14,
   "metadata": {},
   "outputs": [],
   "source": [
    "def add_reservation_account_lock(client_name, flight_record, hotel_record, connections):\n",
    "    flight_query = '''\n",
    "        insert into flight_booking(client_name, flight_number, airpot_of_departure, destination_airport, date)\n",
    "        values\n",
    "        ('{}', '{}', '{}', '{}', {});\n",
    "    '''.format(client_name, *flight_record)\n",
    "    hotel_query = '''\n",
    "        insert into hotel_booking(client_name, hotel_name, check_in_date, check_out_date)\n",
    "        values\n",
    "        ('{}', '{}', {}, {});\n",
    "    '''.format(client_name, *hotel_record)\n",
    "    account_query = '''\n",
    "        update account set deposit = deposit - 35 WHERE client_name = '{}';\n",
    "    '''.format(client_name)\n",
    "    \n",
    "    \n",
    "    transaction_id = connections['flight'].xid(next(get_rand_non_repetitve_int()),'abc','de')\n",
    "    \n",
    "    try:\n",
    "        cursors = dict()\n",
    "        for connection_name, connection in connections.items():\n",
    "            connection.tpc_begin(transaction_id)\n",
    "            cursors.update({connection_name: connection.cursor()})\n",
    "        \n",
    "        if 'flight' in cursors.keys():\n",
    "            cursors['flight'].execute(flight_query)\n",
    "        if 'hotel' in cursors.keys():\n",
    "            cursors['hotel'].execute(hotel_query)\n",
    "        if 'account' in cursors.keys():\n",
    "            cursors['account'].execute(account_query)\n",
    "\n",
    "        for connection_name, connection in connections.items():\n",
    "            connection.tpc_prepare()\n",
    "\n",
    "        for connection_name, connection in connections.items():\n",
    "            # Changes go here !!!!!!!!!!!!!!!!!!!!!!!!!!!!!!!!!!!!!!!!!!!!!!!!!!\n",
    "            if connection_name != 'account':\n",
    "                connection.tpc_commit()\n",
    "\n",
    "        return transaction_id, True\n",
    "\n",
    "    except Exception as e:\n",
    "        print(e)\n",
    "        for connection_name, connection in connections.items():\n",
    "                    connection.tpc_rollback()\n",
    "        return transaction_id, False"
   ]
  },
  {
   "cell_type": "code",
   "execution_count": 15,
   "metadata": {},
   "outputs": [
    {
     "name": "stdout",
     "output_type": "stream",
     "text": [
      "Table created\n",
      "Table created\n",
      "Table created\n"
     ]
    }
   ],
   "source": [
    "connections = db_connections = {\n",
    "    'flight': psycopg2.connect(**db_settings['flight']),\n",
    "    'hotel': psycopg2.connect(**db_settings['hotel']),\n",
    "    'account': psycopg2.connect(**db_settings['account']),\n",
    "    }\n",
    "    \n",
    "flight_init(connections['flight'])\n",
    "hotel_init(connections['hotel'])\n",
    "account_init(connections['account'])"
   ]
  },
  {
   "cell_type": "code",
   "execution_count": 16,
   "metadata": {},
   "outputs": [
    {
     "data": {
      "text/plain": [
       "(<Xid: (90, 'abc', 'de')>, True)"
      ]
     },
     "execution_count": 16,
     "metadata": {},
     "output_type": "execute_result"
    }
   ],
   "source": [
    "client_name = 'Dmytro Domin'\n",
    "flight_booking = ('FR3069', 'KBP', 'BCN', 20220115)\n",
    "hotel_booking = ('Radisson', 20220115, 20220121)\n",
    "\n",
    "# Chanhes go here !!!!!!!!!!!!!!!!!!!!!!\n",
    "add_reservation_account_lock(client_name, flight_booking, hotel_booking, connections)"
   ]
  },
  {
   "cell_type": "code",
   "execution_count": 51,
   "metadata": {},
   "outputs": [
    {
     "data": {
      "text/plain": [
       "(<Xid: (28, 'abc', 'de')>, True)"
      ]
     },
     "execution_count": 51,
     "metadata": {},
     "output_type": "execute_result"
    }
   ],
   "source": [
    "client_name = 'Dmytro Domin'\n",
    "flight_booking = ('FR3069', 'KBP', 'BCN', 20220115)\n",
    "hotel_booking = ('Radisson', 20220115, 20220121)\n",
    "\n",
    "# Chanhes go here !!!!!!!!!!!!!!!!!!!!!!\n",
    "add_reservation_account_lock(client_name, flight_booking, hotel_booking, connections)"
   ]
  },
  {
   "cell_type": "code",
   "execution_count": 55,
   "metadata": {},
   "outputs": [
    {
     "ename": "ProgrammingError",
     "evalue": "tpc_recover cannot be used with a prepared two-phase transaction",
     "output_type": "error",
     "traceback": [
      "\u001b[1;31m---------------------------------------------------------------------------\u001b[0m",
      "\u001b[1;31mProgrammingError\u001b[0m                          Traceback (most recent call last)",
      "Input \u001b[1;32mIn [55]\u001b[0m, in \u001b[0;36m<module>\u001b[1;34m\u001b[0m\n\u001b[1;32m----> 1\u001b[0m \u001b[43mconnections\u001b[49m\u001b[43m[\u001b[49m\u001b[38;5;124;43m'\u001b[39;49m\u001b[38;5;124;43maccount\u001b[39;49m\u001b[38;5;124;43m'\u001b[39;49m\u001b[43m]\u001b[49m\u001b[38;5;241;43m.\u001b[39;49m\u001b[43mtpc_recover\u001b[49m\u001b[43m(\u001b[49m\u001b[43m)\u001b[49m\n",
      "\u001b[1;31mProgrammingError\u001b[0m: tpc_recover cannot be used with a prepared two-phase transaction"
     ]
    }
   ],
   "source": [
    "connections['account'].tpc_recover()"
   ]
  },
  {
   "cell_type": "code",
   "execution_count": 54,
   "metadata": {},
   "outputs": [
    {
     "name": "stdout",
     "output_type": "stream",
     "text": [
      "execute cannot be used with a prepared two-phase transaction\n"
     ]
    },
    {
     "ename": "ProgrammingError",
     "evalue": "rollback cannot be used during a two-phase transaction",
     "output_type": "error",
     "traceback": [
      "\u001b[1;31m---------------------------------------------------------------------------\u001b[0m",
      "\u001b[1;31mProgrammingError\u001b[0m                          Traceback (most recent call last)",
      "Input \u001b[1;32mIn [54]\u001b[0m, in \u001b[0;36m<module>\u001b[1;34m\u001b[0m\n\u001b[0;32m      6\u001b[0m hotel_cursor\u001b[38;5;241m.\u001b[39mexecute(\u001b[38;5;124m'\u001b[39m\u001b[38;5;124mselect * from hotel_booking;\u001b[39m\u001b[38;5;124m'\u001b[39m)\n\u001b[1;32m----> 7\u001b[0m \u001b[43maccount_cursor\u001b[49m\u001b[38;5;241;43m.\u001b[39;49m\u001b[43mexecute\u001b[49m\u001b[43m(\u001b[49m\u001b[38;5;124;43m'\u001b[39;49m\u001b[38;5;124;43mselect * from account;\u001b[39;49m\u001b[38;5;124;43m'\u001b[39;49m\u001b[43m)\u001b[49m\n\u001b[0;32m      9\u001b[0m flight_records \u001b[38;5;241m=\u001b[39m flight_cursor\u001b[38;5;241m.\u001b[39mfetchall()\n",
      "\u001b[1;31mProgrammingError\u001b[0m: execute cannot be used with a prepared two-phase transaction",
      "\nDuring handling of the above exception, another exception occurred:\n",
      "\u001b[1;31mProgrammingError\u001b[0m                          Traceback (most recent call last)",
      "Input \u001b[1;32mIn [54]\u001b[0m, in \u001b[0;36m<module>\u001b[1;34m\u001b[0m\n\u001b[0;32m     18\u001b[0m         connections[\u001b[38;5;124m'\u001b[39m\u001b[38;5;124mflight\u001b[39m\u001b[38;5;124m'\u001b[39m]\u001b[38;5;241m.\u001b[39mrollback()\n\u001b[0;32m     19\u001b[0m         connections[\u001b[38;5;124m'\u001b[39m\u001b[38;5;124mhotel\u001b[39m\u001b[38;5;124m'\u001b[39m]\u001b[38;5;241m.\u001b[39mrollback()\n\u001b[1;32m---> 20\u001b[0m         \u001b[43mconnections\u001b[49m\u001b[43m[\u001b[49m\u001b[38;5;124;43m'\u001b[39;49m\u001b[38;5;124;43maccount\u001b[39;49m\u001b[38;5;124;43m'\u001b[39;49m\u001b[43m]\u001b[49m\u001b[38;5;241;43m.\u001b[39;49m\u001b[43mrollback\u001b[49m\u001b[43m(\u001b[49m\u001b[43m)\u001b[49m\n\u001b[0;32m     22\u001b[0m \u001b[38;5;28mprint\u001b[39m(\u001b[38;5;124m'\u001b[39m\u001b[38;5;124mflight_booking table records:\u001b[39m\u001b[38;5;124m'\u001b[39m)\n\u001b[0;32m     23\u001b[0m \u001b[38;5;28;01mfor\u001b[39;00m row \u001b[38;5;129;01min\u001b[39;00m flight_records:\n",
      "\u001b[1;31mProgrammingError\u001b[0m: rollback cannot be used during a two-phase transaction"
     ]
    }
   ],
   "source": [
    "with connections['flight'].cursor() as flight_cursor, \\\n",
    "     connections['hotel'].cursor() as hotel_cursor, \\\n",
    "     connections['account'].cursor() as account_cursor:\n",
    "    try:\n",
    "        flight_cursor.execute('select * from flight_booking;')\n",
    "        hotel_cursor.execute('select * from hotel_booking;')\n",
    "        account_cursor.execute('select * from account;')\n",
    "\n",
    "        flight_records = flight_cursor.fetchall()\n",
    "        hotel_records = hotel_cursor.fetchall()\n",
    "        account_records = account_cursor.fetchall()\n",
    "\n",
    "        connections['flight'].commit()\n",
    "        connections['hotel'].commit()\n",
    "        connections['account'].commit()\n",
    "    except Exception as e:\n",
    "        print(e)\n",
    "        connections['flight'].rollback()\n",
    "        connections['hotel'].rollback()\n",
    "        connections['account'].rollback()\n",
    "        \n",
    "print('flight_booking table records:')\n",
    "for row in flight_records:\n",
    "    print(row)\n",
    "\n",
    "print('hotel_booking table records:')\n",
    "for row in hotel_records:\n",
    "    print(row)\n",
    "\n",
    "print('account table records:')\n",
    "for row in account_records:\n",
    "    print(row)"
   ]
  },
  {
   "cell_type": "markdown",
   "metadata": {},
   "source": [
    "![alt text](screenshot_pending_transaction.png \"Pending transaction\")\n",
    "![alt text](screenshot_rollback_prepared.png \"Rollback prepared\")"
   ]
  }
 ],
 "metadata": {
  "interpreter": {
   "hash": "4296a99471eb705c49dec4020f0212abd0a2c99e809a04ecfa289b1b30a51b57"
  },
  "kernelspec": {
   "display_name": "Python 3.8.12 64-bit ('distributed_databases_env': conda)",
   "language": "python",
   "name": "python3"
  },
  "language_info": {
   "codemirror_mode": {
    "name": "ipython",
    "version": 3
   },
   "file_extension": ".py",
   "mimetype": "text/x-python",
   "name": "python",
   "nbconvert_exporter": "python",
   "pygments_lexer": "ipython3",
   "version": "3.8.12"
  },
  "orig_nbformat": 4
 },
 "nbformat": 4,
 "nbformat_minor": 2
}
