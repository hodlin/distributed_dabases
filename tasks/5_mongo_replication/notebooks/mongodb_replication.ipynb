{
 "cells": [
  {
   "cell_type": "code",
   "execution_count": 110,
   "metadata": {},
   "outputs": [],
   "source": [
    "from pymongo import MongoClient\n",
    "from pymongo import WriteConcern\n",
    "from pymongo import ReadPreference\n",
    "from pymongo.read_concern import ReadConcern\n",
    "\n",
    "import time"
   ]
  },
  {
   "cell_type": "markdown",
   "metadata": {},
   "source": [
    "\n",
    "#### Task 1\n",
    "\n",
    "Set up replication with following config: Primary with Two Secondary Members.\n",
    "\n",
    "*Replica set configured with Docker containers. Claster running and initialization implemented with docker-compose.*\n",
    "\n",
    "Files:\n",
    "- docker-compose.yml\n",
    "- rs0-init.sh\n"
   ]
  },
  {
   "cell_type": "markdown",
   "metadata": {},
   "source": [
    "#### Initializing connection to replica set"
   ]
  },
  {
   "cell_type": "code",
   "execution_count": 3,
   "metadata": {},
   "outputs": [
    {
     "name": "stdout",
     "output_type": "stream",
     "text": [
      "MongoClient(host=['mongodb_node_3:27017', 'mongodb_node_2:27017', 'mongodb_node_1:27017'], document_class=dict, tz_aware=False, connect=True, replicaset='rs0')\n",
      "frozenset()\n",
      "frozenset({('mongodb_node_3', 27017), ('mongodb_node_2', 27017), ('mongodb_node_1', 27017)})\n"
     ]
    }
   ],
   "source": [
    "connection = MongoClient('mongodb://mongodb_node_1,mongodb_node_2,mongodb_node_3/', replicaSet='rs0')\n",
    "print(connection)\n",
    "print(connection.nodes)\n",
    "time.sleep(7)\n",
    "print(connection.nodes)"
   ]
  },
  {
   "cell_type": "code",
   "execution_count": 4,
   "metadata": {},
   "outputs": [
    {
     "name": "stdout",
     "output_type": "stream",
     "text": [
      "frozenset({('mongodb_node_3', 27017), ('mongodb_node_2', 27017), ('mongodb_node_1', 27017)})\n"
     ]
    }
   ],
   "source": [
    "print(connection.nodes)"
   ]
  },
  {
   "cell_type": "markdown",
   "metadata": {},
   "source": [
    "\n",
    "#### Task 2\n",
    "\n",
    "Demonstrate data writes with different wright conserns:"
   ]
  },
  {
   "cell_type": "code",
   "execution_count": 7,
   "metadata": {},
   "outputs": [],
   "source": [
    "db = connection.inventory"
   ]
  },
  {
   "cell_type": "code",
   "execution_count": 17,
   "metadata": {},
   "outputs": [],
   "source": [
    "db.items.drop()"
   ]
  },
  {
   "cell_type": "code",
   "execution_count": 194,
   "metadata": {},
   "outputs": [],
   "source": [
    "items = [\n",
    "    { '_id': 1, 'item': 'Ipnone 11', 'memory': '64Gb', 'price': 18499, 'producer': 'Apple', 'category': 'Smartphones' },\n",
    "    { '_id': 2, 'item': 'Ipnone 13', 'price': 29999, 'producer': 'Apple', 'category': 'Smartphones' },\n",
    "    { '_id': 3, 'item': 'Ipnone 13 Pro', 'price': 37499, 'producer': 'Apple', 'category': 'Smartphones' },\n",
    "    { '_id': 4, 'item': 'Ipnone 13 Pro Max', 'memory': '128Gb', 'price': 41499, 'producer': 'Apple', 'category': 'Smartphones' },\n",
    "    { '_id': 5, 'item': 'Galaxy S21 FE', 'memory': '64Gb', 'price': 21999, 'producer': 'Samsung', 'category': 'Smartphones' },\n",
    "    { '_id': 6, 'item': 'Galaxy S21', 'memory': '128Gb', 'price': 22999, 'producer': 'Samsung', 'category': 'Smartphones' },\n",
    "    { '_id': 7, 'item': 'Galaxy S21 Plus', 'price': 23999, 'producer': 'Samsung', 'category': 'Smartphones' },\n",
    "    { '_id': 8, 'item': 'Galaxy S21 Ultra', 'price': 39999, 'producer': 'Samsung', 'category': 'Smartphones' },\n",
    "    { '_id': 9, 'item': 'Apple Watch Series 7', 'connectivity': ['WiFi', 'Bluetooth'], 'price': 13999, 'type': 'smartwatch', 'producer': 'Samsung', 'category': 'Wearables' },\n",
    "    { '_id': 10, 'item': 'Galaxy Watch 4 Classic', 'connectivity': ['WiFi', 'Bluetooth', 'LTE'], 'price': 11499, 'type': 'smartwatch', 'producer': 'Apple', 'category': 'Wearables' },\n",
    "    { '_id': 11, 'item': 'Galaxy Tab S7',  'memory': '128Gb', 'display': '11.4\"', 'price': 23999, 'producer': 'Samsung', 'category': 'Tablets' },\n",
    "    { '_id': 12, 'item': 'iPad Pro',  'memory': '128Gb', 'display': '12.9\"', 'price': 41999, 'producer': 'Apple', 'category': 'Tablets' },\n",
    "    { '_id': 13, 'item': 'Samsung QE55', 'technology': 'QLED', 'price': 30999, 'producer': 'Samsung', 'category': 'TV' },\n",
    "    { '_id': 14, 'item': 'Hisense 55E', 'technology': 'IPS', 'price': 19999, 'producer': 'Hisense', 'category': 'TV' },\n",
    "    { '_id': 15, 'item': 'LG OLED55', 'technology': 'OLED', 'price': 41999, 'producer': 'LG', 'category': 'TV' },\n",
    "    { '_id': 16, 'item': 'Philips 55OLED', 'technology': 'OLED', 'price': 45999, 'producer': 'Philips', 'category': 'TV' },\n",
    "]"
   ]
  },
  {
   "cell_type": "markdown",
   "metadata": {},
   "source": [
    "##### Unacknowledged"
   ]
  },
  {
   "cell_type": "code",
   "execution_count": 19,
   "metadata": {},
   "outputs": [
    {
     "data": {
      "text/plain": [
       "1"
      ]
     },
     "execution_count": 19,
     "metadata": {},
     "output_type": "execute_result"
    }
   ],
   "source": [
    "item = items[0]\n",
    "\n",
    "id = db.items.insert_one(item, WriteConcern(w=0)).inserted_id\n",
    "id"
   ]
  },
  {
   "cell_type": "markdown",
   "metadata": {},
   "source": [
    "##### Acknowledged"
   ]
  },
  {
   "cell_type": "code",
   "execution_count": 20,
   "metadata": {},
   "outputs": [
    {
     "data": {
      "text/plain": [
       "2"
      ]
     },
     "execution_count": 20,
     "metadata": {},
     "output_type": "execute_result"
    }
   ],
   "source": [
    "item = items[1]\n",
    "\n",
    "id = db.items.insert_one(item, WriteConcern(w=1)).inserted_id\n",
    "id"
   ]
  },
  {
   "cell_type": "markdown",
   "metadata": {},
   "source": [
    "##### Journaled"
   ]
  },
  {
   "cell_type": "code",
   "execution_count": 21,
   "metadata": {},
   "outputs": [
    {
     "data": {
      "text/plain": [
       "3"
      ]
     },
     "execution_count": 21,
     "metadata": {},
     "output_type": "execute_result"
    }
   ],
   "source": [
    "item = items[2]\n",
    "\n",
    "id = db.items.insert_one(item, WriteConcern(w=1, j=True)).inserted_id\n",
    "id"
   ]
  },
  {
   "cell_type": "markdown",
   "metadata": {},
   "source": [
    "##### AcknowledgedReplica"
   ]
  },
  {
   "cell_type": "code",
   "execution_count": 22,
   "metadata": {},
   "outputs": [
    {
     "data": {
      "text/plain": [
       "4"
      ]
     },
     "execution_count": 22,
     "metadata": {},
     "output_type": "execute_result"
    }
   ],
   "source": [
    "item = items[3]\n",
    "\n",
    "id = db.items.insert_one(item, WriteConcern(w='majority', wtimeout=5000)).inserted_id\n",
    "id"
   ]
  },
  {
   "cell_type": "markdown",
   "metadata": {},
   "source": [
    "#### Task 3\n",
    "\n",
    "Demostrate Read Preference Modes"
   ]
  },
  {
   "cell_type": "markdown",
   "metadata": {},
   "source": [
    "##### primary"
   ]
  },
  {
   "cell_type": "code",
   "execution_count": 33,
   "metadata": {},
   "outputs": [
    {
     "name": "stdout",
     "output_type": "stream",
     "text": [
      "[{'_id': 1, 'item': 'Ipnone 11', 'memory': '64Gb', 'price': 18499, 'producer': 'Apple', 'category': 'Smartphones'}, {'_id': 2, 'item': 'Ipnone 13', 'price': 29999, 'producer': 'Apple', 'category': 'Smartphones'}, {'_id': 3, 'item': 'Ipnone 13 Pro', 'price': 37499, 'producer': 'Apple', 'category': 'Smartphones'}, {'_id': 4, 'item': 'Ipnone 13 Pro Max', 'memory': '128Gb', 'price': 41499, 'producer': 'Apple', 'category': 'Smartphones'}]\n"
     ]
    }
   ],
   "source": [
    "response = db.items.with_options(read_preference=ReadPreference.PRIMARY).find({})\n",
    "print(list(response))"
   ]
  },
  {
   "cell_type": "markdown",
   "metadata": {},
   "source": [
    "##### primaryPreferred"
   ]
  },
  {
   "cell_type": "code",
   "execution_count": 36,
   "metadata": {},
   "outputs": [
    {
     "name": "stdout",
     "output_type": "stream",
     "text": [
      "[{'_id': 1, 'item': 'Ipnone 11', 'memory': '64Gb', 'price': 18499, 'producer': 'Apple', 'category': 'Smartphones'}, {'_id': 2, 'item': 'Ipnone 13', 'price': 29999, 'producer': 'Apple', 'category': 'Smartphones'}, {'_id': 3, 'item': 'Ipnone 13 Pro', 'price': 37499, 'producer': 'Apple', 'category': 'Smartphones'}, {'_id': 4, 'item': 'Ipnone 13 Pro Max', 'memory': '128Gb', 'price': 41499, 'producer': 'Apple', 'category': 'Smartphones'}]\n"
     ]
    }
   ],
   "source": [
    "response = db.items.with_options(read_preference=ReadPreference.PRIMARY_PREFERRED).find({})\n",
    "print(list(response))"
   ]
  },
  {
   "cell_type": "markdown",
   "metadata": {},
   "source": [
    "##### secondary"
   ]
  },
  {
   "cell_type": "code",
   "execution_count": 37,
   "metadata": {},
   "outputs": [
    {
     "name": "stdout",
     "output_type": "stream",
     "text": [
      "[{'_id': 1, 'item': 'Ipnone 11', 'memory': '64Gb', 'price': 18499, 'producer': 'Apple', 'category': 'Smartphones'}, {'_id': 2, 'item': 'Ipnone 13', 'price': 29999, 'producer': 'Apple', 'category': 'Smartphones'}, {'_id': 3, 'item': 'Ipnone 13 Pro', 'price': 37499, 'producer': 'Apple', 'category': 'Smartphones'}, {'_id': 4, 'item': 'Ipnone 13 Pro Max', 'memory': '128Gb', 'price': 41499, 'producer': 'Apple', 'category': 'Smartphones'}]\n"
     ]
    }
   ],
   "source": [
    "response = db.items.with_options(read_preference=ReadPreference.SECONDARY).find({})\n",
    "print(list(response))"
   ]
  },
  {
   "cell_type": "markdown",
   "metadata": {},
   "source": [
    "##### secondaryPreferred"
   ]
  },
  {
   "cell_type": "code",
   "execution_count": 40,
   "metadata": {},
   "outputs": [
    {
     "name": "stdout",
     "output_type": "stream",
     "text": [
      "[{'_id': 1, 'item': 'Ipnone 11', 'memory': '64Gb', 'price': 18499, 'producer': 'Apple', 'category': 'Smartphones'}, {'_id': 2, 'item': 'Ipnone 13', 'price': 29999, 'producer': 'Apple', 'category': 'Smartphones'}, {'_id': 3, 'item': 'Ipnone 13 Pro', 'price': 37499, 'producer': 'Apple', 'category': 'Smartphones'}, {'_id': 4, 'item': 'Ipnone 13 Pro Max', 'memory': '128Gb', 'price': 41499, 'producer': 'Apple', 'category': 'Smartphones'}]\n"
     ]
    }
   ],
   "source": [
    "response = db.items.with_options(read_preference=ReadPreference.SECONDARY_PREFERRED).find({})\n",
    "print(list(response))"
   ]
  },
  {
   "cell_type": "markdown",
   "metadata": {},
   "source": [
    "##### nearest"
   ]
  },
  {
   "cell_type": "code",
   "execution_count": 41,
   "metadata": {},
   "outputs": [
    {
     "name": "stdout",
     "output_type": "stream",
     "text": [
      "[{'_id': 1, 'item': 'Ipnone 11', 'memory': '64Gb', 'price': 18499, 'producer': 'Apple', 'category': 'Smartphones'}, {'_id': 2, 'item': 'Ipnone 13', 'price': 29999, 'producer': 'Apple', 'category': 'Smartphones'}, {'_id': 3, 'item': 'Ipnone 13 Pro', 'price': 37499, 'producer': 'Apple', 'category': 'Smartphones'}, {'_id': 4, 'item': 'Ipnone 13 Pro Max', 'memory': '128Gb', 'price': 41499, 'producer': 'Apple', 'category': 'Smartphones'}]\n"
     ]
    }
   ],
   "source": [
    "response = db.items.with_options(read_preference=ReadPreference.NEAREST).find({})\n",
    "print(list(response))"
   ]
  },
  {
   "cell_type": "markdown",
   "metadata": {},
   "source": [
    "#### Task 4\n",
    "\n",
    "Shut down one secondary node. Write a document with write_conser = 3 and limitless timeout. During timeout run switched off secondary node."
   ]
  },
  {
   "cell_type": "code",
   "execution_count": 89,
   "metadata": {},
   "outputs": [
    {
     "name": "stdout",
     "output_type": "stream",
     "text": [
      "{'_id': 1, 'name': 'mongodb_node_1:27017', 'health': 1.0, 'stateStr': 'PRIMARY'}\n",
      "{'_id': 2, 'name': 'mongodb_node_2:27017', 'health': 0.0, 'stateStr': '(not reachable/healthy)'}\n",
      "{'_id': 3, 'name': 'mongodb_node_3:27017', 'health': 1.0, 'stateStr': 'SECONDARY'}\n"
     ]
    }
   ],
   "source": [
    "members = connection.admin.command('replSetGetStatus')['members']\n",
    "members_status = [{'_id': member['_id'], 'name': member['name'], 'health': member['health'], 'stateStr': member['stateStr']}for member in members]\n",
    "print(*members_status, sep='\\n')"
   ]
  },
  {
   "cell_type": "code",
   "execution_count": 92,
   "metadata": {},
   "outputs": [
    {
     "data": {
      "text/plain": [
       "5"
      ]
     },
     "execution_count": 92,
     "metadata": {},
     "output_type": "execute_result"
    }
   ],
   "source": [
    "item = items[4]\n",
    "\n",
    "id = db.items.with_options(write_concern=WriteConcern(w=3)).insert_one(item).inserted_id\n",
    "id"
   ]
  },
  {
   "cell_type": "code",
   "execution_count": 94,
   "metadata": {},
   "outputs": [
    {
     "name": "stdout",
     "output_type": "stream",
     "text": [
      "{'_id': 1, 'name': 'mongodb_node_1:27017', 'health': 1.0, 'stateStr': 'PRIMARY'}\n",
      "{'_id': 2, 'name': 'mongodb_node_2:27017', 'health': 1.0, 'stateStr': 'SECONDARY'}\n",
      "{'_id': 3, 'name': 'mongodb_node_3:27017', 'health': 1.0, 'stateStr': 'SECONDARY'}\n"
     ]
    }
   ],
   "source": [
    "members = connection.admin.command('replSetGetStatus')['members']\n",
    "members_status = [{'_id': member['_id'], 'name': member['name'], 'health': member['health'], 'stateStr': member['stateStr']}for member in members]\n",
    "print(*members_status, sep='\\n')"
   ]
  },
  {
   "cell_type": "markdown",
   "metadata": {},
   "source": [
    "#### Task 5\n",
    "\n",
    "With analogy to prevoius task, but with timeout set and ends. Check if document is writen and if it could be read with readConsern: 'majority'\n"
   ]
  },
  {
   "cell_type": "code",
   "execution_count": 103,
   "metadata": {},
   "outputs": [
    {
     "name": "stdout",
     "output_type": "stream",
     "text": [
      "{'_id': 1, 'name': 'mongodb_node_1:27017', 'health': 1.0, 'stateStr': 'PRIMARY'}\n",
      "{'_id': 2, 'name': 'mongodb_node_2:27017', 'health': 0.0, 'stateStr': '(not reachable/healthy)'}\n",
      "{'_id': 3, 'name': 'mongodb_node_3:27017', 'health': 1.0, 'stateStr': 'SECONDARY'}\n"
     ]
    }
   ],
   "source": [
    "members = connection.admin.command('replSetGetStatus')['members']\n",
    "members_status = [{'_id': member['_id'], 'name': member['name'], 'health': member['health'], 'stateStr': member['stateStr']}for member in members]\n",
    "print(*members_status, sep='\\n')"
   ]
  },
  {
   "cell_type": "code",
   "execution_count": 105,
   "metadata": {},
   "outputs": [
    {
     "ename": "WTimeoutError",
     "evalue": "waiting for replication timed out, full error: {'code': 64, 'codeName': 'WriteConcernFailed', 'errmsg': 'waiting for replication timed out', 'errInfo': {'wtimeout': True, 'writeConcern': {'w': 3, 'wtimeout': 5000, 'provenance': 'clientSupplied'}}}",
     "output_type": "error",
     "traceback": [
      "\u001b[0;31m---------------------------------------------------------------------------\u001b[0m",
      "\u001b[0;31mWTimeoutError\u001b[0m                             Traceback (most recent call last)",
      "Input \u001b[0;32mIn [105]\u001b[0m, in \u001b[0;36m<module>\u001b[0;34m\u001b[0m\n\u001b[1;32m      1\u001b[0m item \u001b[38;5;241m=\u001b[39m items[\u001b[38;5;241m5\u001b[39m]\n\u001b[0;32m----> 3\u001b[0m \u001b[38;5;28mid\u001b[39m \u001b[38;5;241m=\u001b[39m \u001b[43mdb\u001b[49m\u001b[38;5;241;43m.\u001b[39;49m\u001b[43mitems\u001b[49m\u001b[38;5;241;43m.\u001b[39;49m\u001b[43mwith_options\u001b[49m\u001b[43m(\u001b[49m\u001b[43mwrite_concern\u001b[49m\u001b[38;5;241;43m=\u001b[39;49m\u001b[43mWriteConcern\u001b[49m\u001b[43m(\u001b[49m\u001b[43mw\u001b[49m\u001b[38;5;241;43m=\u001b[39;49m\u001b[38;5;241;43m3\u001b[39;49m\u001b[43m,\u001b[49m\u001b[43m \u001b[49m\u001b[43mwtimeout\u001b[49m\u001b[38;5;241;43m=\u001b[39;49m\u001b[38;5;241;43m5000\u001b[39;49m\u001b[43m)\u001b[49m\u001b[43m)\u001b[49m\u001b[38;5;241;43m.\u001b[39;49m\u001b[43minsert_one\u001b[49m\u001b[43m(\u001b[49m\u001b[43mitem\u001b[49m\u001b[43m)\u001b[49m\u001b[38;5;241m.\u001b[39minserted_id\n\u001b[1;32m      4\u001b[0m \u001b[38;5;28mid\u001b[39m\n",
      "File \u001b[0;32m/usr/local/lib/python3.8/dist-packages/pymongo/collection.py:524\u001b[0m, in \u001b[0;36mCollection.insert_one\u001b[0;34m(self, document, bypass_document_validation, session)\u001b[0m\n\u001b[1;32m    520\u001b[0m     document[\u001b[38;5;124m\"\u001b[39m\u001b[38;5;124m_id\u001b[39m\u001b[38;5;124m\"\u001b[39m] \u001b[38;5;241m=\u001b[39m ObjectId()\n\u001b[1;32m    522\u001b[0m write_concern \u001b[38;5;241m=\u001b[39m \u001b[38;5;28mself\u001b[39m\u001b[38;5;241m.\u001b[39m_write_concern_for(session)\n\u001b[1;32m    523\u001b[0m \u001b[38;5;28;01mreturn\u001b[39;00m InsertOneResult(\n\u001b[0;32m--> 524\u001b[0m     \u001b[38;5;28;43mself\u001b[39;49m\u001b[38;5;241;43m.\u001b[39;49m\u001b[43m_insert_one\u001b[49m\u001b[43m(\u001b[49m\n\u001b[1;32m    525\u001b[0m \u001b[43m        \u001b[49m\u001b[43mdocument\u001b[49m\u001b[43m,\u001b[49m\u001b[43m \u001b[49m\u001b[43mordered\u001b[49m\u001b[38;5;241;43m=\u001b[39;49m\u001b[38;5;28;43;01mTrue\u001b[39;49;00m\u001b[43m,\u001b[49m\u001b[43m \u001b[49m\u001b[43mcheck_keys\u001b[49m\u001b[38;5;241;43m=\u001b[39;49m\u001b[38;5;28;43;01mFalse\u001b[39;49;00m\u001b[43m,\u001b[49m\n\u001b[1;32m    526\u001b[0m \u001b[43m        \u001b[49m\u001b[43mwrite_concern\u001b[49m\u001b[38;5;241;43m=\u001b[39;49m\u001b[43mwrite_concern\u001b[49m\u001b[43m,\u001b[49m\u001b[43m \u001b[49m\u001b[43mop_id\u001b[49m\u001b[38;5;241;43m=\u001b[39;49m\u001b[38;5;28;43;01mNone\u001b[39;49;00m\u001b[43m,\u001b[49m\n\u001b[1;32m    527\u001b[0m \u001b[43m        \u001b[49m\u001b[43mbypass_doc_val\u001b[49m\u001b[38;5;241;43m=\u001b[39;49m\u001b[43mbypass_document_validation\u001b[49m\u001b[43m,\u001b[49m\u001b[43m \u001b[49m\u001b[43msession\u001b[49m\u001b[38;5;241;43m=\u001b[39;49m\u001b[43msession\u001b[49m\u001b[43m)\u001b[49m,\n\u001b[1;32m    528\u001b[0m     write_concern\u001b[38;5;241m.\u001b[39macknowledged)\n",
      "File \u001b[0;32m/usr/local/lib/python3.8/dist-packages/pymongo/collection.py:474\u001b[0m, in \u001b[0;36mCollection._insert_one\u001b[0;34m(self, doc, ordered, check_keys, write_concern, op_id, bypass_doc_val, session)\u001b[0m\n\u001b[1;32m    462\u001b[0m     result \u001b[38;5;241m=\u001b[39m sock_info\u001b[38;5;241m.\u001b[39mcommand(\n\u001b[1;32m    463\u001b[0m         \u001b[38;5;28mself\u001b[39m\u001b[38;5;241m.\u001b[39m__database\u001b[38;5;241m.\u001b[39mname,\n\u001b[1;32m    464\u001b[0m         command,\n\u001b[0;32m   (...)\u001b[0m\n\u001b[1;32m    469\u001b[0m         client\u001b[38;5;241m=\u001b[39m\u001b[38;5;28mself\u001b[39m\u001b[38;5;241m.\u001b[39m__database\u001b[38;5;241m.\u001b[39mclient,\n\u001b[1;32m    470\u001b[0m         retryable_write\u001b[38;5;241m=\u001b[39mretryable_write)\n\u001b[1;32m    472\u001b[0m     _check_write_command_response(result)\n\u001b[0;32m--> 474\u001b[0m \u001b[38;5;28;43mself\u001b[39;49m\u001b[38;5;241;43m.\u001b[39;49m\u001b[43m__database\u001b[49m\u001b[38;5;241;43m.\u001b[39;49m\u001b[43mclient\u001b[49m\u001b[38;5;241;43m.\u001b[39;49m\u001b[43m_retryable_write\u001b[49m\u001b[43m(\u001b[49m\n\u001b[1;32m    475\u001b[0m \u001b[43m    \u001b[49m\u001b[43macknowledged\u001b[49m\u001b[43m,\u001b[49m\u001b[43m \u001b[49m\u001b[43m_insert_command\u001b[49m\u001b[43m,\u001b[49m\u001b[43m \u001b[49m\u001b[43msession\u001b[49m\u001b[43m)\u001b[49m\n\u001b[1;32m    477\u001b[0m \u001b[38;5;28;01mif\u001b[39;00m \u001b[38;5;129;01mnot\u001b[39;00m \u001b[38;5;28misinstance\u001b[39m(doc, RawBSONDocument):\n\u001b[1;32m    478\u001b[0m     \u001b[38;5;28;01mreturn\u001b[39;00m doc\u001b[38;5;241m.\u001b[39mget(\u001b[38;5;124m'\u001b[39m\u001b[38;5;124m_id\u001b[39m\u001b[38;5;124m'\u001b[39m)\n",
      "File \u001b[0;32m/usr/local/lib/python3.8/dist-packages/pymongo/mongo_client.py:1340\u001b[0m, in \u001b[0;36mMongoClient._retryable_write\u001b[0;34m(self, retryable, func, session)\u001b[0m\n\u001b[1;32m   1338\u001b[0m \u001b[38;5;124;03m\"\"\"Internal retryable write helper.\"\"\"\u001b[39;00m\n\u001b[1;32m   1339\u001b[0m \u001b[38;5;28;01mwith\u001b[39;00m \u001b[38;5;28mself\u001b[39m\u001b[38;5;241m.\u001b[39m_tmp_session(session) \u001b[38;5;28;01mas\u001b[39;00m s:\n\u001b[0;32m-> 1340\u001b[0m     \u001b[38;5;28;01mreturn\u001b[39;00m \u001b[38;5;28;43mself\u001b[39;49m\u001b[38;5;241;43m.\u001b[39;49m\u001b[43m_retry_with_session\u001b[49m\u001b[43m(\u001b[49m\u001b[43mretryable\u001b[49m\u001b[43m,\u001b[49m\u001b[43m \u001b[49m\u001b[43mfunc\u001b[49m\u001b[43m,\u001b[49m\u001b[43m \u001b[49m\u001b[43ms\u001b[49m\u001b[43m,\u001b[49m\u001b[43m \u001b[49m\u001b[38;5;28;43;01mNone\u001b[39;49;00m\u001b[43m)\u001b[49m\n",
      "File \u001b[0;32m/usr/local/lib/python3.8/dist-packages/pymongo/mongo_client.py:1229\u001b[0m, in \u001b[0;36mMongoClient._retry_with_session\u001b[0;34m(self, retryable, func, session, bulk)\u001b[0m\n\u001b[1;32m   1220\u001b[0m \u001b[38;5;124;03m\"\"\"Execute an operation with at most one consecutive retries\u001b[39;00m\n\u001b[1;32m   1221\u001b[0m \n\u001b[1;32m   1222\u001b[0m \u001b[38;5;124;03mReturns func()'s return value on success. On error retries the same\u001b[39;00m\n\u001b[0;32m   (...)\u001b[0m\n\u001b[1;32m   1225\u001b[0m \u001b[38;5;124;03mRe-raises any exception thrown by func().\u001b[39;00m\n\u001b[1;32m   1226\u001b[0m \u001b[38;5;124;03m\"\"\"\u001b[39;00m\n\u001b[1;32m   1227\u001b[0m retryable \u001b[38;5;241m=\u001b[39m (retryable \u001b[38;5;129;01mand\u001b[39;00m \u001b[38;5;28mself\u001b[39m\u001b[38;5;241m.\u001b[39moptions\u001b[38;5;241m.\u001b[39mretry_writes\n\u001b[1;32m   1228\u001b[0m              \u001b[38;5;129;01mand\u001b[39;00m session \u001b[38;5;129;01mand\u001b[39;00m \u001b[38;5;129;01mnot\u001b[39;00m session\u001b[38;5;241m.\u001b[39min_transaction)\n\u001b[0;32m-> 1229\u001b[0m \u001b[38;5;28;01mreturn\u001b[39;00m \u001b[38;5;28;43mself\u001b[39;49m\u001b[38;5;241;43m.\u001b[39;49m\u001b[43m_retry_internal\u001b[49m\u001b[43m(\u001b[49m\u001b[43mretryable\u001b[49m\u001b[43m,\u001b[49m\u001b[43m \u001b[49m\u001b[43mfunc\u001b[49m\u001b[43m,\u001b[49m\u001b[43m \u001b[49m\u001b[43msession\u001b[49m\u001b[43m,\u001b[49m\u001b[43m \u001b[49m\u001b[43mbulk\u001b[49m\u001b[43m)\u001b[49m\n",
      "File \u001b[0;32m/usr/local/lib/python3.8/dist-packages/pymongo/mongo_client.py:1261\u001b[0m, in \u001b[0;36mMongoClient._retry_internal\u001b[0;34m(self, retryable, func, session, bulk)\u001b[0m\n\u001b[1;32m   1259\u001b[0m                 \u001b[38;5;28;01mraise\u001b[39;00m last_error\n\u001b[1;32m   1260\u001b[0m             retryable \u001b[38;5;241m=\u001b[39m \u001b[38;5;28;01mFalse\u001b[39;00m\n\u001b[0;32m-> 1261\u001b[0m         \u001b[38;5;28;01mreturn\u001b[39;00m \u001b[43mfunc\u001b[49m\u001b[43m(\u001b[49m\u001b[43msession\u001b[49m\u001b[43m,\u001b[49m\u001b[43m \u001b[49m\u001b[43msock_info\u001b[49m\u001b[43m,\u001b[49m\u001b[43m \u001b[49m\u001b[43mretryable\u001b[49m\u001b[43m)\u001b[49m\n\u001b[1;32m   1262\u001b[0m \u001b[38;5;28;01mexcept\u001b[39;00m ServerSelectionTimeoutError:\n\u001b[1;32m   1263\u001b[0m     \u001b[38;5;28;01mif\u001b[39;00m is_retrying():\n\u001b[1;32m   1264\u001b[0m         \u001b[38;5;66;03m# The application may think the write was never attempted\u001b[39;00m\n\u001b[1;32m   1265\u001b[0m         \u001b[38;5;66;03m# if we raise ServerSelectionTimeoutError on the retry\u001b[39;00m\n\u001b[1;32m   1266\u001b[0m         \u001b[38;5;66;03m# attempt. Raise the original exception instead.\u001b[39;00m\n",
      "File \u001b[0;32m/usr/local/lib/python3.8/dist-packages/pymongo/collection.py:472\u001b[0m, in \u001b[0;36mCollection._insert_one.<locals>._insert_command\u001b[0;34m(session, sock_info, retryable_write)\u001b[0m\n\u001b[1;32m    460\u001b[0m     command[\u001b[38;5;124m'\u001b[39m\u001b[38;5;124mbypassDocumentValidation\u001b[39m\u001b[38;5;124m'\u001b[39m] \u001b[38;5;241m=\u001b[39m \u001b[38;5;28;01mTrue\u001b[39;00m\n\u001b[1;32m    462\u001b[0m result \u001b[38;5;241m=\u001b[39m sock_info\u001b[38;5;241m.\u001b[39mcommand(\n\u001b[1;32m    463\u001b[0m     \u001b[38;5;28mself\u001b[39m\u001b[38;5;241m.\u001b[39m__database\u001b[38;5;241m.\u001b[39mname,\n\u001b[1;32m    464\u001b[0m     command,\n\u001b[0;32m   (...)\u001b[0m\n\u001b[1;32m    469\u001b[0m     client\u001b[38;5;241m=\u001b[39m\u001b[38;5;28mself\u001b[39m\u001b[38;5;241m.\u001b[39m__database\u001b[38;5;241m.\u001b[39mclient,\n\u001b[1;32m    470\u001b[0m     retryable_write\u001b[38;5;241m=\u001b[39mretryable_write)\n\u001b[0;32m--> 472\u001b[0m \u001b[43m_check_write_command_response\u001b[49m\u001b[43m(\u001b[49m\u001b[43mresult\u001b[49m\u001b[43m)\u001b[49m\n",
      "File \u001b[0;32m/usr/local/lib/python3.8/dist-packages/pymongo/helpers.py:213\u001b[0m, in \u001b[0;36m_check_write_command_response\u001b[0;34m(result)\u001b[0m\n\u001b[1;32m    211\u001b[0m wce \u001b[38;5;241m=\u001b[39m _get_wce_doc(result)\n\u001b[1;32m    212\u001b[0m \u001b[38;5;28;01mif\u001b[39;00m wce:\n\u001b[0;32m--> 213\u001b[0m     \u001b[43m_raise_write_concern_error\u001b[49m\u001b[43m(\u001b[49m\u001b[43mwce\u001b[49m\u001b[43m)\u001b[49m\n",
      "File \u001b[0;32m/usr/local/lib/python3.8/dist-packages/pymongo/helpers.py:185\u001b[0m, in \u001b[0;36m_raise_write_concern_error\u001b[0;34m(error)\u001b[0m\n\u001b[1;32m    182\u001b[0m \u001b[38;5;28;01mdef\u001b[39;00m \u001b[38;5;21m_raise_write_concern_error\u001b[39m(error):\n\u001b[1;32m    183\u001b[0m     \u001b[38;5;28;01mif\u001b[39;00m \u001b[38;5;124m\"\u001b[39m\u001b[38;5;124merrInfo\u001b[39m\u001b[38;5;124m\"\u001b[39m \u001b[38;5;129;01min\u001b[39;00m error \u001b[38;5;129;01mand\u001b[39;00m error[\u001b[38;5;124m\"\u001b[39m\u001b[38;5;124merrInfo\u001b[39m\u001b[38;5;124m\"\u001b[39m]\u001b[38;5;241m.\u001b[39mget(\u001b[38;5;124m'\u001b[39m\u001b[38;5;124mwtimeout\u001b[39m\u001b[38;5;124m'\u001b[39m):\n\u001b[1;32m    184\u001b[0m         \u001b[38;5;66;03m# Make sure we raise WTimeoutError\u001b[39;00m\n\u001b[0;32m--> 185\u001b[0m         \u001b[38;5;28;01mraise\u001b[39;00m WTimeoutError(\n\u001b[1;32m    186\u001b[0m             error\u001b[38;5;241m.\u001b[39mget(\u001b[38;5;124m\"\u001b[39m\u001b[38;5;124merrmsg\u001b[39m\u001b[38;5;124m\"\u001b[39m), error\u001b[38;5;241m.\u001b[39mget(\u001b[38;5;124m\"\u001b[39m\u001b[38;5;124mcode\u001b[39m\u001b[38;5;124m\"\u001b[39m), error)\n\u001b[1;32m    187\u001b[0m     \u001b[38;5;28;01mraise\u001b[39;00m WriteConcernError(\n\u001b[1;32m    188\u001b[0m         error\u001b[38;5;241m.\u001b[39mget(\u001b[38;5;124m\"\u001b[39m\u001b[38;5;124merrmsg\u001b[39m\u001b[38;5;124m\"\u001b[39m), error\u001b[38;5;241m.\u001b[39mget(\u001b[38;5;124m\"\u001b[39m\u001b[38;5;124mcode\u001b[39m\u001b[38;5;124m\"\u001b[39m), error)\n",
      "\u001b[0;31mWTimeoutError\u001b[0m: waiting for replication timed out, full error: {'code': 64, 'codeName': 'WriteConcernFailed', 'errmsg': 'waiting for replication timed out', 'errInfo': {'wtimeout': True, 'writeConcern': {'w': 3, 'wtimeout': 5000, 'provenance': 'clientSupplied'}}}"
     ]
    }
   ],
   "source": [
    "item = items[5]\n",
    "\n",
    "id = db.items.with_options(write_concern=WriteConcern(w=3, wtimeout=5000)).insert_one(item).inserted_id\n",
    "id"
   ]
  },
  {
   "cell_type": "code",
   "execution_count": 113,
   "metadata": {},
   "outputs": [
    {
     "name": "stdout",
     "output_type": "stream",
     "text": [
      "[{'_id': 6, 'item': 'Galaxy S21', 'memory': '128Gb', 'price': 22999, 'producer': 'Samsung', 'category': 'Smartphones'}]\n"
     ]
    }
   ],
   "source": [
    "response = db.items.with_options(read_concern=ReadConcern(level='majority')).find({'_id': 6})\n",
    "print(list(response))"
   ]
  },
  {
   "cell_type": "markdown",
   "metadata": {},
   "source": [
    "#### Task 6\n",
    "\n",
    "Demonstrate Primary node reelection by switching off current Primary node, and confirm replication of new data after old primary is back to the replica set."
   ]
  },
  {
   "cell_type": "code",
   "execution_count": 173,
   "metadata": {},
   "outputs": [
    {
     "name": "stdout",
     "output_type": "stream",
     "text": [
      "{'_id': 1, 'name': 'mongodb_node_1:27017', 'health': 1.0, 'stateStr': 'PRIMARY'}\n",
      "{'_id': 2, 'name': 'mongodb_node_2:27017', 'health': 1.0, 'stateStr': 'SECONDARY'}\n",
      "{'_id': 3, 'name': 'mongodb_node_3:27017', 'health': 1.0, 'stateStr': 'SECONDARY'}\n"
     ]
    }
   ],
   "source": [
    "members = connection.admin.command('replSetGetStatus')['members']\n",
    "members_status = [{'_id': member['_id'], 'name': member['name'], 'health': member['health'], 'stateStr': member['stateStr']}for member in members]\n",
    "print(*members_status, sep='\\n')"
   ]
  },
  {
   "cell_type": "code",
   "execution_count": 181,
   "metadata": {},
   "outputs": [
    {
     "name": "stdout",
     "output_type": "stream",
     "text": [
      "{'_id': 1, 'name': 'mongodb_node_1:27017', 'health': 0.0, 'stateStr': '(not reachable/healthy)'}\n",
      "{'_id': 2, 'name': 'mongodb_node_2:27017', 'health': 1.0, 'stateStr': 'PRIMARY'}\n",
      "{'_id': 3, 'name': 'mongodb_node_3:27017', 'health': 1.0, 'stateStr': 'SECONDARY'}\n"
     ]
    }
   ],
   "source": [
    "members = connection.admin.command('replSetGetStatus')['members']\n",
    "members_status = [{'_id': member['_id'], 'name': member['name'], 'health': member['health'], 'stateStr': member['stateStr']}for member in members]\n",
    "print(*members_status, sep='\\n')"
   ]
  },
  {
   "cell_type": "code",
   "execution_count": 182,
   "metadata": {},
   "outputs": [
    {
     "data": {
      "text/plain": [
       "[13, 14, 15, 16]"
      ]
     },
     "execution_count": 182,
     "metadata": {},
     "output_type": "execute_result"
    }
   ],
   "source": [
    "items_to_insert = items[-4:]\n",
    "\n",
    "ids = db.items.with_options(write_concern=WriteConcern(w=1)).insert_many(items_to_insert).inserted_ids\n",
    "ids"
   ]
  },
  {
   "cell_type": "code",
   "execution_count": 161,
   "metadata": {},
   "outputs": [
    {
     "data": {
      "text/plain": [
       "<pymongo.results.DeleteResult at 0x7f0f9d2a2380>"
      ]
     },
     "execution_count": 161,
     "metadata": {},
     "output_type": "execute_result"
    }
   ],
   "source": [
    "db.items.delete_one({'_id': 16})"
   ]
  },
  {
   "cell_type": "code",
   "execution_count": 183,
   "metadata": {},
   "outputs": [
    {
     "name": "stdout",
     "output_type": "stream",
     "text": [
      "{'_id': 13, 'item': 'Samsung QE55', 'technology': 'QLED', 'price': 30999, 'producer': 'Samsung', 'category': 'TV'}\n",
      "{'_id': 14, 'item': 'Hisense 55E', 'technology': 'IPS', 'price': 19999, 'producer': 'Hisense', 'category': 'TV'}\n",
      "{'_id': 15, 'item': 'LG OLED55', 'technology': 'OLED', 'price': 41999, 'producer': 'LG', 'category': 'TV'}\n",
      "{'_id': 16, 'item': 'Philips 55OLED', 'technology': 'OLED', 'price': 45999, 'producer': 'Philips', 'category': 'TV'}\n"
     ]
    }
   ],
   "source": [
    "response = db.items.with_options(read_concern=ReadConcern(level='majority')).find({'category': 'TV'})\n",
    "print(*list(response), sep='\\n')"
   ]
  },
  {
   "cell_type": "code",
   "execution_count": 187,
   "metadata": {},
   "outputs": [
    {
     "name": "stdout",
     "output_type": "stream",
     "text": [
      "{'_id': 1, 'name': 'mongodb_node_1:27017', 'health': 1.0, 'stateStr': 'SECONDARY'}\n",
      "{'_id': 2, 'name': 'mongodb_node_2:27017', 'health': 1.0, 'stateStr': 'PRIMARY'}\n",
      "{'_id': 3, 'name': 'mongodb_node_3:27017', 'health': 1.0, 'stateStr': 'SECONDARY'}\n"
     ]
    }
   ],
   "source": [
    "members = connection.admin.command('replSetGetStatus')['members']\n",
    "members_status = [{'_id': member['_id'], 'name': member['name'], 'health': member['health'], 'stateStr': member['stateStr']}for member in members]\n",
    "print(*members_status, sep='\\n')"
   ]
  },
  {
   "cell_type": "code",
   "execution_count": 188,
   "metadata": {},
   "outputs": [
    {
     "name": "stdout",
     "output_type": "stream",
     "text": [
      "{'_id': 1, 'name': 'mongodb_node_1:27017', 'health': 1.0, 'stateStr': 'SECONDARY'}\n",
      "{'_id': 2, 'name': 'mongodb_node_2:27017', 'health': 1.0, 'stateStr': 'PRIMARY'}\n",
      "{'_id': 3, 'name': 'mongodb_node_3:27017', 'health': 0.0, 'stateStr': '(not reachable/healthy)'}\n"
     ]
    }
   ],
   "source": [
    "members = connection.admin.command('replSetGetStatus')['members']\n",
    "members_status = [{'_id': member['_id'], 'name': member['name'], 'health': member['health'], 'stateStr': member['stateStr']}for member in members]\n",
    "print(*members_status, sep='\\n')"
   ]
  },
  {
   "cell_type": "code",
   "execution_count": 189,
   "metadata": {},
   "outputs": [
    {
     "name": "stdout",
     "output_type": "stream",
     "text": [
      "{'_id': 14, 'item': 'Hisense 55E', 'technology': 'IPS', 'price': 19999, 'producer': 'Hisense', 'category': 'TV'}\n",
      "{'_id': 15, 'item': 'LG OLED55', 'technology': 'OLED', 'price': 41999, 'producer': 'LG', 'category': 'TV'}\n",
      "{'_id': 13, 'item': 'Samsung QE55', 'technology': 'QLED', 'price': 30999, 'producer': 'Samsung', 'category': 'TV'}\n",
      "{'_id': 16, 'item': 'Philips 55OLED', 'technology': 'OLED', 'price': 45999, 'producer': 'Philips', 'category': 'TV'}\n"
     ]
    }
   ],
   "source": [
    "response = db.items.with_options(read_preference=ReadPreference.SECONDARY).find({'category': 'TV'})\n",
    "print(*list(response), sep='\\n')"
   ]
  },
  {
   "cell_type": "markdown",
   "metadata": {},
   "source": [
    "#### Task 7\n",
    "\n",
    "Put Replica Set into inconsistent state using a delay of Primary node to detect the absence of secondary nodes. "
   ]
  },
  {
   "cell_type": "markdown",
   "metadata": {},
   "source": [
    "Switch off two secondary nodes. During 5 sec write a document on Primary node with write_consern=1. Check the document is writen.\n",
    "\n",
    "Read writen values with different read_concerns - readConcern: {level: <\"majority\"|\"local\"| \"linearizable\">}"
   ]
  },
  {
   "cell_type": "code",
   "execution_count": 238,
   "metadata": {},
   "outputs": [
    {
     "name": "stdout",
     "output_type": "stream",
     "text": [
      "{'_id': 1, 'name': 'mongodb_node_1:27017', 'health': 1.0, 'stateStr': 'PRIMARY'}\n",
      "{'_id': 2, 'name': 'mongodb_node_2:27017', 'health': 1.0, 'stateStr': 'SECONDARY'}\n",
      "{'_id': 3, 'name': 'mongodb_node_3:27017', 'health': 1.0, 'stateStr': 'SECONDARY'}\n"
     ]
    }
   ],
   "source": [
    "members = connection.admin.command('replSetGetStatus')['members']\n",
    "members_status = [{'_id': member['_id'], 'name': member['name'], 'health': member['health'], 'stateStr': member['stateStr']}for member in members]\n",
    "print(*members_status, sep='\\n')"
   ]
  },
  {
   "cell_type": "code",
   "execution_count": 234,
   "metadata": {},
   "outputs": [
    {
     "data": {
      "text/plain": [
       "<pymongo.results.DeleteResult at 0x7f0f9cda5540>"
      ]
     },
     "execution_count": 234,
     "metadata": {},
     "output_type": "execute_result"
    }
   ],
   "source": [
    "db.items.delete_many({'category': 'Wearables'})"
   ]
  },
  {
   "cell_type": "code",
   "execution_count": 239,
   "metadata": {},
   "outputs": [
    {
     "name": "stdout",
     "output_type": "stream",
     "text": [
      "9\n",
      "readConcern: <default>\n",
      "{'_id': 9, 'item': 'Apple Watch Series 7', 'connectivity': ['WiFi', 'Bluetooth'], 'price': 13999, 'type': 'smartwatch', 'producer': 'Samsung', 'category': 'Wearables'}\n",
      "readConcern: \"local\"\n",
      "{'_id': 9, 'item': 'Apple Watch Series 7', 'connectivity': ['WiFi', 'Bluetooth'], 'price': 13999, 'type': 'smartwatch', 'producer': 'Samsung', 'category': 'Wearables'}\n",
      "readConcern: \"majority\"\n",
      "\n",
      "readConcern: \"linearizable\"\n"
     ]
    },
    {
     "ename": "NotPrimaryError",
     "evalue": "not primary and secondaryOk=false, full error: {'topologyVersion': {'processId': ObjectId('62127de31a992e6acb3851b3'), 'counter': 12}, 'operationTime': Timestamp(1645379731, 2), 'ok': 0.0, 'errmsg': 'not primary and secondaryOk=false', 'code': 13435, 'codeName': 'NotPrimaryNoSecondaryOk', '$clusterTime': {'clusterTime': Timestamp(1645379731, 2), 'signature': {'hash': b'\\x00\\x00\\x00\\x00\\x00\\x00\\x00\\x00\\x00\\x00\\x00\\x00\\x00\\x00\\x00\\x00\\x00\\x00\\x00\\x00', 'keyId': 0}}}",
     "output_type": "error",
     "traceback": [
      "\u001b[0;31m---------------------------------------------------------------------------\u001b[0m",
      "\u001b[0;31mNotPrimaryError\u001b[0m                           Traceback (most recent call last)",
      "Input \u001b[0;32mIn [239]\u001b[0m, in \u001b[0;36m<module>\u001b[0;34m\u001b[0m\n\u001b[1;32m     18\u001b[0m response \u001b[38;5;241m=\u001b[39m db\u001b[38;5;241m.\u001b[39mitems\u001b[38;5;241m.\u001b[39mwith_options(read_concern\u001b[38;5;241m=\u001b[39mReadConcern(level\u001b[38;5;241m=\u001b[39m\u001b[38;5;124m'\u001b[39m\u001b[38;5;124mlinearizable\u001b[39m\u001b[38;5;124m'\u001b[39m))\u001b[38;5;241m.\u001b[39mfind({\u001b[38;5;124m'\u001b[39m\u001b[38;5;124mcategory\u001b[39m\u001b[38;5;124m'\u001b[39m: \u001b[38;5;124m'\u001b[39m\u001b[38;5;124mWearables\u001b[39m\u001b[38;5;124m'\u001b[39m})\n\u001b[1;32m     19\u001b[0m \u001b[38;5;28mprint\u001b[39m(\u001b[38;5;124m'\u001b[39m\u001b[38;5;124mreadConcern: \u001b[39m\u001b[38;5;124m\"\u001b[39m\u001b[38;5;124mlinearizable\u001b[39m\u001b[38;5;124m\"\u001b[39m\u001b[38;5;124m'\u001b[39m)\n\u001b[0;32m---> 20\u001b[0m \u001b[38;5;28mprint\u001b[39m(\u001b[38;5;241m*\u001b[39m\u001b[38;5;28;43mlist\u001b[39;49m\u001b[43m(\u001b[49m\u001b[43mresponse\u001b[49m\u001b[43m)\u001b[49m, sep\u001b[38;5;241m=\u001b[39m\u001b[38;5;124m'\u001b[39m\u001b[38;5;130;01m\\n\u001b[39;00m\u001b[38;5;124m'\u001b[39m)\n",
      "File \u001b[0;32m/usr/local/lib/python3.8/dist-packages/pymongo/cursor.py:1159\u001b[0m, in \u001b[0;36mCursor.next\u001b[0;34m(self)\u001b[0m\n\u001b[1;32m   1157\u001b[0m \u001b[38;5;28;01mif\u001b[39;00m \u001b[38;5;28mself\u001b[39m\u001b[38;5;241m.\u001b[39m__empty:\n\u001b[1;32m   1158\u001b[0m     \u001b[38;5;28;01mraise\u001b[39;00m \u001b[38;5;167;01mStopIteration\u001b[39;00m\n\u001b[0;32m-> 1159\u001b[0m \u001b[38;5;28;01mif\u001b[39;00m \u001b[38;5;28mlen\u001b[39m(\u001b[38;5;28mself\u001b[39m\u001b[38;5;241m.\u001b[39m__data) \u001b[38;5;129;01mor\u001b[39;00m \u001b[38;5;28;43mself\u001b[39;49m\u001b[38;5;241;43m.\u001b[39;49m\u001b[43m_refresh\u001b[49m\u001b[43m(\u001b[49m\u001b[43m)\u001b[49m:\n\u001b[1;32m   1160\u001b[0m     \u001b[38;5;28;01mreturn\u001b[39;00m \u001b[38;5;28mself\u001b[39m\u001b[38;5;241m.\u001b[39m__data\u001b[38;5;241m.\u001b[39mpopleft()\n\u001b[1;32m   1161\u001b[0m \u001b[38;5;28;01melse\u001b[39;00m:\n",
      "File \u001b[0;32m/usr/local/lib/python3.8/dist-packages/pymongo/cursor.py:1080\u001b[0m, in \u001b[0;36mCursor._refresh\u001b[0;34m(self)\u001b[0m\n\u001b[1;32m   1061\u001b[0m         \u001b[38;5;28;01mraise\u001b[39;00m InvalidOperation(\n\u001b[1;32m   1062\u001b[0m             \u001b[38;5;124m\"\u001b[39m\u001b[38;5;124mPassing a \u001b[39m\u001b[38;5;124m'\u001b[39m\u001b[38;5;124mhint\u001b[39m\u001b[38;5;124m'\u001b[39m\u001b[38;5;124m is required when using the min/max query\u001b[39m\u001b[38;5;124m\"\u001b[39m\n\u001b[1;32m   1063\u001b[0m             \u001b[38;5;124m\"\u001b[39m\u001b[38;5;124m option to ensure the query utilizes the correct index\u001b[39m\u001b[38;5;124m\"\u001b[39m)\n\u001b[1;32m   1064\u001b[0m     q \u001b[38;5;241m=\u001b[39m \u001b[38;5;28mself\u001b[39m\u001b[38;5;241m.\u001b[39m_query_class(\u001b[38;5;28mself\u001b[39m\u001b[38;5;241m.\u001b[39m__query_flags,\n\u001b[1;32m   1065\u001b[0m                           \u001b[38;5;28mself\u001b[39m\u001b[38;5;241m.\u001b[39m__collection\u001b[38;5;241m.\u001b[39mdatabase\u001b[38;5;241m.\u001b[39mname,\n\u001b[1;32m   1066\u001b[0m                           \u001b[38;5;28mself\u001b[39m\u001b[38;5;241m.\u001b[39m__collection\u001b[38;5;241m.\u001b[39mname,\n\u001b[0;32m   (...)\u001b[0m\n\u001b[1;32m   1078\u001b[0m                           \u001b[38;5;28mself\u001b[39m\u001b[38;5;241m.\u001b[39m__allow_disk_use,\n\u001b[1;32m   1079\u001b[0m                           \u001b[38;5;28mself\u001b[39m\u001b[38;5;241m.\u001b[39m__exhaust)\n\u001b[0;32m-> 1080\u001b[0m     \u001b[38;5;28;43mself\u001b[39;49m\u001b[38;5;241;43m.\u001b[39;49m\u001b[43m__send_message\u001b[49m\u001b[43m(\u001b[49m\u001b[43mq\u001b[49m\u001b[43m)\u001b[49m\n\u001b[1;32m   1081\u001b[0m \u001b[38;5;28;01melif\u001b[39;00m \u001b[38;5;28mself\u001b[39m\u001b[38;5;241m.\u001b[39m__id:  \u001b[38;5;66;03m# Get More\u001b[39;00m\n\u001b[1;32m   1082\u001b[0m     \u001b[38;5;28;01mif\u001b[39;00m \u001b[38;5;28mself\u001b[39m\u001b[38;5;241m.\u001b[39m__limit:\n",
      "File \u001b[0;32m/usr/local/lib/python3.8/dist-packages/pymongo/cursor.py:971\u001b[0m, in \u001b[0;36mCursor.__send_message\u001b[0;34m(self, operation)\u001b[0m\n\u001b[1;32m    967\u001b[0m     \u001b[38;5;28;01mraise\u001b[39;00m InvalidOperation(\n\u001b[1;32m    968\u001b[0m         \u001b[38;5;124m\"\u001b[39m\u001b[38;5;124mexhaust cursors do not support auto encryption\u001b[39m\u001b[38;5;124m\"\u001b[39m)\n\u001b[1;32m    970\u001b[0m \u001b[38;5;28;01mtry\u001b[39;00m:\n\u001b[0;32m--> 971\u001b[0m     response \u001b[38;5;241m=\u001b[39m \u001b[43mclient\u001b[49m\u001b[38;5;241;43m.\u001b[39;49m\u001b[43m_run_operation\u001b[49m\u001b[43m(\u001b[49m\n\u001b[1;32m    972\u001b[0m \u001b[43m        \u001b[49m\u001b[43moperation\u001b[49m\u001b[43m,\u001b[49m\u001b[43m \u001b[49m\u001b[38;5;28;43mself\u001b[39;49m\u001b[38;5;241;43m.\u001b[39;49m\u001b[43m_unpack_response\u001b[49m\u001b[43m,\u001b[49m\u001b[43m \u001b[49m\u001b[43maddress\u001b[49m\u001b[38;5;241;43m=\u001b[39;49m\u001b[38;5;28;43mself\u001b[39;49m\u001b[38;5;241;43m.\u001b[39;49m\u001b[43m__address\u001b[49m\u001b[43m)\u001b[49m\n\u001b[1;32m    973\u001b[0m \u001b[38;5;28;01mexcept\u001b[39;00m OperationFailure \u001b[38;5;28;01mas\u001b[39;00m exc:\n\u001b[1;32m    974\u001b[0m     \u001b[38;5;28;01mif\u001b[39;00m exc\u001b[38;5;241m.\u001b[39mcode \u001b[38;5;129;01min\u001b[39;00m _CURSOR_CLOSED_ERRORS \u001b[38;5;129;01mor\u001b[39;00m \u001b[38;5;28mself\u001b[39m\u001b[38;5;241m.\u001b[39m__exhaust:\n\u001b[1;32m    975\u001b[0m         \u001b[38;5;66;03m# Don't send killCursors because the cursor is already closed.\u001b[39;00m\n",
      "File \u001b[0;32m/usr/local/lib/python3.8/dist-packages/pymongo/mongo_client.py:1215\u001b[0m, in \u001b[0;36mMongoClient._run_operation\u001b[0;34m(self, operation, unpack_res, address)\u001b[0m\n\u001b[1;32m   1210\u001b[0m \u001b[38;5;28;01mdef\u001b[39;00m \u001b[38;5;21m_cmd\u001b[39m(session, server, sock_info, secondary_ok):\n\u001b[1;32m   1211\u001b[0m     \u001b[38;5;28;01mreturn\u001b[39;00m server\u001b[38;5;241m.\u001b[39mrun_operation(\n\u001b[1;32m   1212\u001b[0m         sock_info, operation, secondary_ok, \u001b[38;5;28mself\u001b[39m\u001b[38;5;241m.\u001b[39m_event_listeners,\n\u001b[1;32m   1213\u001b[0m         unpack_res)\n\u001b[0;32m-> 1215\u001b[0m \u001b[38;5;28;01mreturn\u001b[39;00m \u001b[38;5;28;43mself\u001b[39;49m\u001b[38;5;241;43m.\u001b[39;49m\u001b[43m_retryable_read\u001b[49m\u001b[43m(\u001b[49m\n\u001b[1;32m   1216\u001b[0m \u001b[43m    \u001b[49m\u001b[43m_cmd\u001b[49m\u001b[43m,\u001b[49m\u001b[43m \u001b[49m\u001b[43moperation\u001b[49m\u001b[38;5;241;43m.\u001b[39;49m\u001b[43mread_preference\u001b[49m\u001b[43m,\u001b[49m\u001b[43m \u001b[49m\u001b[43moperation\u001b[49m\u001b[38;5;241;43m.\u001b[39;49m\u001b[43msession\u001b[49m\u001b[43m,\u001b[49m\n\u001b[1;32m   1217\u001b[0m \u001b[43m    \u001b[49m\u001b[43maddress\u001b[49m\u001b[38;5;241;43m=\u001b[39;49m\u001b[43maddress\u001b[49m\u001b[43m,\u001b[49m\u001b[43m \u001b[49m\u001b[43mretryable\u001b[49m\u001b[38;5;241;43m=\u001b[39;49m\u001b[38;5;28;43misinstance\u001b[39;49m\u001b[43m(\u001b[49m\u001b[43moperation\u001b[49m\u001b[43m,\u001b[49m\u001b[43m \u001b[49m\u001b[43mmessage\u001b[49m\u001b[38;5;241;43m.\u001b[39;49m\u001b[43m_Query\u001b[49m\u001b[43m)\u001b[49m\u001b[43m)\u001b[49m\n",
      "File \u001b[0;32m/usr/local/lib/python3.8/dist-packages/pymongo/mongo_client.py:1313\u001b[0m, in \u001b[0;36mMongoClient._retryable_read\u001b[0;34m(self, func, read_pref, session, address, retryable)\u001b[0m\n\u001b[1;32m   1309\u001b[0m         \u001b[38;5;28;01mif\u001b[39;00m retrying \u001b[38;5;129;01mand\u001b[39;00m \u001b[38;5;129;01mnot\u001b[39;00m retryable:\n\u001b[1;32m   1310\u001b[0m             \u001b[38;5;66;03m# A retry is not possible because this server does\u001b[39;00m\n\u001b[1;32m   1311\u001b[0m             \u001b[38;5;66;03m# not support retryable reads, raise the last error.\u001b[39;00m\n\u001b[1;32m   1312\u001b[0m             \u001b[38;5;28;01mraise\u001b[39;00m last_error\n\u001b[0;32m-> 1313\u001b[0m         \u001b[38;5;28;01mreturn\u001b[39;00m \u001b[43mfunc\u001b[49m\u001b[43m(\u001b[49m\u001b[43msession\u001b[49m\u001b[43m,\u001b[49m\u001b[43m \u001b[49m\u001b[43mserver\u001b[49m\u001b[43m,\u001b[49m\u001b[43m \u001b[49m\u001b[43msock_info\u001b[49m\u001b[43m,\u001b[49m\u001b[43m \u001b[49m\u001b[43msecondary_ok\u001b[49m\u001b[43m)\u001b[49m\n\u001b[1;32m   1314\u001b[0m \u001b[38;5;28;01mexcept\u001b[39;00m ServerSelectionTimeoutError:\n\u001b[1;32m   1315\u001b[0m     \u001b[38;5;28;01mif\u001b[39;00m retrying:\n\u001b[1;32m   1316\u001b[0m         \u001b[38;5;66;03m# The application may think the write was never attempted\u001b[39;00m\n\u001b[1;32m   1317\u001b[0m         \u001b[38;5;66;03m# if we raise ServerSelectionTimeoutError on the retry\u001b[39;00m\n\u001b[1;32m   1318\u001b[0m         \u001b[38;5;66;03m# attempt. Raise the original exception instead.\u001b[39;00m\n",
      "File \u001b[0;32m/usr/local/lib/python3.8/dist-packages/pymongo/mongo_client.py:1211\u001b[0m, in \u001b[0;36mMongoClient._run_operation.<locals>._cmd\u001b[0;34m(session, server, sock_info, secondary_ok)\u001b[0m\n\u001b[1;32m   1210\u001b[0m \u001b[38;5;28;01mdef\u001b[39;00m \u001b[38;5;21m_cmd\u001b[39m(session, server, sock_info, secondary_ok):\n\u001b[0;32m-> 1211\u001b[0m     \u001b[38;5;28;01mreturn\u001b[39;00m \u001b[43mserver\u001b[49m\u001b[38;5;241;43m.\u001b[39;49m\u001b[43mrun_operation\u001b[49m\u001b[43m(\u001b[49m\n\u001b[1;32m   1212\u001b[0m \u001b[43m        \u001b[49m\u001b[43msock_info\u001b[49m\u001b[43m,\u001b[49m\u001b[43m \u001b[49m\u001b[43moperation\u001b[49m\u001b[43m,\u001b[49m\u001b[43m \u001b[49m\u001b[43msecondary_ok\u001b[49m\u001b[43m,\u001b[49m\u001b[43m \u001b[49m\u001b[38;5;28;43mself\u001b[39;49m\u001b[38;5;241;43m.\u001b[39;49m\u001b[43m_event_listeners\u001b[49m\u001b[43m,\u001b[49m\n\u001b[1;32m   1213\u001b[0m \u001b[43m        \u001b[49m\u001b[43munpack_res\u001b[49m\u001b[43m)\u001b[49m\n",
      "File \u001b[0;32m/usr/local/lib/python3.8/dist-packages/pymongo/server.py:129\u001b[0m, in \u001b[0;36mServer.run_operation\u001b[0;34m(self, sock_info, operation, set_secondary_okay, listeners, unpack_res)\u001b[0m\n\u001b[1;32m    127\u001b[0m         first \u001b[38;5;241m=\u001b[39m docs[\u001b[38;5;241m0\u001b[39m]\n\u001b[1;32m    128\u001b[0m         operation\u001b[38;5;241m.\u001b[39mclient\u001b[38;5;241m.\u001b[39m_process_response(first, operation\u001b[38;5;241m.\u001b[39msession)\n\u001b[0;32m--> 129\u001b[0m         \u001b[43m_check_command_response\u001b[49m\u001b[43m(\u001b[49m\u001b[43mfirst\u001b[49m\u001b[43m,\u001b[49m\u001b[43m \u001b[49m\u001b[43msock_info\u001b[49m\u001b[38;5;241;43m.\u001b[39;49m\u001b[43mmax_wire_version\u001b[49m\u001b[43m)\u001b[49m\n\u001b[1;32m    130\u001b[0m \u001b[38;5;28;01mexcept\u001b[39;00m \u001b[38;5;167;01mException\u001b[39;00m \u001b[38;5;28;01mas\u001b[39;00m exc:\n\u001b[1;32m    131\u001b[0m     \u001b[38;5;28;01mif\u001b[39;00m publish:\n",
      "File \u001b[0;32m/usr/local/lib/python3.8/dist-packages/pymongo/helpers.py:157\u001b[0m, in \u001b[0;36m_check_command_response\u001b[0;34m(response, max_wire_version, allowable_errors, parse_write_concern_error)\u001b[0m\n\u001b[1;32m    155\u001b[0m \u001b[38;5;28;01mif\u001b[39;00m code \u001b[38;5;129;01mis\u001b[39;00m \u001b[38;5;129;01mnot\u001b[39;00m \u001b[38;5;28;01mNone\u001b[39;00m:\n\u001b[1;32m    156\u001b[0m     \u001b[38;5;28;01mif\u001b[39;00m code \u001b[38;5;129;01min\u001b[39;00m _NOT_PRIMARY_CODES:\n\u001b[0;32m--> 157\u001b[0m         \u001b[38;5;28;01mraise\u001b[39;00m NotPrimaryError(errmsg, response)\n\u001b[1;32m    158\u001b[0m \u001b[38;5;28;01melif\u001b[39;00m HelloCompat\u001b[38;5;241m.\u001b[39mLEGACY_ERROR \u001b[38;5;129;01min\u001b[39;00m errmsg \u001b[38;5;129;01mor\u001b[39;00m \u001b[38;5;124m\"\u001b[39m\u001b[38;5;124mnode is recovering\u001b[39m\u001b[38;5;124m\"\u001b[39m \u001b[38;5;129;01min\u001b[39;00m errmsg:\n\u001b[1;32m    159\u001b[0m     \u001b[38;5;28;01mraise\u001b[39;00m NotPrimaryError(errmsg, response)\n",
      "\u001b[0;31mNotPrimaryError\u001b[0m: not primary and secondaryOk=false, full error: {'topologyVersion': {'processId': ObjectId('62127de31a992e6acb3851b3'), 'counter': 12}, 'operationTime': Timestamp(1645379731, 2), 'ok': 0.0, 'errmsg': 'not primary and secondaryOk=false', 'code': 13435, 'codeName': 'NotPrimaryNoSecondaryOk', '$clusterTime': {'clusterTime': Timestamp(1645379731, 2), 'signature': {'hash': b'\\x00\\x00\\x00\\x00\\x00\\x00\\x00\\x00\\x00\\x00\\x00\\x00\\x00\\x00\\x00\\x00\\x00\\x00\\x00\\x00', 'keyId': 0}}}"
     ]
    }
   ],
   "source": [
    "item = items[8]\n",
    "\n",
    "ids = db.items.with_options(write_concern=WriteConcern(w=1)).insert_one(item).inserted_id\n",
    "print(ids)\n",
    "\n",
    "response = db.items.with_options(read_preference=ReadPreference.PRIMARY).find({'category': 'Wearables'})\n",
    "print('readConcern: <default>')\n",
    "print(*list(response), sep='\\n')\n",
    "\n",
    "response = db.items.with_options(read_concern=ReadConcern(level='local')).find({'category': 'Wearables'})\n",
    "print('readConcern: \"local\"')\n",
    "print(*list(response), sep='\\n')\n",
    "\n",
    "response = db.items.with_options(read_concern=ReadConcern(level='majority')).find({'category': 'Wearables'})\n",
    "print('readConcern: \"majority\"')\n",
    "print(*list(response), sep='\\n')\n",
    "\n",
    "response = db.items.with_options(read_concern=ReadConcern(level='linearizable')).find({'category': 'Wearables'})\n",
    "print('readConcern: \"linearizable\"')\n",
    "print(*list(response), sep='\\n')"
   ]
  },
  {
   "cell_type": "markdown",
   "metadata": {},
   "source": [
    "Switch on two other nodes so that, they can't communicate with Primary node (could be switched off) and wait until elections of new Primary node is completed"
   ]
  },
  {
   "cell_type": "code",
   "execution_count": 241,
   "metadata": {},
   "outputs": [
    {
     "name": "stdout",
     "output_type": "stream",
     "text": [
      "{'_id': 1, 'name': 'mongodb_node_1:27017', 'health': 0.0, 'stateStr': '(not reachable/healthy)'}\n",
      "{'_id': 2, 'name': 'mongodb_node_2:27017', 'health': 1.0, 'stateStr': 'SECONDARY'}\n",
      "{'_id': 3, 'name': 'mongodb_node_3:27017', 'health': 1.0, 'stateStr': 'PRIMARY'}\n"
     ]
    }
   ],
   "source": [
    "members = connection.admin.command('replSetGetStatus')['members']\n",
    "members_status = [{'_id': member['_id'], 'name': member['name'], 'health': member['health'], 'stateStr': member['stateStr']}for member in members]\n",
    "print(*members_status, sep='\\n')"
   ]
  },
  {
   "cell_type": "markdown",
   "metadata": {},
   "source": [
    "Switch on old Primary node and demonstrate the availability of previously writen documents "
   ]
  },
  {
   "cell_type": "code",
   "execution_count": 244,
   "metadata": {},
   "outputs": [
    {
     "name": "stdout",
     "output_type": "stream",
     "text": [
      "{'_id': 1, 'name': 'mongodb_node_1:27017', 'health': 1.0, 'stateStr': 'SECONDARY'}\n",
      "{'_id': 2, 'name': 'mongodb_node_2:27017', 'health': 1.0, 'stateStr': 'SECONDARY'}\n",
      "{'_id': 3, 'name': 'mongodb_node_3:27017', 'health': 1.0, 'stateStr': 'PRIMARY'}\n"
     ]
    }
   ],
   "source": [
    "members = connection.admin.command('replSetGetStatus')['members']\n",
    "members_status = [{'_id': member['_id'], 'name': member['name'], 'health': member['health'], 'stateStr': member['stateStr']}for member in members]\n",
    "print(*members_status, sep='\\n')"
   ]
  },
  {
   "cell_type": "code",
   "execution_count": 247,
   "metadata": {},
   "outputs": [
    {
     "name": "stdout",
     "output_type": "stream",
     "text": [
      "Cheking if document available:\n",
      "\n"
     ]
    }
   ],
   "source": [
    "response = db.items.find({'category': 'Wearables'})\n",
    "print('Cheking if document available:')\n",
    "print(*list(response), sep='\\n')"
   ]
  },
  {
   "cell_type": "markdown",
   "metadata": {},
   "source": [
    "#### Task 8\n",
    "\n",
    "Emulate eventual consistency by setting a delay for secondary node replication"
   ]
  },
  {
   "cell_type": "markdown",
   "metadata": {},
   "source": [
    "    rs0:PRIMARY> cfg = rs.conf()\n",
    "    {\n",
    "            \"_id\" : \"rs0\",\n",
    "            \"version\" : 1,\n",
    "            \"term\" : 11,\n",
    "            \"protocolVersion\" : NumberLong(1),\n",
    "            \"writeConcernMajorityJournalDefault\" : true,\n",
    "            \"members\" : [\n",
    "                    {\n",
    "                            \"_id\" : 1,     \n",
    "                            \"host\" : \"mongodb_node_1:27017\",\n",
    "                            \"arbiterOnly\" : false,\n",
    "                            \"buildIndexes\" \n",
    "    : true,\n",
    "                            \"hidden\" : false,\n",
    "                            \"priority\" : 1,                        \"tags\" : {     \n",
    "\n",
    "                            },\n",
    "                            \"slaveDelay\" : \n",
    "    NumberLong(0),\n",
    "                            \"votes\" : 1    \n",
    "                    },\n",
    "                    {\n",
    "                            \"_id\" : 2,     \n",
    "                            \"host\" : \"mongodb_node_2:27017\",\n",
    "                            \"arbiterOnly\" : false,\n",
    "                            \"buildIndexes\" \n",
    "    : true,\n",
    "                            \"hidden\" : false,\n",
    "                            \"priority\" : 1,                        \"tags\" : {     \n",
    "\n",
    "                            },\n",
    "                            \"slaveDelay\" : \n",
    "    NumberLong(0),\n",
    "                            \"votes\" : 1    \n",
    "                    },\n",
    "                    {\n",
    "                            \"_id\" : 3,     \n",
    "                            \"host\" : \"mongodb_node_3:27017\",\n",
    "                            \"arbiterOnly\" : false,\n",
    "                            \"buildIndexes\" \n",
    "    : true,\n",
    "                            \"hidden\" : false,\n",
    "                            \"priority\" : 1,                        \"tags\" : {     \n",
    "\n",
    "                            },\n",
    "                            \"slaveDelay\" : \n",
    "    NumberLong(0),\n",
    "                            \"votes\" : 1    \n",
    "                    }\n",
    "            ],\n",
    "            \"settings\" : {\n",
    "                    \"chainingAllowed\" : true,\n",
    "                    \"heartbeatIntervalMillis\" : 2000,\n",
    "                    \"heartbeatTimeoutSecs\" \n",
    "    : 10,\n",
    "                    \"electionTimeoutMillis\" : 10000,\n",
    "                    \"catchUpTimeoutMillis\" \n",
    "    : -1,\n",
    "                    \"catchUpTakeoverDelayMillis\" : 30000,\n",
    "                    \"getLastErrorModes\" : {\n",
    "                    },\n",
    "                    \"getLastErrorDefaults\" \n",
    "    : {\n",
    "                            \"w\" : 1,       \n",
    "                            \"wtimeout\" : 0 \n",
    "                    },\n",
    "                    \"replicaSetId\" : ObjectId(\"621245d3e64690eaa1330907\")\n",
    "            }\n",
    "    }\n",
    "    rs0:PRIMARY> cfg.members[0]\n",
    "    {\n",
    "            \"_id\" : 1,\n",
    "            \"host\" : \"mongodb_node_1:27017\",\n",
    "            \"arbiterOnly\" : false,\n",
    "            \"buildIndexes\" : true,\n",
    "            \"hidden\" : false,\n",
    "            \"priority\" : 1,\n",
    "            \"tags\" : {\n",
    "\n",
    "            },\n",
    "            \"slaveDelay\" : NumberLong(0),  \n",
    "            \"votes\" : 1\n",
    "    }\n",
    "    rs0:PRIMARY> cfg.members[0].priority = 0\n",
    "    0\n",
    "    rs0:PRIMARY> cfg.members[0].hidden = true\n",
    "    true\n",
    "    rs0:PRIMARY> cfg.members[0].slaveDelay = 30\n",
    "    30\n",
    "    rs0:PRIMARY> rs.reconfig(cfg)\n",
    "    {\n",
    "            \"ok\" : 1,\n",
    "            \"$clusterTime\" : {\n",
    "                    \"clusterTime\" : Timestamp(1645387102, 1),\n",
    "                    \"signature\" : {\n",
    "                            \"hash\" : BinData(0,\"AAAAAAAAAAAAAAAAAAAAAAAAAAA=\"),\n",
    "                            \"keyId\" : NumberLong(0)\n",
    "                    }\n",
    "            },\n",
    "            \"operationTime\" : Timestamp(1645387102, 1)\n",
    "    }"
   ]
  },
  {
   "cell_type": "code",
   "execution_count": 291,
   "metadata": {},
   "outputs": [
    {
     "name": "stdout",
     "output_type": "stream",
     "text": [
      "{'_id': 1, 'name': 'mongodb_node_1:27017', 'health': 1.0, 'stateStr': 'SECONDARY'}\n",
      "{'_id': 2, 'name': 'mongodb_node_2:27017', 'health': 0.0, 'stateStr': '(not reachable/healthy)'}\n",
      "{'_id': 3, 'name': 'mongodb_node_3:27017', 'health': 1.0, 'stateStr': 'PRIMARY'}\n"
     ]
    }
   ],
   "source": [
    "members = connection.admin.command('replSetGetStatus')['members']\n",
    "members_status = [\n",
    "    {\n",
    "        '_id': member['_id'], \n",
    "        'name': member['name'], \n",
    "        'health': member['health'], \n",
    "        'stateStr': member['stateStr'],\n",
    "    } for member in members\n",
    "]\n",
    "print(*members_status, sep='\\n')"
   ]
  },
  {
   "cell_type": "markdown",
   "metadata": {},
   "source": [
    "#### Task 9\n",
    "\n",
    "Leaving Primary and Secondary nodes with set up delay. Try to write several documents. Then try to read writen documents with readConcern: {level: \"linearizable\"}. There should be noticable latency until documents is replicating to the majority."
   ]
  },
  {
   "cell_type": "code",
   "execution_count": 298,
   "metadata": {},
   "outputs": [],
   "source": [
    "db.items.drop({})"
   ]
  },
  {
   "cell_type": "code",
   "execution_count": 299,
   "metadata": {},
   "outputs": [
    {
     "name": "stdout",
     "output_type": "stream",
     "text": [
      "\n",
      "Query took: 0.005718231201171875 sec\n"
     ]
    }
   ],
   "source": [
    "start = time.time()\n",
    "response = db.items.find({})\n",
    "print(*list(response), sep='\\n')\n",
    "end = time.time()\n",
    "print(f'Query took: {end-start} sec')"
   ]
  },
  {
   "cell_type": "code",
   "execution_count": 300,
   "metadata": {},
   "outputs": [
    {
     "name": "stdout",
     "output_type": "stream",
     "text": [
      "7\n",
      "8\n",
      "9\n",
      "10\n",
      "[2, 3, 4]\n"
     ]
    }
   ],
   "source": [
    "id = db.items.with_options(write_concern=WriteConcern(w=0)).insert_one(items[6]).inserted_id\n",
    "print(id)\n",
    "\n",
    "id = db.items.with_options(write_concern=WriteConcern(w=0)).insert_one(items[7]).inserted_id\n",
    "print(id)\n",
    "\n",
    "id = db.items.with_options(write_concern=WriteConcern(w=0)).insert_one(items[8]).inserted_id\n",
    "print(id)\n",
    "\n",
    "id = db.items.with_options(write_concern=WriteConcern(w=0)).insert_one(items[9]).inserted_id\n",
    "print(id)\n",
    "\n",
    "ids = db.items.with_options(write_concern=WriteConcern(w=0)).insert_many(items[1:4]).inserted_ids\n",
    "print(ids)\n"
   ]
  },
  {
   "cell_type": "code",
   "execution_count": 301,
   "metadata": {},
   "outputs": [
    {
     "name": "stdout",
     "output_type": "stream",
     "text": [
      "{'_id': 7, 'item': 'Galaxy S21 Plus', 'price': 23999, 'producer': 'Samsung', 'category': 'Smartphones'}\n",
      "{'_id': 8, 'item': 'Galaxy S21 Ultra', 'price': 39999, 'producer': 'Samsung', 'category': 'Smartphones'}\n",
      "{'_id': 2, 'item': 'Ipnone 13', 'price': 29999, 'producer': 'Apple', 'category': 'Smartphones'}\n",
      "{'_id': 3, 'item': 'Ipnone 13 Pro', 'price': 37499, 'producer': 'Apple', 'category': 'Smartphones'}\n",
      "{'_id': 4, 'item': 'Ipnone 13 Pro Max', 'memory': '128Gb', 'price': 41499, 'producer': 'Apple', 'category': 'Smartphones'}\n",
      "Query took: 30.16016125679016 sec\n"
     ]
    }
   ],
   "source": [
    "start = time.time()\n",
    "response = db.items.with_options(read_concern=ReadConcern(level='linearizable')).find({'category': 'Smartphones'})\n",
    "print(*list(response), sep='\\n')\n",
    "end = time.time()\n",
    "print(f'Query took: {end-start} sec')"
   ]
  }
 ],
 "metadata": {
  "interpreter": {
   "hash": "4296a99471eb705c49dec4020f0212abd0a2c99e809a04ecfa289b1b30a51b57"
  },
  "kernelspec": {
   "display_name": "Python 3 (ipykernel)",
   "language": "python",
   "name": "python3"
  },
  "language_info": {
   "codemirror_mode": {
    "name": "ipython",
    "version": 3
   },
   "file_extension": ".py",
   "mimetype": "text/x-python",
   "name": "python",
   "nbconvert_exporter": "python",
   "pygments_lexer": "ipython3",
   "version": "3.8.10"
  }
 },
 "nbformat": 4,
 "nbformat_minor": 2
}
